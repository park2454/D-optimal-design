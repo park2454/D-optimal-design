{
 "cells": [
  {
   "cell_type": "markdown",
   "metadata": {},
   "source": [
    "## Compartment model, mean response D-optimal"
   ]
  },
  {
   "cell_type": "code",
   "execution_count": 1,
   "metadata": {},
   "outputs": [
    {
     "data": {
      "text/plain": [
       "pso (generic function with 1 method)"
      ]
     },
     "execution_count": 1,
     "metadata": {},
     "output_type": "execute_result"
    }
   ],
   "source": [
    "using LinearAlgebra\n",
    "using PyPlot\n",
    "using Random\n",
    "using NPZ\n",
    "using Dates\n",
    "\n",
    "# projection function onto the design space\n",
    "function proj(x)\n",
    "    a = x[1:p*k]\n",
    "    b = x[(1:k) .+ (p*k)]\n",
    "    \n",
    "    a = reshape(a,p,k)\n",
    "    a = max.(a,design[:,1])\n",
    "    a = min.(a,design[:,2])\n",
    "    a = reshape(a,p*k)\n",
    "    \n",
    "    u = sort(b, rev=true)\n",
    "    j = k\n",
    "    while true\n",
    "        if u[j] + 1/j*(1-cumsum(u)[j]) > 0\n",
    "            break\n",
    "        end\n",
    "        j -= 1\n",
    "    end\n",
    "    lambda = 1/j*(1-cumsum(u)[j])\n",
    "    b = max.(b .+ lambda,0)\n",
    "    \n",
    "    return [a;b]\n",
    "end\n",
    "\n",
    "function proj2(x)\n",
    "    x = max.(x,design2[:,1])\n",
    "    x = min.(x,design2[:,2])\n",
    "    return x\n",
    "end\n",
    "\n",
    "function pso2(xx,lp2)\n",
    "    #initialize\n",
    "    #srand(1992)\n",
    "    path2 = zeros(niter2)\n",
    "    tau2 = 0.9:(-0.5/niter2):0.4\n",
    "    v2 = zeros(nptc2, p2)\n",
    "    ptc2 = rand(nptc2, p2)\n",
    "    for j2 in 1:p2\n",
    "            ptc2[:,j2] = (design2[j2,2] - design2[j2,1]) * ptc2[:,j2] .+ design2[j2,1]\n",
    "    end\n",
    "    pbesth2 = zeros(nptc2)\n",
    "    pbest2 = ptc2\n",
    "    for j2 in 1:nptc2\n",
    "        pbesth2[j2] = obj(xx,pbest2[j2,:])\n",
    "    end\n",
    "    gbesth2 = findmax(pbesth2)[1]\n",
    "    gbest2 = pbest2[findmax(pbesth2)[2],:]\n",
    "\n",
    "    #iterate\n",
    "    for i2 in 1:niter2 # iteration number\n",
    "        for j2 in 1:nptc2 # particle number\n",
    "            g12 = rand(p2)\n",
    "            g22 = rand(p2)\n",
    "            v2[j2,:] = tau2[i2] .*v2[j2,:] + lp2 .* g12 .*(pbest2[j2,:]-ptc2[j2,:]) + lp2 .* g22 .*(gbest2-ptc2[j2,:])\n",
    "            ptc2[j2,:] = ptc2[j2,:] + v2[j2,:]\n",
    "            ptc2[j2,:] = proj2(ptc2[j2,:])\n",
    "            fit2 = obj(xx,ptc2[j2,:])\n",
    "            if fit2 > gbesth2\n",
    "                gbesth2 = pbesth2[j2] = fit2\n",
    "                gbest2 = pbest2[j2,:] = ptc2[j2,:]\n",
    "            elseif fit2 > pbesth2[j2]\n",
    "                pbesth2[j2] = fit2\n",
    "                pbest2[j2,:] = ptc2[j2,:]\n",
    "            end\n",
    "        end\n",
    "        path2[i2] = gbesth2\n",
    "    end\n",
    "    return [gbesth2; gbest2; path2]\n",
    "end\n",
    "\n",
    "function pso(lp,lp2)\n",
    "    #initialize\n",
    "    #srand(1992)\n",
    "    path = zeros(niter)\n",
    "    tau = 0.9:(-0.5/niter):0.4\n",
    "    v = zeros(nptc, p*k+k)\n",
    "    x = rand(nptc,p*k)\n",
    "    for j in 1:p\n",
    "        x[:,p*(1:k).+(j-p)] = (design[j,2]-design[j,1]) * x[:,p*(1:k).+(j-p)] .+ design[j,1]\n",
    "    end    \n",
    "    w = randexp(nptc,k)\n",
    "    for j in 1:nptc\n",
    "            w[j,:] = w[j,:] ./ sum(w[j,:])\n",
    "    end\n",
    "    ptc = hcat(x,w)\n",
    "    pbest = ptc\n",
    "    pbesth = zeros(nptc)\n",
    "    for j in 1:nptc\n",
    "        pbesth[j] = pso2(pbest[j,:],lp2)[1]\n",
    "    end\n",
    "    gbesth = findmin(pbesth)[1]\n",
    "    gbest = pbest[findmin(pbesth)[2],:]\n",
    "    \n",
    "    tbest = zeros(p2)\n",
    "    \n",
    "    #iterate\n",
    "    for i in 1:niter # iteration number\n",
    "        for j in 1:nptc # particle number\n",
    "            g1 = rand(p*k+k)\n",
    "            g2 = rand(p*k+k)\n",
    "            v[j,:] = tau[i] .*v[j,:] + lp .* g1 .*(pbest[j,:]-ptc[j,:]) + lp .* g2 .*(gbest-ptc[j,:])\n",
    "            ptc[j,:] = ptc[j,:] + v[j,:]\n",
    "            ptc[j,:] = proj(ptc[j,:])\n",
    "            fit = pso2(ptc[j,:],lp2)\n",
    "            if fit[1] < gbesth\n",
    "                gbest = pbest[j,:] = ptc[j,:]\n",
    "                gbesth = pbesth[j] = fit[1]\n",
    "                tbest = fit[(1:p2) .+ 1]\n",
    "            elseif fit[1] < pbesth[j]\n",
    "                pbest[j,:] = ptc[j,:]\n",
    "                pbesth[j] = fit[1]\n",
    "            end\n",
    "        end\n",
    "        path[i] = gbesth\n",
    "    end\n",
    "    \n",
    "    return [gbesth; gbest; tbest; path]\n",
    "end"
   ]
  },
  {
   "cell_type": "code",
   "execution_count": 2,
   "metadata": {},
   "outputs": [
    {
     "data": {
      "text/plain": [
       "obj (generic function with 1 method)"
      ]
     },
     "execution_count": 2,
     "metadata": {},
     "output_type": "execute_result"
    }
   ],
   "source": [
    "function obj(eta, theta)\n",
    "    mat = zeros(3,3)\n",
    "    a = eta[1:k]\n",
    "    b = eta[(1:k).+k]\n",
    "    for i in 1:k\n",
    "        c1 = a[i]*theta[3]*exp(-theta[1]*a[i])\n",
    "        c2 = -a[i]*theta[3]*exp(-theta[2]*a[i]) \n",
    "        c3 = exp(-theta[2]*a[i])-exp(-theta[1]*a[i])\n",
    "        f = [c1, c2, c3]\n",
    "        mat = mat + b[i] .* f*f'\n",
    "    end\n",
    "    if det(mat) < 10.0^-6\n",
    "        return Inf\n",
    "    else\n",
    "        return -log(det(mat))\n",
    "    end\n",
    "end"
   ]
  },
  {
   "cell_type": "code",
   "execution_count": 3,
   "metadata": {
    "scrolled": true
   },
   "outputs": [
    {
     "name": "stdout",
     "output_type": "stream",
     "text": [
      "##### Simulation starts at 18:12:46.354\n",
      "########## SIMULATION FINISHED, CHECK THE RESULTS, 18:25:50.573\n"
     ]
    }
   ],
   "source": [
    "# outer loop\n",
    "k = 3\n",
    "nptc = 100\n",
    "niter = 100\n",
    "design = [0 30]\n",
    "p = size(design)[1]\n",
    "\n",
    "# inner loop\n",
    "nptc2 = 1\n",
    "niter2 = 1\n",
    "design2 = [0.05884 0.05884 ; 4.298 4.2980 ; 21.8 21.8]\n",
    "p2 = size(design2)[1]\n",
    "\n",
    "nsim = 1000\n",
    "output = zeros(nsim, 1+p*k+k+p2+niter)\n",
    "\n",
    "println(\"##### Simulation starts at $(Dates.Time(Dates.now()))\")\n",
    "\n",
    "for rp in 1:nsim\n",
    "    output[rp,:] = pso(2,2)\n",
    "end\n",
    "println(\"########## SIMULATION FINISHED, CHECK THE RESULTS, $(Dates.Time(Dates.now()))\")"
   ]
  },
  {
   "cell_type": "code",
   "execution_count": 4,
   "metadata": {
    "scrolled": false
   },
   "outputs": [
    {
     "data": {
      "image/png": "[encoded data removed]",
      "text/plain": [
       "Figure(PyObject <matplotlib.figure.Figure object at 0x7fde381ab198>)"
      ]
     },
     "metadata": {},
     "output_type": "display_data"
    },
    {
     "data": {
      "text/plain": [
       "1-element Array{PyCall.PyObject,1}:\n",
       " PyObject <matplotlib.lines.Line2D object at 0x7fde4212bcf8>"
      ]
     },
     "execution_count": 4,
     "metadata": {},
     "output_type": "execute_result"
    }
   ],
   "source": [
    "plot(sort(output[:,1]))"
   ]
  },
  {
   "cell_type": "code",
   "execution_count": 5,
   "metadata": {
    "scrolled": false
   },
   "outputs": [
    {
     "data": {
      "text/plain": [
       "Summary Stats:\n",
       "Length:         1000\n",
       "Missing Count:  0\n",
       "Mean:           -7.298732\n",
       "Minimum:        -7.388692\n",
       "1st Quartile:   -7.388692\n",
       "Median:         -7.388692\n",
       "3rd Quartile:   -7.066254\n",
       "Maximum:        -7.066254\n"
      ]
     },
     "execution_count": 5,
     "metadata": {},
     "output_type": "execute_result"
    }
   ],
   "source": [
    "using StatsBase\n",
    "\n",
    "indmin = findmin(output[:,1])[2]\n",
    "indmax = findmax(output[:,1])[2]\n",
    "\n",
    "summarystats(output[:,1])"
   ]
  },
  {
   "cell_type": "code",
   "execution_count": 6,
   "metadata": {},
   "outputs": [
    {
     "data": {
      "text/plain": [
       "0.279"
      ]
     },
     "execution_count": 6,
     "metadata": {},
     "output_type": "execute_result"
    }
   ],
   "source": [
    "mean(output[:,1] .> mean(output[:,1]))"
   ]
  },
  {
   "cell_type": "code",
   "execution_count": null,
   "metadata": {},
   "outputs": [],
   "source": [
    "function eff(input)\n",
    "    x = input[(1:p*k) .+ 1]\n",
    "    w = input[(1:k) .+ (1+p*k)]\n",
    "    theta = input[(1:p2) .+ (1+p*k+k)]\n",
    "    mat = zeros(3,3)\n",
    "    for i in 1:k\n",
    "        c1 = x[i]*theta[3]*exp(-theta[1]*x[i])\n",
    "        c2 = -x[i]*theta[3]*exp(-theta[2]*x[i]) \n",
    "        c3 = exp(-theta[2]*x[i])-exp(-theta[1]*x[i])\n",
    "        f = [c1, c2, c3]\n",
    "        mat = mat + w[i] .* f*f'\n",
    "    end\n",
    "    mati = inv(mat)\n",
    "    M = -Inf\n",
    "    for x in design[1]:0.001:design[2]\n",
    "        c1 = x*theta[3]*exp(-theta[1]*x)\n",
    "        c2 = -x*theta[3]*exp(-theta[2]*x) \n",
    "        c3 = exp(-theta[2]*x)-exp(-theta[1]*x)\n",
    "        f = [c1, c2, c3]\n",
    "        temp = f'*mati*f\n",
    "        M = max(M,temp)\n",
    "    end\n",
    "    return(3/M)\n",
    "end       "
   ]
  },
  {
   "cell_type": "code",
   "execution_count": null,
   "metadata": {},
   "outputs": [],
   "source": [
    "println(eff(output[indmin,:]))\n",
    "println(eff(output[indmax,:]))"
   ]
  },
  {
   "cell_type": "code",
   "execution_count": null,
   "metadata": {
    "collapsed": true
   },
   "outputs": [],
   "source": []
  },
  {
   "cell_type": "code",
   "execution_count": null,
   "metadata": {},
   "outputs": [],
   "source": [
    "# outer loop\n",
    "k = 3\n",
    "nptc = 100\n",
    "niter = 100\n",
    "design = [0 40]\n",
    "p = size(design)[1]\n",
    "\n",
    "# inner loop\n",
    "nptc2 = 1\n",
    "niter2 = 1\n",
    "design2 = [0.05884 0.05884 ; 4.298 4.2980 ; 21.8 21.8]\n",
    "p2 = size(design2)[1]\n",
    "\n",
    "nsim = 1000\n",
    "output = zeros(nsim, 1+p*k+k+p2+niter)\n",
    "\n",
    "println(\"##### Simulation starts at $(Dates.Time(Dates.now()))\")\n",
    "\n",
    "for rp in 1:nsim\n",
    "    output[rp,:] = pso(2,2)\n",
    "end\n",
    "\n",
    "println(\"########## SIMULATION FINISHED, CHECK THE RESULTS, $(Dates.Time(Dates.now()))\")"
   ]
  },
  {
   "cell_type": "code",
   "execution_count": null,
   "metadata": {
    "scrolled": false
   },
   "outputs": [],
   "source": [
    "plot(sort(output[:,1]))"
   ]
  },
  {
   "cell_type": "code",
   "execution_count": null,
   "metadata": {
    "scrolled": false
   },
   "outputs": [],
   "source": [
    "using StatsBase\n",
    "\n",
    "indmin = findmin(output[:,1])[2]\n",
    "indmax = findmax(output[:,1])[2]\n",
    "\n",
    "summarystats(output[:,1])"
   ]
  },
  {
   "cell_type": "code",
   "execution_count": null,
   "metadata": {},
   "outputs": [],
   "source": [
    "mean(output[:,1] .> mean(output[:,1]))"
   ]
  },
  {
   "cell_type": "code",
   "execution_count": null,
   "metadata": {},
   "outputs": [],
   "source": [
    "function eff(input)\n",
    "    x = input[(1:p*k) .+ 1]\n",
    "    w = input[(1:k) .+ (1+p*k)]\n",
    "    theta = input[(1:p2) .+ (1+p*k+k)]\n",
    "    mat = zeros(3,3)\n",
    "    for i in 1:k\n",
    "        c1 = x[i]*theta[3]*exp(-theta[1]*x[i])\n",
    "        c2 = -x[i]*theta[3]*exp(-theta[2]*x[i]) \n",
    "        c3 = exp(-theta[2]*x[i])-exp(-theta[1]*x[i])\n",
    "        f = [c1, c2, c3]\n",
    "        mat = mat + w[i] .* f*f'\n",
    "    end\n",
    "    mati = inv(mat)\n",
    "    M = -Inf\n",
    "    for x in design[1]:0.001:design[2]\n",
    "        c1 = x*theta[3]*exp(-theta[1]*x)\n",
    "        c2 = -x*theta[3]*exp(-theta[2]*x) \n",
    "        c3 = exp(-theta[2]*x)-exp(-theta[1]*x)\n",
    "        f = [c1, c2, c3]\n",
    "        temp = f'*mati*f\n",
    "        M = max(M,temp)\n",
    "    end\n",
    "    return(3/M)\n",
    "end       "
   ]
  },
  {
   "cell_type": "code",
   "execution_count": null,
   "metadata": {
    "scrolled": false
   },
   "outputs": [],
   "source": [
    "println(eff(output[indmin,:]))\n",
    "println(eff(output[indmax,:]))"
   ]
  },
  {
   "cell_type": "code",
   "execution_count": null,
   "metadata": {
    "collapsed": true
   },
   "outputs": [],
   "source": []
  },
  {
   "cell_type": "code",
   "execution_count": null,
   "metadata": {
    "scrolled": true
   },
   "outputs": [],
   "source": [
    "# outer loop\n",
    "k = 4\n",
    "nptc = 100\n",
    "niter = 100\n",
    "design = [0 50]\n",
    "p = size(design)[1]\n",
    "\n",
    "# inner loop\n",
    "nptc2 = 1\n",
    "niter2 = 1\n",
    "design2 = [0.05884 0.05884 ; 4.298 4.2980 ; 21.8 21.8]\n",
    "p2 = size(design2)[1]\n",
    "\n",
    "nsim = 1000\n",
    "output = zeros(nsim, 1+p*k+k+p2+niter)\n",
    "\n",
    "println(\"##### Simulation starts at $(Dates.Time(Dates.now()))\")\n",
    "\n",
    "for rp in 1:nsim\n",
    "    output[rp,:] = pso(2,2)\n",
    "    npzwrite(\"eik1.npy\",output)\n",
    "    println(\"##### Simulation $(rp)/$(nsim) complete, $(Dates.Time(Dates.now()))\")\n",
    "end\n",
    "\n",
    "println(\"########## SIMULATION FINISHED, CHECK THE RESULTS, $(Dates.Time(Dates.now()))\")"
   ]
  },
  {
   "cell_type": "code",
   "execution_count": null,
   "metadata": {
    "scrolled": false
   },
   "outputs": [],
   "source": [
    "plot(sort(output[:,1]))"
   ]
  },
  {
   "cell_type": "code",
   "execution_count": null,
   "metadata": {
    "scrolled": false
   },
   "outputs": [],
   "source": [
    "using StatsBase\n",
    "\n",
    "indmin = findmin(output[:,1])[2]\n",
    "indmax = findmax(output[:,1])[2]\n",
    "\n",
    "summarystats(output[:,1])"
   ]
  },
  {
   "cell_type": "code",
   "execution_count": null,
   "metadata": {},
   "outputs": [],
   "source": [
    "mean(output[:,1] .> mean(output[:,1]))"
   ]
  },
  {
   "cell_type": "code",
   "execution_count": null,
   "metadata": {},
   "outputs": [],
   "source": [
    "function eff(input)\n",
    "    x = input[(1:p*k) .+ 1]\n",
    "    w = input[(1:k) .+ (1+p*k)]\n",
    "    theta = input[(1:p2) .+ (1+p*k+k)]\n",
    "    mat = zeros(3,3)\n",
    "    for i in 1:k\n",
    "        c1 = x[i]*theta[3]*exp(-theta[1]*x[i])\n",
    "        c2 = -x[i]*theta[3]*exp(-theta[2]*x[i]) \n",
    "        c3 = exp(-theta[2]*x[i])-exp(-theta[1]*x[i])\n",
    "        f = [c1, c2, c3]\n",
    "        mat = mat + w[i] .* f*f'\n",
    "    end\n",
    "    mati = inv(mat)\n",
    "    M = -Inf\n",
    "    for x in design[1]:0.001:design[2]\n",
    "        c1 = x*theta[3]*exp(-theta[1]*x)\n",
    "        c2 = -x*theta[3]*exp(-theta[2]*x) \n",
    "        c3 = exp(-theta[2]*x)-exp(-theta[1]*x)\n",
    "        f = [c1, c2, c3]\n",
    "        temp = f'*mati*f\n",
    "        M = max(M,temp)\n",
    "    end\n",
    "    return(3/M)\n",
    "end       "
   ]
  },
  {
   "cell_type": "code",
   "execution_count": null,
   "metadata": {
    "scrolled": false
   },
   "outputs": [],
   "source": [
    "println(eff(output[indmin,:]))\n",
    "println(eff(output[indmax,:]))"
   ]
  }
 ],
 "metadata": {
  "kernelspec": {
   "display_name": "Julia 1.1.0",
   "language": "julia",
   "name": "julia-1.1"
  },
  "language_info": {
   "file_extension": ".jl",
   "mimetype": "application/julia",
   "name": "julia",
   "version": "1.1.0"
  }
 },
 "nbformat": 4,
 "nbformat_minor": 2
}
