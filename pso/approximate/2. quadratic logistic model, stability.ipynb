{
 "cells": [
  {
   "cell_type": "markdown",
   "metadata": {},
   "source": [
    "## Quadratic Logistic Model, d-optimal"
   ]
  },
  {
   "cell_type": "code",
   "execution_count": null,
   "metadata": {
    "collapsed": true
   },
   "outputs": [],
   "source": []
  },
  {
   "cell_type": "code",
   "execution_count": 1,
   "metadata": {},
   "outputs": [
    {
     "data": {
      "text/plain": [
       "proj (generic function with 1 method)"
      ]
     },
     "execution_count": 1,
     "metadata": {},
     "output_type": "execute_result"
    }
   ],
   "source": [
    "using PyPlot\n",
    "using LinearAlgebra\n",
    "\n",
    "# projection function onto the design space\n",
    "function proj(x, design)\n",
    "    n = Int((length(x)+1)/2)\n",
    "    a = x[1:n]\n",
    "    b = x[(n+1):(2*n-1)]\n",
    "    b = [b; 1-sum(b)]\n",
    "    \n",
    "    a = max.(a,design[1])\n",
    "    a = min.(a,design[2])\n",
    "    \n",
    "    u = sort(b, rev=true)\n",
    "    j = n\n",
    "    while true\n",
    "        if u[j] + 1/j*(1-cumsum(u)[j]) > 0\n",
    "            break\n",
    "        end\n",
    "        j -= 1\n",
    "    end\n",
    "    lambda = 1/j*(1-cumsum(u)[j])\n",
    "    b = max.(b .+ lambda,0)\n",
    "    b = b[1:(n-1)]\n",
    "    \n",
    "    return [a;b]\n",
    "end"
   ]
  },
  {
   "cell_type": "code",
   "execution_count": 2,
   "metadata": {},
   "outputs": [
    {
     "data": {
      "text/plain": [
       "infmat (generic function with 1 method)"
      ]
     },
     "execution_count": 2,
     "metadata": {},
     "output_type": "execute_result"
    }
   ],
   "source": [
    "#Information matrix for quadratic logistic model\n",
    "function infmat(x)\n",
    "    n = Int((length(x)+1)/2)\n",
    "    a = x[1:n]\n",
    "    b = x[(n+1):(2*n-1)]\n",
    "    b = [b; 1-sum(b)]\n",
    "    p = length(theta)\n",
    "    mat = zeros(p,p)\n",
    "    for i in 1:n\n",
    "        c = exp(theta[1]+theta[2]*(a[i]-theta[3])^2)\n",
    "        f = [1,(a[i]-theta[3])^2,2*theta[2]*(theta[3]-a[i]) ]\n",
    "        mat = mat + b[i] * c/(1+c)^2 * f*f'\n",
    "    end\n",
    "    return mat\n",
    "end"
   ]
  },
  {
   "cell_type": "code",
   "execution_count": 3,
   "metadata": {},
   "outputs": [
    {
     "data": {
      "text/plain": [
       "diter (generic function with 1 method)"
      ]
     },
     "execution_count": 3,
     "metadata": {},
     "output_type": "execute_result"
    }
   ],
   "source": [
    "function diter(k, nptc, niter, design)\n",
    "    #initialize\n",
    "    #srand(1992)\n",
    "    tau = 0.9:(-0.5/niter):0.4\n",
    "    v = zeros(nptc, 2k-1)\n",
    "    x = (design[2]-design[1])*rand(nptc*k) .+ design[1]\n",
    "    x = reshape(x,nptc,k)\n",
    "    w = rand(nptc*(k-1))\n",
    "    w = reshape(w,nptc,k-1)\n",
    "    ptc = hcat(x,w)\n",
    "    for j in 1:nptc\n",
    "        ptc[j,:] = proj(ptc[j,:],design)\n",
    "    end\n",
    "    pbest = ptc\n",
    "    pbesth = zeros(nptc)\n",
    "    for i in 1:nptc\n",
    "        pbesth[i] = det(infmat(pbest[i,:]))\n",
    "    end\n",
    "    gbesth = findmax(pbesth)[1]\n",
    "    gbest = pbest[findmax(pbesth)[2],:]\n",
    "\n",
    "    #iterate\n",
    "    for i in 1:niter # iteration number\n",
    "        for j in 1:nptc # particle number\n",
    "            v[j,:] = tau[i] .*v[j,:] + 2 .*rand(2k-1) .*(pbest[j,:]-ptc[j,:]) + 2 .*rand(2k-1) .*(gbest-ptc[j,:])\n",
    "            ptc[j,:] = ptc[j,:] + v[j,:]\n",
    "            ptc[j,:] = proj(ptc[j,:],design)\n",
    "            fit = det(infmat(ptc[j,:]))\n",
    "            if fit > gbesth\n",
    "                gbest = pbest[j,:] = ptc[j,:]\n",
    "                gbesth = pbesth[j] = fit\n",
    "            elseif fit > pbesth[j]\n",
    "                pbest[j,:] = ptc[j,:]\n",
    "                pbesth[j] = fit\n",
    "            end\n",
    "        end\n",
    "    end\n",
    "    supp = gbest[1:k]\n",
    "    prob = gbest[(k+1):2k-1]\n",
    "    prob = [prob; 1-sum(prob)]\n",
    "    return [supp, prob, gbesth]\n",
    "end"
   ]
  },
  {
   "cell_type": "code",
   "execution_count": 4,
   "metadata": {
    "scrolled": false
   },
   "outputs": [
    {
     "data": {
      "text/plain": [
       "3-element Array{Any,1}:\n",
       "  [-0.726988, 1.54538e-9, 0.726988]\n",
       "  [0.333333, 0.333333, 0.333333]   \n",
       " 5.694646494958843e-5              "
      ]
     },
     "execution_count": 4,
     "metadata": {},
     "output_type": "execute_result"
    }
   ],
   "source": [
    "theta = [2,3,0]\n",
    "\n",
    "diter(3, 128, 150, [-3,1])"
   ]
  },
  {
   "cell_type": "code",
   "execution_count": 5,
   "metadata": {},
   "outputs": [
    {
     "name": "stdout",
     "output_type": "stream",
     "text": [
      "simulation saved\n",
      "simulation saved\n",
      "simulation saved\n",
      "simulation saved\n",
      "simulation saved\n",
      "simulation saved\n",
      "simulation saved\n",
      "simulation saved\n",
      "simulation saved\n",
      "simulation saved\n",
      "simulation saved\n",
      "simulation saved\n",
      "simulation saved\n",
      "simulation saved\n",
      "simulation saved\n",
      "simulation saved\n",
      "simulation saved\n",
      "simulation saved\n",
      "simulation saved\n",
      "simulation saved\n",
      "simulation saved\n",
      "simulation saved\n",
      "simulation saved\n",
      "simulation saved\n",
      "simulation saved\n"
     ]
    }
   ],
   "source": [
    "nptc = [64, 128, 256, 512, 1024]\n",
    "niter = [50, 100, 200, 500, 1000]\n",
    "nsim = 200\n",
    "\n",
    "result = zeros(5,5)\n",
    "result2 = zeros(5,5)\n",
    "timeresult = zeros(5,5)\n",
    "for i in 1:5\n",
    "    for j in 1:5\n",
    "        temp = 0\n",
    "        temp2 = 0\n",
    "        t1 = time()\n",
    "        for k in 1:nsim\n",
    "            opt = diter(3, nptc[i], niter[j], [-3,1])[3]\n",
    "            if opt > 0.99 * 5.69464649495885e-5\n",
    "                temp += 1\n",
    "            end\n",
    "            if opt > 0.995 * 5.69464649495885e-5\n",
    "                temp2 += 1\n",
    "            end\n",
    "        end\n",
    "        t2 = time()\n",
    "        result[i,j] = temp/nsim\n",
    "        result2[i,j] = temp2/nsim\n",
    "        timeresult[i,j] = (t2-t1)/nsim\n",
    "        println(\"simulation saved\")\n",
    "    end\n",
    "end"
   ]
  },
  {
   "cell_type": "code",
   "execution_count": 6,
   "metadata": {},
   "outputs": [
    {
     "data": {
      "text/plain": [
       "5×5 Array{Float64,2}:\n",
       " 0.45   0.485  0.47   0.52   0.49 \n",
       " 0.735  0.675  0.72   0.74   0.675\n",
       " 0.895  0.915  0.91   0.895  0.94 \n",
       " 0.995  0.975  0.995  0.99   0.99 \n",
       " 1.0    1.0    1.0    1.0    1.0  "
      ]
     },
     "metadata": {},
     "output_type": "display_data"
    },
    {
     "data": {
      "text/plain": [
       "5×5 Array{Float64,2}:\n",
       " 0.064083  0.125632  0.250002  0.623356   1.24469\n",
       " 0.126409  0.250797  0.500852  1.2505     2.49776\n",
       " 0.247339  0.4815    0.958213  2.3749     4.74953\n",
       " 0.486653  0.96712   1.91749   4.75633    9.51685\n",
       " 0.973217  1.92149   3.82201   9.5445    19.4257 "
      ]
     },
     "metadata": {},
     "output_type": "display_data"
    }
   ],
   "source": [
    "display(result)\n",
    "display(timeresult)"
   ]
  },
  {
   "cell_type": "code",
   "execution_count": 7,
   "metadata": {
    "scrolled": false
   },
   "outputs": [
    {
     "data": {
      "text/plain": [
       "3-element Array{Any,1}:\n",
       "  [-0.826012, -0.57935, 0.848815, -1.0]      \n",
       "  [2.97374e-16, 0.333333, 0.333333, 0.333333]\n",
       " 0.018228167200968263                        "
      ]
     },
     "execution_count": 7,
     "metadata": {},
     "output_type": "execute_result"
    }
   ],
   "source": [
    "theta = [3,-5,0]\n",
    "\n",
    "result = diter(4, 256, 200, [-1,1])"
   ]
  },
  {
   "cell_type": "code",
   "execution_count": 8,
   "metadata": {},
   "outputs": [
    {
     "name": "stdout",
     "output_type": "stream",
     "text": [
      "simulation saved\n",
      "simulation saved\n",
      "simulation saved\n",
      "simulation saved\n",
      "simulation saved\n",
      "simulation saved\n",
      "simulation saved\n",
      "simulation saved\n",
      "simulation saved\n",
      "simulation saved\n",
      "simulation saved\n",
      "simulation saved\n",
      "simulation saved\n",
      "simulation saved\n",
      "simulation saved\n",
      "simulation saved\n"
     ]
    }
   ],
   "source": [
    "result = zeros(5,5)\n",
    "timeresult = zeros(5,5)\n",
    "for i in 1:4\n",
    "    for j in 1:4\n",
    "        temp = 0\n",
    "        t1 = time()\n",
    "        for k in 1:nsim\n",
    "            opt = diter(4, nptc[i], niter[j], [-1,1])[3]\n",
    "            if opt > 0.99 * 0.02023431778515896\n",
    "                temp += 1\n",
    "            end\n",
    "        end\n",
    "        t2 = time()\n",
    "        result[i,j] = temp/nsim\n",
    "        timeresult[i,j] = (t2-t1)/nsim\n",
    "        println(\"simulation saved\")\n",
    "    end\n",
    "end"
   ]
  },
  {
   "cell_type": "code",
   "execution_count": 9,
   "metadata": {},
   "outputs": [
    {
     "data": {
      "text/plain": [
       "5×5 Array{Float64,2}:\n",
       " 0.035  0.035  0.04   0.045  0.0\n",
       " 0.055  0.055  0.04   0.035  0.0\n",
       " 0.07   0.06   0.055  0.06   0.0\n",
       " 0.08   0.135  0.115  0.09   0.0\n",
       " 0.0    0.0    0.0    0.0    0.0"
      ]
     },
     "metadata": {},
     "output_type": "display_data"
    },
    {
     "data": {
      "text/plain": [
       "5×5 Array{Float64,2}:\n",
       " 0.0724478  0.142262  0.284356  0.706746  0.0\n",
       " 0.144571   0.286477  0.573935  1.4284    0.0\n",
       " 0.288331   0.574176  1.1556    3.04962   0.0\n",
       " 0.622514   1.24386   2.44147   6.08171   0.0\n",
       " 0.0        0.0       0.0       0.0       0.0"
      ]
     },
     "metadata": {},
     "output_type": "display_data"
    }
   ],
   "source": [
    "display(result)\n",
    "display(timeresult)     "
   ]
  }
 ],
 "metadata": {
  "kernelspec": {
   "display_name": "Julia 1.1.0",
   "language": "julia",
   "name": "julia-1.1"
  },
  "language_info": {
   "file_extension": ".jl",
   "mimetype": "application/julia",
   "name": "julia",
   "version": "1.1.0"
  }
 },
 "nbformat": 4,
 "nbformat_minor": 2
}
