{
 "cells": [
  {
   "cell_type": "code",
   "execution_count": 1,
   "metadata": {},
   "outputs": [
    {
     "data": {
      "text/plain": [
       "pso (generic function with 1 method)"
      ]
     },
     "execution_count": 1,
     "metadata": {},
     "output_type": "execute_result"
    }
   ],
   "source": [
    "using LinearAlgebra\n",
    "using PyPlot\n",
    "using Random\n",
    "using NPZ\n",
    "using Dates\n",
    "\n",
    "# projection function onto the design space\n",
    "function proj(x)\n",
    "    a = x[1:p*k]\n",
    "    b = x[(1:k) .+ (p*k)]\n",
    "    \n",
    "    a = reshape(a,p,k)\n",
    "    a = max.( a, design[:,1] )\n",
    "    a = min.( a, design[:,2] )\n",
    "    a = reshape(a,p*k)\n",
    "    \n",
    "    u = sort(b, rev=true)\n",
    "    j = k\n",
    "    while true\n",
    "        if u[j] + 1/j*(1-cumsum(u)[j]) > 0\n",
    "            break\n",
    "        end\n",
    "        j -= 1\n",
    "    end\n",
    "    lambda = 1/j*(1-cumsum(u)[j])\n",
    "    b = max.(b .+ lambda,0)\n",
    "    b = 0.5*b\n",
    "    \n",
    "    return [a;b]\n",
    "end\n",
    "\n",
    "function proj2(x)\n",
    "    x = max.(x,design2[:,1])\n",
    "    x = min.(x,design2[:,2])\n",
    "    return x\n",
    "end\n",
    "\n",
    "function pso2(xx,lp2)\n",
    "    #initialize\n",
    "    #srand(1992)\n",
    "    path2 = zeros(niter2)\n",
    "    tau2 = 0.9:(-0.5/niter2):0.4\n",
    "    v2 = zeros(nptc2, p2)\n",
    "    ptc2 = rand(nptc2, p2)\n",
    "    for j2 in 1:p2\n",
    "            ptc2[:,j2] = (design2[j2,2] - design2[j2,1]) * ptc2[:,j2] .+ design2[j2,1]\n",
    "    end\n",
    "    pbesth2 = zeros(nptc2)\n",
    "    pbest2 = ptc2\n",
    "    for j2 in 1:nptc2\n",
    "        pbesth2[j2] = obj(xx,pbest2[j2,:])\n",
    "    end\n",
    "    gbesth2 = findmax(pbesth2)[1]\n",
    "    gbest2 = pbest2[findmax(pbesth2)[2],:]\n",
    "\n",
    "    #iterate\n",
    "    for i2 in 1:niter2 # iteration number\n",
    "            g12 = rand(p2)\n",
    "            g22 = rand(p2)\n",
    "        for j2 in 1:nptc2 # particle number\n",
    "            v2[j2,:] = tau2[i2] .*v2[j2,:] + lp2 .* g12 .*(pbest2[j2,:]-ptc2[j2,:]) + lp2 .* g22 .*(gbest2-ptc2[j2,:])\n",
    "            ptc2[j2,:] = ptc2[j2,:] + v2[j2,:]\n",
    "            ptc2[j2,:] = proj2(ptc2[j2,:])\n",
    "            fit2 = obj(xx,ptc2[j2,:])\n",
    "            if fit2 > gbesth2\n",
    "                gbesth2 = pbesth2[j2] = fit2\n",
    "                gbest2 = pbest2[j2,:] = ptc2[j2,:]\n",
    "            elseif fit2 > pbesth2[j2]\n",
    "                pbesth2[j2] = fit2\n",
    "                pbest2[j2,:] = ptc2[j2,:]\n",
    "            end\n",
    "        end\n",
    "        path2[i2] = gbesth2\n",
    "    end\n",
    "    return [gbesth2; gbest2; path2]\n",
    "end\n",
    "\n",
    "function pso(lp,lp2)\n",
    "    #initialize\n",
    "    #srand(1992)\n",
    "    path = zeros(niter)\n",
    "    tau = 0.9:(-0.5/niter):0.4\n",
    "    v = zeros(nptc, p*k+k)\n",
    "    x = rand(nptc,p*k)\n",
    "    for j in 1:p\n",
    "        x[:,p*(1:k).+(j-p)] = (design[j,2]-design[j,1]) * x[:,p*(1:k).+(j-p)] .+ design[j,1]\n",
    "    end    \n",
    "    w = randexp(nptc,k)\n",
    "    for j in 1:nptc\n",
    "            w[j,:] = 0.5*w[j,:] ./ sum(w[j,:])\n",
    "    end\n",
    "    ptc = hcat(x,w)\n",
    "    pbest = ptc\n",
    "    pbesth = zeros(nptc)\n",
    "    for j in 1:nptc\n",
    "        pbesth[j] = pso2(pbest[j,:],lp2)[1]\n",
    "    end\n",
    "    gbesth = findmin(pbesth)[1]\n",
    "    gbest = pbest[findmin(pbesth)[2],:]\n",
    "    \n",
    "    tbest = zeros(p2)\n",
    "    \n",
    "    #iterate\n",
    "    for i in 1:niter # iteration number\n",
    "            g1 = rand(p*k+k)\n",
    "            g2 = rand(p*k+k)\n",
    "        for j in 1:nptc # particle number\n",
    "            v[j,:] = tau[i] .*v[j,:] + lp .* g1 .*(pbest[j,:]-ptc[j,:]) + lp .* g2 .*(gbest-ptc[j,:])\n",
    "            ptc[j,:] = ptc[j,:] + v[j,:]\n",
    "            ptc[j,:] = proj(ptc[j,:])\n",
    "            fit = pso2(ptc[j,:],lp2)\n",
    "            if fit[1] < gbesth\n",
    "                gbest = pbest[j,:] = ptc[j,:]\n",
    "                gbesth = pbesth[j] = fit[1]\n",
    "                tbest = fit[(1:p2) .+ 1]\n",
    "            elseif fit[1] < pbesth[j]\n",
    "                pbest[j,:] = ptc[j,:]\n",
    "                pbesth[j] = fit[1]\n",
    "            end\n",
    "        end\n",
    "        path[i] = gbesth\n",
    "        print(\".\")\n",
    "    end\n",
    "    \n",
    "    return [gbesth; gbest; tbest; path]\n",
    "end"
   ]
  },
  {
   "cell_type": "code",
   "execution_count": 2,
   "metadata": {
    "scrolled": true
   },
   "outputs": [
    {
     "data": {
      "text/plain": [
       "showplot2 (generic function with 1 method)"
      ]
     },
     "execution_count": 2,
     "metadata": {},
     "output_type": "execute_result"
    }
   ],
   "source": [
    "function showsummary(x)\n",
    "    support = reshape(x[(1:p*k).+1],p,k)\n",
    "    weight = x[(1:k) .+ (p*k+1)]\n",
    "    theta = x[(1:p2) .+ (p*k+k+1)]\n",
    "    optimum = x[1]\n",
    "    return [support, weight, theta, optimum]\n",
    "end\n",
    "\n",
    "function showplot(x)\n",
    "    path = x[(1:niter) .+ (length(x)-niter)]\n",
    "    return plot(1:niter, path, color=\"red\", linewidth=2.0, linestyle=\"solid\")\n",
    "end\n",
    "\n",
    "function showsummary2(x)\n",
    "    theta = x[(1:p2).+1]\n",
    "    optimum = x[1]\n",
    "    return [theta, optimum]\n",
    "end\n",
    "\n",
    "function showplot2(x)\n",
    "    path = x[(1:niter2) .+ (length(x)-niter2)]\n",
    "    return plot(1:niter2, path, color=\"red\", linewidth=2.0, linestyle=\"solid\")\n",
    "end"
   ]
  },
  {
   "cell_type": "markdown",
   "metadata": {},
   "source": [
    "# learning parameter for the inner problem = 2"
   ]
  },
  {
   "cell_type": "code",
   "execution_count": 3,
   "metadata": {
    "scrolled": false
   },
   "outputs": [
    {
     "name": "stdout",
     "output_type": "stream",
     "text": [
      "...................................................................................................."
     ]
    },
    {
     "data": {
      "text/plain": [
       "4-element Array{Any,1}:\n",
       "  [1.45272 -0.307241]\n",
       "  [0.25642, 0.24358] \n",
       "  [1.25, 3.0]        \n",
       " 4.067119082383512   "
      ]
     },
     "execution_count": 3,
     "metadata": {},
     "output_type": "execute_result"
    }
   ],
   "source": [
    "function obj(eta, theta)\n",
    "    mat = zeros(2,2)\n",
    "    b = theta[2]\n",
    "    a = theta[1]\n",
    "    for i in 1:k\n",
    "        m0 = zeros(2)\n",
    "        s = eta[i]\n",
    "        w = eta[i+k]\n",
    "        m0[1] = b\n",
    "        m0[2] = -s+a\n",
    "        p = 1/(1+exp(-b*(s-a))) \n",
    "        mat = mat + w * p*(1-p) * m0*m0' \n",
    "    end\n",
    "    for i in 1:k\n",
    "        m0 = zeros(2)\n",
    "        s = (design2[1,2]+design2[1,1]) - eta[i]\n",
    "        w = eta[i+k]\n",
    "        m0[1] = b\n",
    "        m0[2] = -s+a\n",
    "        p = 1/(1+exp(-b*(s-a))) \n",
    "        mat = mat + w * p*(1-p) * m0*m0' \n",
    "    end\n",
    "    if det(mat) < 10.0^-6\n",
    "        return Inf\n",
    "    else\n",
    "        return -log(det(mat))\n",
    "    end\n",
    "end\n",
    "\n",
    "# outer loop\n",
    "k = 2\n",
    "nptc = 32\n",
    "niter = 100\n",
    "design = [-1 3.5]\n",
    "p = size(design)[1]\n",
    "\n",
    "\n",
    "# inner loop\n",
    "nptc2 = 64\n",
    "niter2 = 50\n",
    "design2 =  [0 2.5 ; 1 3]\n",
    "p2 = size(design2)[1]\n",
    "\n",
    "result = pso(2,2)\n",
    "npzwrite(\"ex32a_sym.npy\",result)\n",
    "showsummary(result)"
   ]
  },
  {
   "cell_type": "code",
   "execution_count": 4,
   "metadata": {
    "scrolled": false
   },
   "outputs": [
    {
     "data": {
      "image/png": "[encoded data removed]",
      "text/plain": [
       "Figure(PyObject <matplotlib.figure.Figure object at 0x7fa6efa016a0>)"
      ]
     },
     "metadata": {},
     "output_type": "display_data"
    },
    {
     "data": {
      "text/plain": [
       "1-element Array{PyCall.PyObject,1}:\n",
       " PyObject <matplotlib.lines.Line2D object at 0x7fa71535ddd8>"
      ]
     },
     "execution_count": 4,
     "metadata": {},
     "output_type": "execute_result"
    }
   ],
   "source": [
    "showplot(result)"
   ]
  },
  {
   "cell_type": "code",
   "execution_count": 5,
   "metadata": {
    "scrolled": true
   },
   "outputs": [
    {
     "data": {
      "text/plain": [
       "2-element Array{Any,1}:\n",
       "  [0.0, 3.0]      \n",
       " 4.225888347844399"
      ]
     },
     "execution_count": 5,
     "metadata": {},
     "output_type": "execute_result"
    }
   ],
   "source": [
    "# inner loop, true optimum\n",
    "nptc2 = 100\n",
    "niter2 = 100\n",
    "design2 =  [0 2.5 ; 1 3]\n",
    "p2 = size(design2)[1]\n",
    "\n",
    "result2 = pso2([-0.4230 0.6164 0.2481 0.2519],2)\n",
    "showsummary2(result2)"
   ]
  },
  {
   "cell_type": "code",
   "execution_count": 6,
   "metadata": {},
   "outputs": [
    {
     "data": {
      "text/plain": [
       "4.067119082383512"
      ]
     },
     "execution_count": 6,
     "metadata": {},
     "output_type": "execute_result"
    }
   ],
   "source": [
    "obj(result[2:5],result[6:7])"
   ]
  },
  {
   "cell_type": "code",
   "execution_count": 7,
   "metadata": {
    "scrolled": true
   },
   "outputs": [
    {
     "data": {
      "text/plain": [
       "4.067119082383512"
      ]
     },
     "execution_count": 7,
     "metadata": {},
     "output_type": "execute_result"
    }
   ],
   "source": [
    "result[1]"
   ]
  },
  {
   "cell_type": "code",
   "execution_count": 8,
   "metadata": {
    "scrolled": false
   },
   "outputs": [
    {
     "data": {
      "text/plain": [
       "2-element Array{Any,1}:\n",
       "  [0.0, 3.0]       \n",
       " 4.3382799003213925"
      ]
     },
     "execution_count": 8,
     "metadata": {},
     "output_type": "execute_result"
    }
   ],
   "source": [
    "result2 = pso2(result[2:5],2) #true inner loop at given outer loop\n",
    "showsummary2(result2)"
   ]
  },
  {
   "cell_type": "code",
   "execution_count": 9,
   "metadata": {
    "scrolled": false
   },
   "outputs": [
    {
     "data": {
      "text/plain": [
       "2-element Array{Any,1}:\n",
       "  [2.5, 3.0]      \n",
       " 4.225888347844392"
      ]
     },
     "execution_count": 9,
     "metadata": {},
     "output_type": "execute_result"
    }
   ],
   "source": [
    "result2 = pso2([-0.4230 0.6164 0.2481 0.2519],2)\n",
    "showsummary2(result2)"
   ]
  }
 ],
 "metadata": {
  "kernelspec": {
   "display_name": "Julia 1.1.0",
   "language": "julia",
   "name": "julia-1.1"
  },
  "language_info": {
   "file_extension": ".jl",
   "mimetype": "application/julia",
   "name": "julia",
   "version": "1.1.0"
  }
 },
 "nbformat": 4,
 "nbformat_minor": 2
}
