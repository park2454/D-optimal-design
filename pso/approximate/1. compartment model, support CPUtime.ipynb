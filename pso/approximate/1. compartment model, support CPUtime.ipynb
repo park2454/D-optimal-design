{
 "cells": [
  {
   "cell_type": "markdown",
   "metadata": {},
   "source": [
    "## Compartment model, mean response D-optimal"
   ]
  },
  {
   "cell_type": "code",
   "execution_count": 1,
   "metadata": {},
   "outputs": [
    {
     "data": {
      "text/plain": [
       "proj (generic function with 1 method)"
      ]
     },
     "execution_count": 1,
     "metadata": {},
     "output_type": "execute_result"
    }
   ],
   "source": [
    "using PyPlot\n",
    "using LinearAlgebra\n",
    "using NPZ\n",
    "\n",
    "#objective function h to minimize\n",
    "function infmat(x)\n",
    "    n = Int((length(x)+1)/2)\n",
    "    a = x[1:n]\n",
    "    b = x[(n+1):(2*n-1)]\n",
    "    b = [b; 1-sum(b)]\n",
    "    p = length(theta)\n",
    "    mat = zeros(p,p)\n",
    "    for i in 1:n\n",
    "        c1 = a[i]*theta[3]*exp(-theta[1]*a[i])\n",
    "        c2 = -a[i]*theta[3]*exp(-theta[2]*a[i]) \n",
    "        c3 = exp(-theta[2]*a[i])-exp(-theta[1]*a[i])\n",
    "        f = [c1, c2, c3]\n",
    "        mat = mat + b[i] .* f*f'\n",
    "    end\n",
    "    return mat\n",
    "end\n",
    "\n",
    "# projection function onto the design space\n",
    "function proj(x, design)\n",
    "    n = Int((length(x)+1)/2)\n",
    "    a = x[1:n]\n",
    "    b = x[(n+1):(2*n-1)]\n",
    "    b = [b; 1-sum(b)]\n",
    "    \n",
    "    a = max.(a,design[1])\n",
    "    a = min.(a,design[2])\n",
    "    \n",
    "    u = sort(b, rev=true)\n",
    "    j = n\n",
    "    while true\n",
    "        if u[j] + 1/j*(1-cumsum(u)[j]) > 0\n",
    "            break\n",
    "        end\n",
    "        j -= 1\n",
    "    end\n",
    "    lambda = 1/j*(1-cumsum(u)[j])\n",
    "    b = max.(b .+ lambda,0)\n",
    "    b = b[1:(n-1)]\n",
    "    \n",
    "    return [a;b]\n",
    "end"
   ]
  },
  {
   "cell_type": "code",
   "execution_count": 2,
   "metadata": {},
   "outputs": [
    {
     "data": {
      "text/plain": [
       "diter (generic function with 1 method)"
      ]
     },
     "execution_count": 2,
     "metadata": {},
     "output_type": "execute_result"
    }
   ],
   "source": [
    "function diter(k,nptc,niter,design)\n",
    "    tau = 0.9:(-0.5/niter):0.4\n",
    "    v = zeros(nptc, 2k-1)\n",
    "    x = (design[2]-design[1])*rand(nptc*k) .+ design[1]\n",
    "    x = reshape(x,nptc,k)\n",
    "    w = rand(nptc*(k-1))\n",
    "    w = reshape(w,nptc,k-1)\n",
    "    ptc = hcat(x,w)\n",
    "    for j in 1:nptc\n",
    "        ptc[j,:] = proj(ptc[j,:],design)\n",
    "    end\n",
    "    pbest = ptc\n",
    "    pbesth = zeros(nptc)\n",
    "    for i in 1:nptc\n",
    "        pbesth[i] = det(infmat(pbest[i,:]))\n",
    "    end\n",
    "    gbesth = findmax(pbesth)[1]\n",
    "    gbest = pbest[findmax(pbesth)[2],:]\n",
    "\n",
    "    #iterate\n",
    "    for i in 1:niter # iteration number\n",
    "        for j in 1:nptc # particle number\n",
    "            v[j,:] = tau[i] .*v[j,:] + 2 .*rand(2k-1) .*(pbest[j,:]-ptc[j,:]) + 2 .*rand(2k-1) .*(gbest-ptc[j,:])\n",
    "            ptc[j,:] = ptc[j,:] + v[j,:]\n",
    "            ptc[j,:] = proj(ptc[j,:],design)\n",
    "            fit = det(infmat(ptc[j,:]))\n",
    "            if fit > gbesth\n",
    "                gbest = pbest[j,:] = ptc[j,:]\n",
    "                gbesth = pbesth[j] = fit\n",
    "            elseif fit > pbesth[j]\n",
    "                pbest[j,:] = ptc[j,:]\n",
    "                pbesth[j] = fit\n",
    "            end\n",
    "        end\n",
    "    end\n",
    "    supp = gbest[1:k]\n",
    "    prob = gbest[(k+1):2k-1]\n",
    "    prob = [prob; 1-sum(prob)]\n",
    "    return [supp, prob, gbesth ]\n",
    "end"
   ]
  },
  {
   "cell_type": "code",
   "execution_count": 3,
   "metadata": {},
   "outputs": [
    {
     "data": {
      "text/plain": [
       "3-element Array{Any,1}:\n",
       "     [0.228772, 1.38858, 18.4168]  \n",
       "     [0.333333, 0.333331, 0.333336]\n",
       " 1617.589538599137                 "
      ]
     },
     "execution_count": 3,
     "metadata": {},
     "output_type": "execute_result"
    }
   ],
   "source": [
    "theta = [0.05884, 4.298, 21.8]\n",
    "#k = 3\n",
    "#nptc = 100\n",
    "#niter = 100\n",
    "#design = [0,30]\n",
    "\n",
    "result = diter(3, 100, 100, [0,30])\n"
   ]
  },
  {
   "cell_type": "markdown",
   "metadata": {},
   "source": [
    "## number of support points vs CPU time"
   ]
  },
  {
   "cell_type": "code",
   "execution_count": 4,
   "metadata": {
    "collapsed": true
   },
   "outputs": [],
   "source": [
    "result = zeros(100)\n",
    "for nk = 1:100\n",
    "    t1 = time()\n",
    "    diter(nk, 100, 100, [0,30])\n",
    "    t2 = time()\n",
    "    result[nk] = t2-t1\n",
    "end"
   ]
  },
  {
   "cell_type": "code",
   "execution_count": 5,
   "metadata": {},
   "outputs": [
    {
     "data": {
      "text/plain": [
       "100-element Array{Float64,1}:\n",
       " 0.1371619701385498 \n",
       " 0.14742779731750488\n",
       " 0.16645193099975586\n",
       " 0.19301795959472656\n",
       " 0.21195721626281738\n",
       " 0.23247289657592773\n",
       " 0.2619650363922119 \n",
       " 0.28763389587402344\n",
       " 0.316295862197876  \n",
       " 0.3304741382598877 \n",
       " 0.3616788387298584 \n",
       " 0.39202213287353516\n",
       " 0.40885496139526367\n",
       " ⋮                  \n",
       " 2.6282260417938232 \n",
       " 2.643889904022217  \n",
       " 2.606149196624756  \n",
       " 2.6962509155273438 \n",
       " 2.1192450523376465 \n",
       " 2.000659942626953  \n",
       " 2.0430550575256348 \n",
       " 2.0232410430908203 \n",
       " 2.1000449657440186 \n",
       " 2.102008104324341  \n",
       " 2.1281769275665283 \n",
       " 2.1983580589294434 "
      ]
     },
     "execution_count": 5,
     "metadata": {},
     "output_type": "execute_result"
    }
   ],
   "source": [
    "result"
   ]
  },
  {
   "cell_type": "code",
   "execution_count": 6,
   "metadata": {},
   "outputs": [],
   "source": [
    "npzwrite(\"scpu.npy\",result)"
   ]
  },
  {
   "cell_type": "code",
   "execution_count": null,
   "metadata": {
    "collapsed": true
   },
   "outputs": [],
   "source": []
  }
 ],
 "metadata": {
  "kernelspec": {
   "display_name": "Julia 1.1.0",
   "language": "julia",
   "name": "julia-1.1"
  },
  "language_info": {
   "file_extension": ".jl",
   "mimetype": "application/julia",
   "name": "julia",
   "version": "1.1.0"
  }
 },
 "nbformat": 4,
 "nbformat_minor": 2
}
