{
 "cells": [
  {
   "cell_type": "markdown",
   "metadata": {},
   "source": [
    "# $f=\\frac{1}{1+r}$"
   ]
  },
  {
   "cell_type": "code",
   "execution_count": 1,
   "metadata": {},
   "outputs": [
    {
     "data": {
      "image/svg+xml": [
       "<?xml version=\"1.0\" encoding=\"utf-8\"?>\n",
       "<svg xmlns=\"http://www.w3.org/2000/svg\" xmlns:xlink=\"http://www.w3.org/1999/xlink\" width=\"600\" height=\"400\" viewBox=\"0 0 2400 1600\">\n",
       "<defs>\n",
       "  <clipPath id=\"clip4000\">\n",
       "    <rect x=\"0\" y=\"0\" width=\"2400\" height=\"1600\"/>\n",
       "  </clipPath>\n",
       "</defs>\n",
       "<polygon clip-path=\"url(#clip4000)\" points=\"\n",
       "0,1600 2400,1600 2400,0 0,0 \n",
       "  \" fill=\"#ffffff\" fill-rule=\"evenodd\" fill-opacity=\"1\"/>\n",
       "<defs>\n",
       "  <clipPath id=\"clip4001\">\n",
       "    <rect x=\"480\" y=\"0\" width=\"1681\" height=\"1600\"/>\n",
       "  </clipPath>\n",
       "</defs>\n",
       "<polygon clip-path=\"url(#clip4000)\" points=\"\n",
       "161.394,1503.47 2321.26,1503.47 2321.26,47.2441 161.394,47.2441 \n",
       "  \" fill=\"#ffffff\" fill-rule=\"evenodd\" fill-opacity=\"1\"/>\n",
       "<defs>\n",
       "  <clipPath id=\"clip4002\">\n",
       "    <rect x=\"161\" y=\"47\" width=\"2161\" height=\"1457\"/>\n",
       "  </clipPath>\n",
       "</defs>\n",
       "<polyline clip-path=\"url(#clip4002)\" style=\"stroke:#000000; stroke-width:2; stroke-opacity:0.1; fill:none\" points=\"\n",
       "  222.522,1503.47 222.522,47.2441 \n",
       "  \"/>\n",
       "<polyline clip-path=\"url(#clip4002)\" style=\"stroke:#000000; stroke-width:2; stroke-opacity:0.1; fill:none\" points=\"\n",
       "  582.724,1503.47 582.724,47.2441 \n",
       "  \"/>\n",
       "<polyline clip-path=\"url(#clip4002)\" style=\"stroke:#000000; stroke-width:2; stroke-opacity:0.1; fill:none\" points=\"\n",
       "  942.926,1503.47 942.926,47.2441 \n",
       "  \"/>\n",
       "<polyline clip-path=\"url(#clip4002)\" style=\"stroke:#000000; stroke-width:2; stroke-opacity:0.1; fill:none\" points=\"\n",
       "  1303.13,1503.47 1303.13,47.2441 \n",
       "  \"/>\n",
       "<polyline clip-path=\"url(#clip4002)\" style=\"stroke:#000000; stroke-width:2; stroke-opacity:0.1; fill:none\" points=\"\n",
       "  1663.33,1503.47 1663.33,47.2441 \n",
       "  \"/>\n",
       "<polyline clip-path=\"url(#clip4002)\" style=\"stroke:#000000; stroke-width:2; stroke-opacity:0.1; fill:none\" points=\"\n",
       "  2023.53,1503.47 2023.53,47.2441 \n",
       "  \"/>\n",
       "<polyline clip-path=\"url(#clip4002)\" style=\"stroke:#000000; stroke-width:2; stroke-opacity:0.1; fill:none\" points=\"\n",
       "  161.394,1495.59 2321.26,1495.59 \n",
       "  \"/>\n",
       "<polyline clip-path=\"url(#clip4002)\" style=\"stroke:#000000; stroke-width:2; stroke-opacity:0.1; fill:none\" points=\"\n",
       "  161.394,1261.07 2321.26,1261.07 \n",
       "  \"/>\n",
       "<polyline clip-path=\"url(#clip4002)\" style=\"stroke:#000000; stroke-width:2; stroke-opacity:0.1; fill:none\" points=\"\n",
       "  161.394,1026.55 2321.26,1026.55 \n",
       "  \"/>\n",
       "<polyline clip-path=\"url(#clip4002)\" style=\"stroke:#000000; stroke-width:2; stroke-opacity:0.1; fill:none\" points=\"\n",
       "  161.394,792.026 2321.26,792.026 \n",
       "  \"/>\n",
       "<polyline clip-path=\"url(#clip4002)\" style=\"stroke:#000000; stroke-width:2; stroke-opacity:0.1; fill:none\" points=\"\n",
       "  161.394,557.504 2321.26,557.504 \n",
       "  \"/>\n",
       "<polyline clip-path=\"url(#clip4002)\" style=\"stroke:#000000; stroke-width:2; stroke-opacity:0.1; fill:none\" points=\"\n",
       "  161.394,322.981 2321.26,322.981 \n",
       "  \"/>\n",
       "<polyline clip-path=\"url(#clip4002)\" style=\"stroke:#000000; stroke-width:2; stroke-opacity:0.1; fill:none\" points=\"\n",
       "  161.394,88.4582 2321.26,88.4582 \n",
       "  \"/>\n",
       "<polyline clip-path=\"url(#clip4000)\" style=\"stroke:#000000; stroke-width:4; stroke-opacity:1; fill:none\" points=\"\n",
       "  161.394,1503.47 2321.26,1503.47 \n",
       "  \"/>\n",
       "<polyline clip-path=\"url(#clip4000)\" style=\"stroke:#000000; stroke-width:4; stroke-opacity:1; fill:none\" points=\"\n",
       "  161.394,1503.47 161.394,47.2441 \n",
       "  \"/>\n",
       "<polyline clip-path=\"url(#clip4000)\" style=\"stroke:#000000; stroke-width:4; stroke-opacity:1; fill:none\" points=\"\n",
       "  222.522,1503.47 222.522,1481.63 \n",
       "  \"/>\n",
       "<polyline clip-path=\"url(#clip4000)\" style=\"stroke:#000000; stroke-width:4; stroke-opacity:1; fill:none\" points=\"\n",
       "  582.724,1503.47 582.724,1481.63 \n",
       "  \"/>\n",
       "<polyline clip-path=\"url(#clip4000)\" style=\"stroke:#000000; stroke-width:4; stroke-opacity:1; fill:none\" points=\"\n",
       "  942.926,1503.47 942.926,1481.63 \n",
       "  \"/>\n",
       "<polyline clip-path=\"url(#clip4000)\" style=\"stroke:#000000; stroke-width:4; stroke-opacity:1; fill:none\" points=\"\n",
       "  1303.13,1503.47 1303.13,1481.63 \n",
       "  \"/>\n",
       "<polyline clip-path=\"url(#clip4000)\" style=\"stroke:#000000; stroke-width:4; stroke-opacity:1; fill:none\" points=\"\n",
       "  1663.33,1503.47 1663.33,1481.63 \n",
       "  \"/>\n",
       "<polyline clip-path=\"url(#clip4000)\" style=\"stroke:#000000; stroke-width:4; stroke-opacity:1; fill:none\" points=\"\n",
       "  2023.53,1503.47 2023.53,1481.63 \n",
       "  \"/>\n",
       "<polyline clip-path=\"url(#clip4000)\" style=\"stroke:#000000; stroke-width:4; stroke-opacity:1; fill:none\" points=\"\n",
       "  161.394,1495.59 193.792,1495.59 \n",
       "  \"/>\n",
       "<polyline clip-path=\"url(#clip4000)\" style=\"stroke:#000000; stroke-width:4; stroke-opacity:1; fill:none\" points=\"\n",
       "  161.394,1261.07 193.792,1261.07 \n",
       "  \"/>\n",
       "<polyline clip-path=\"url(#clip4000)\" style=\"stroke:#000000; stroke-width:4; stroke-opacity:1; fill:none\" points=\"\n",
       "  161.394,1026.55 193.792,1026.55 \n",
       "  \"/>\n",
       "<polyline clip-path=\"url(#clip4000)\" style=\"stroke:#000000; stroke-width:4; stroke-opacity:1; fill:none\" points=\"\n",
       "  161.394,792.026 193.792,792.026 \n",
       "  \"/>\n",
       "<polyline clip-path=\"url(#clip4000)\" style=\"stroke:#000000; stroke-width:4; stroke-opacity:1; fill:none\" points=\"\n",
       "  161.394,557.504 193.792,557.504 \n",
       "  \"/>\n",
       "<polyline clip-path=\"url(#clip4000)\" style=\"stroke:#000000; stroke-width:4; stroke-opacity:1; fill:none\" points=\"\n",
       "  161.394,322.981 193.792,322.981 \n",
       "  \"/>\n",
       "<polyline clip-path=\"url(#clip4000)\" style=\"stroke:#000000; stroke-width:4; stroke-opacity:1; fill:none\" points=\"\n",
       "  161.394,88.4582 193.792,88.4582 \n",
       "  \"/>\n",
       "<g clip-path=\"url(#clip4000)\">\n",
       "<text style=\"fill:#000000; fill-opacity:1; font-family:Arial,Helvetica Neue,Helvetica,sans-serif; font-size:48px; text-anchor:middle;\" transform=\"rotate(0, 222.522, 1557.47)\" x=\"222.522\" y=\"1557.47\">0.00</text>\n",
       "</g>\n",
       "<g clip-path=\"url(#clip4000)\">\n",
       "<text style=\"fill:#000000; fill-opacity:1; font-family:Arial,Helvetica Neue,Helvetica,sans-serif; font-size:48px; text-anchor:middle;\" transform=\"rotate(0, 582.724, 1557.47)\" x=\"582.724\" y=\"1557.47\">0.25</text>\n",
       "</g>\n",
       "<g clip-path=\"url(#clip4000)\">\n",
       "<text style=\"fill:#000000; fill-opacity:1; font-family:Arial,Helvetica Neue,Helvetica,sans-serif; font-size:48px; text-anchor:middle;\" transform=\"rotate(0, 942.926, 1557.47)\" x=\"942.926\" y=\"1557.47\">0.50</text>\n",
       "</g>\n",
       "<g clip-path=\"url(#clip4000)\">\n",
       "<text style=\"fill:#000000; fill-opacity:1; font-family:Arial,Helvetica Neue,Helvetica,sans-serif; font-size:48px; text-anchor:middle;\" transform=\"rotate(0, 1303.13, 1557.47)\" x=\"1303.13\" y=\"1557.47\">0.75</text>\n",
       "</g>\n",
       "<g clip-path=\"url(#clip4000)\">\n",
       "<text style=\"fill:#000000; fill-opacity:1; font-family:Arial,Helvetica Neue,Helvetica,sans-serif; font-size:48px; text-anchor:middle;\" transform=\"rotate(0, 1663.33, 1557.47)\" x=\"1663.33\" y=\"1557.47\">1.00</text>\n",
       "</g>\n",
       "<g clip-path=\"url(#clip4000)\">\n",
       "<text style=\"fill:#000000; fill-opacity:1; font-family:Arial,Helvetica Neue,Helvetica,sans-serif; font-size:48px; text-anchor:middle;\" transform=\"rotate(0, 2023.53, 1557.47)\" x=\"2023.53\" y=\"1557.47\">1.25</text>\n",
       "</g>\n",
       "<g clip-path=\"url(#clip4000)\">\n",
       "<text style=\"fill:#000000; fill-opacity:1; font-family:Arial,Helvetica Neue,Helvetica,sans-serif; font-size:48px; text-anchor:end;\" transform=\"rotate(0, 137.394, 1513.09)\" x=\"137.394\" y=\"1513.09\">0.4</text>\n",
       "</g>\n",
       "<g clip-path=\"url(#clip4000)\">\n",
       "<text style=\"fill:#000000; fill-opacity:1; font-family:Arial,Helvetica Neue,Helvetica,sans-serif; font-size:48px; text-anchor:end;\" transform=\"rotate(0, 137.394, 1278.57)\" x=\"137.394\" y=\"1278.57\">0.5</text>\n",
       "</g>\n",
       "<g clip-path=\"url(#clip4000)\">\n",
       "<text style=\"fill:#000000; fill-opacity:1; font-family:Arial,Helvetica Neue,Helvetica,sans-serif; font-size:48px; text-anchor:end;\" transform=\"rotate(0, 137.394, 1044.05)\" x=\"137.394\" y=\"1044.05\">0.6</text>\n",
       "</g>\n",
       "<g clip-path=\"url(#clip4000)\">\n",
       "<text style=\"fill:#000000; fill-opacity:1; font-family:Arial,Helvetica Neue,Helvetica,sans-serif; font-size:48px; text-anchor:end;\" transform=\"rotate(0, 137.394, 809.526)\" x=\"137.394\" y=\"809.526\">0.7</text>\n",
       "</g>\n",
       "<g clip-path=\"url(#clip4000)\">\n",
       "<text style=\"fill:#000000; fill-opacity:1; font-family:Arial,Helvetica Neue,Helvetica,sans-serif; font-size:48px; text-anchor:end;\" transform=\"rotate(0, 137.394, 575.004)\" x=\"137.394\" y=\"575.004\">0.8</text>\n",
       "</g>\n",
       "<g clip-path=\"url(#clip4000)\">\n",
       "<text style=\"fill:#000000; fill-opacity:1; font-family:Arial,Helvetica Neue,Helvetica,sans-serif; font-size:48px; text-anchor:end;\" transform=\"rotate(0, 137.394, 340.481)\" x=\"137.394\" y=\"340.481\">0.9</text>\n",
       "</g>\n",
       "<g clip-path=\"url(#clip4000)\">\n",
       "<text style=\"fill:#000000; fill-opacity:1; font-family:Arial,Helvetica Neue,Helvetica,sans-serif; font-size:48px; text-anchor:end;\" transform=\"rotate(0, 137.394, 105.958)\" x=\"137.394\" y=\"105.958\">1.0</text>\n",
       "</g>\n",
       "<polyline clip-path=\"url(#clip4002)\" style=\"stroke:#009af9; stroke-width:4; stroke-opacity:1; fill:none\" points=\"\n",
       "  222.522,88.4582 242.898,121.162 263.275,152.967 283.651,183.908 304.027,214.021 324.403,243.339 344.779,271.892 365.155,299.711 385.531,326.823 405.907,353.254 \n",
       "  426.283,379.03 446.659,404.176 467.035,428.713 487.412,452.664 507.788,476.05 528.164,498.89 548.54,521.203 568.916,543.008 589.292,564.321 609.668,585.158 \n",
       "  630.044,605.537 650.42,625.471 670.796,644.974 691.172,664.062 711.549,682.747 731.925,701.041 752.301,718.956 772.677,736.505 793.053,753.699 813.429,770.548 \n",
       "  833.805,787.062 854.181,803.251 874.557,819.125 894.933,834.693 915.309,849.963 935.686,864.945 956.062,879.646 976.438,894.074 996.814,908.236 1017.19,922.141 \n",
       "  1037.57,935.794 1057.94,949.202 1078.32,962.373 1098.69,975.312 1119.07,988.026 1139.45,1000.52 1159.82,1012.8 1180.2,1024.87 1200.57,1036.74 1220.95,1048.41 \n",
       "  1241.33,1059.88 1261.7,1071.17 1282.08,1082.27 1302.46,1093.2 1322.83,1103.95 1343.21,1114.52 1363.58,1124.94 1383.96,1135.18 1404.34,1145.27 1424.71,1155.2 \n",
       "  1445.09,1164.99 1465.46,1174.62 1485.84,1184.11 1506.22,1193.45 1526.59,1202.66 1546.97,1211.73 1567.34,1220.67 1587.72,1229.48 1608.1,1238.16 1628.47,1246.71 \n",
       "  1648.85,1255.15 1669.22,1263.47 1689.6,1271.67 1709.98,1279.75 1730.35,1287.73 1750.73,1295.59 1771.11,1303.35 1791.48,1311 1811.86,1318.55 1832.23,1326 \n",
       "  1852.61,1333.35 1872.99,1340.6 1893.36,1347.76 1913.74,1354.82 1934.11,1361.8 1954.49,1368.68 1974.87,1375.48 1995.24,1382.19 2015.62,1388.81 2035.99,1395.35 \n",
       "  2056.37,1401.82 2076.75,1408.2 2097.12,1414.5 2117.5,1420.72 2137.88,1426.87 2158.25,1432.95 2178.63,1438.95 2199,1444.88 2219.38,1450.74 2239.76,1456.54 \n",
       "  2260.13,1462.26 \n",
       "  \"/>\n",
       "</svg>\n"
      ]
     },
     "execution_count": 1,
     "metadata": {},
     "output_type": "execute_result"
    }
   ],
   "source": [
    "function obj(eta,theta)\n",
    "    b = 0.8\n",
    "    a = 1/10*(2b-1)\n",
    "    x = theta[1]\n",
    "    y = theta[2]\n",
    "    r = (x^2+y^2)^0.5\n",
    "    #m = a*(r-b)^2-a*b^2+1\n",
    "    #m = cos(10*pi*r) - 0.1r + 2\n",
    "    m = 1/(1+r)\n",
    "    return m\n",
    "end\n",
    "\n",
    "x = 0:0.01:1\n",
    "r = zeros(length(x))\n",
    "fx = zeros(length(x))\n",
    "for i in 1:length(x)\n",
    "    r[i] = (x[i]^2+x[i]^2)^0.5\n",
    "    fx[i] = obj([1,1],[x[i],x[i]])\n",
    "end\n",
    "using Plots\n",
    "plot(r,fx, legend=false)"
   ]
  },
  {
   "cell_type": "code",
   "execution_count": 2,
   "metadata": {},
   "outputs": [
    {
     "data": {
      "text/plain": [
       "particle (generic function with 1 method)"
      ]
     },
     "execution_count": 2,
     "metadata": {},
     "output_type": "execute_result"
    }
   ],
   "source": [
    "function proj2(x)\n",
    "    x = max.(x,design2[:,1])\n",
    "    x = min.(x,design2[:,2])\n",
    "    return x\n",
    "end\n",
    "\n",
    "function particle(lp2)\n",
    "    #initialize\n",
    "    #srand(1992)\n",
    "    history = zeros(niter2+1,p2*nptc2)\n",
    "    tau2 = 0.9:(-0.5/niter2):0.4\n",
    "    v2 = zeros(nptc2, p2)\n",
    "    ptc2 = rand(nptc2, p2)\n",
    "    for j2 in 1:p2\n",
    "            ptc2[:,j2] = (design2[j2,2] - design2[j2,1]) * ptc2[:,j2] .+ design2[j2,1]\n",
    "    end\n",
    "    pbesth2 = zeros(nptc2)\n",
    "    pbest2 = ptc2\n",
    "    for j2 in 1:nptc2\n",
    "        pbesth2[j2] = obj([1,1],pbest2[j2,:])\n",
    "    end\n",
    "    gbesth2 = findmax(pbesth2)[1]\n",
    "    gbest2 = pbest2[findmax(pbesth2)[2],:]\n",
    "    \n",
    "    history[1,:] = reshape(ptc2, p2*nptc2)\n",
    "\n",
    "    #iterate\n",
    "    for i2 in 1:niter2 # iteration number\n",
    "        g12 = rand(p2)\n",
    "        g22 = rand(p2)\n",
    "        for j2 in 1:nptc2 # particle number\n",
    "\n",
    "            v2[j2,:] = tau2[i2] .*v2[j2,:] + lp2 .* g12 .*(pbest2[j2,:]-ptc2[j2,:]) + lp2 .* g22 .*(gbest2-ptc2[j2,:])\n",
    "            ptc2[j2,:] = ptc2[j2,:] + v2[j2,:]\n",
    "            ptc2[j2,:] = proj2(ptc2[j2,:])\n",
    "            fit2 = obj([1,1],ptc2[j2,:])\n",
    "            if fit2 > gbesth2\n",
    "                gbesth2 = pbesth2[j2] = fit2\n",
    "                gbest2 = pbest2[j2,:] = ptc2[j2,:]\n",
    "            elseif fit2 > pbesth2[j2]\n",
    "                pbesth2[j2] = fit2\n",
    "                pbest2[j2,:] = ptc2[j2,:]\n",
    "            end\n",
    "        end\n",
    "        history[i2+1,:] = reshape(ptc2, p2*nptc2)\n",
    "    end\n",
    "    return history\n",
    "end"
   ]
  },
  {
   "cell_type": "code",
   "execution_count": 3,
   "metadata": {
    "scrolled": false
   },
   "outputs": [
    {
     "name": "stderr",
     "output_type": "stream",
     "text": [
      "┌ Info: Saved animation to \n",
      "│   fn = /DATA/home/ppinsm/Master's Thesis/movement_easy_function_big_learning_rate.gif\n",
      "└ @ Plots /DATA/home/ppinsm/.julia/packages/Plots/47Tik/src/animation.jl:90\n"
     ]
    },
    {
     "data": {
      "text/html": [
       "<img src=\"movement_easy_function_big_learning_rate.gif\" />"
      ],
      "text/plain": [
       "Plots.AnimatedGif(\"/DATA/home/ppinsm/Master's Thesis/movement_easy_function_big_learning_rate.gif\")"
      ]
     },
     "execution_count": 3,
     "metadata": {},
     "output_type": "execute_result"
    }
   ],
   "source": [
    "# outer loop\n",
    "k = 1\n",
    "nptc = 32\n",
    "niter = 100\n",
    "design = [-1 4]\n",
    "p = size(design)[1]\n",
    "\n",
    "# inner loop\n",
    "nptc2 = 50\n",
    "niter2 = 50\n",
    "design2 =  [-1 1 ; -1 1]\n",
    "p2 = size(design2)[1]\n",
    "\n",
    "result = particle(20)\n",
    "\n",
    "using StatsPlots\n",
    "\n",
    "anim = @animate for i=1:51\n",
    "    scatter(result[i,1:50],result[i,(1:50).+50],legend=false, xlims=(-1,1), ylims=(-1,1),title=\"$(i-1)\", color=:red)\n",
    "end\n",
    "gif(anim, \"movement_easy_function_big_learning_rate.gif\", fps = 3)"
   ]
  },
  {
   "cell_type": "code",
   "execution_count": 4,
   "metadata": {
    "scrolled": false
   },
   "outputs": [
    {
     "name": "stderr",
     "output_type": "stream",
     "text": [
      "┌ Info: Saved animation to \n",
      "│   fn = /DATA/home/ppinsm/Master's Thesis/movement_easy_function_moderate_learning_rate.gif\n",
      "└ @ Plots /DATA/home/ppinsm/.julia/packages/Plots/47Tik/src/animation.jl:90\n"
     ]
    },
    {
     "data": {
      "text/html": [
       "<img src=\"movement_easy_function_moderate_learning_rate.gif\" />"
      ],
      "text/plain": [
       "Plots.AnimatedGif(\"/DATA/home/ppinsm/Master's Thesis/movement_easy_function_moderate_learning_rate.gif\")"
      ]
     },
     "execution_count": 4,
     "metadata": {},
     "output_type": "execute_result"
    }
   ],
   "source": [
    "result = particle(2)\n",
    "anim = @animate for i=1:51\n",
    "    scatter(result[i,1:50],result[i,(1:50).+50],legend=false, xlims=(-1,1), ylims=(-1,1),title=\"$(i-1)\")\n",
    "end\n",
    "gif(anim, \"movement_easy_function_moderate_learning_rate.gif\", fps = 3)"
   ]
  },
  {
   "cell_type": "markdown",
   "metadata": {},
   "source": [
    "# $f=cos(8\\pi x)-0.1x$"
   ]
  },
  {
   "cell_type": "code",
   "execution_count": 5,
   "metadata": {},
   "outputs": [
    {
     "data": {
      "image/svg+xml": [
       "<?xml version=\"1.0\" encoding=\"utf-8\"?>\n",
       "<svg xmlns=\"http://www.w3.org/2000/svg\" xmlns:xlink=\"http://www.w3.org/1999/xlink\" width=\"600\" height=\"400\" viewBox=\"0 0 2400 1600\">\n",
       "<defs>\n",
       "  <clipPath id=\"clip4600\">\n",
       "    <rect x=\"0\" y=\"0\" width=\"2400\" height=\"1600\"/>\n",
       "  </clipPath>\n",
       "</defs>\n",
       "<polygon clip-path=\"url(#clip4600)\" points=\"\n",
       "0,1600 2400,1600 2400,0 0,0 \n",
       "  \" fill=\"#ffffff\" fill-rule=\"evenodd\" fill-opacity=\"1\"/>\n",
       "<defs>\n",
       "  <clipPath id=\"clip4601\">\n",
       "    <rect x=\"480\" y=\"0\" width=\"1681\" height=\"1600\"/>\n",
       "  </clipPath>\n",
       "</defs>\n",
       "<polygon clip-path=\"url(#clip4600)\" points=\"\n",
       "121.251,1503.47 2321.26,1503.47 2321.26,47.2441 121.251,47.2441 \n",
       "  \" fill=\"#ffffff\" fill-rule=\"evenodd\" fill-opacity=\"1\"/>\n",
       "<defs>\n",
       "  <clipPath id=\"clip4602\">\n",
       "    <rect x=\"121\" y=\"47\" width=\"2201\" height=\"1457\"/>\n",
       "  </clipPath>\n",
       "</defs>\n",
       "<polyline clip-path=\"url(#clip4602)\" style=\"stroke:#000000; stroke-width:2; stroke-opacity:0.1; fill:none\" points=\"\n",
       "  183.515,1503.47 183.515,47.2441 \n",
       "  \"/>\n",
       "<polyline clip-path=\"url(#clip4602)\" style=\"stroke:#000000; stroke-width:2; stroke-opacity:0.1; fill:none\" points=\"\n",
       "  550.412,1503.47 550.412,47.2441 \n",
       "  \"/>\n",
       "<polyline clip-path=\"url(#clip4602)\" style=\"stroke:#000000; stroke-width:2; stroke-opacity:0.1; fill:none\" points=\"\n",
       "  917.308,1503.47 917.308,47.2441 \n",
       "  \"/>\n",
       "<polyline clip-path=\"url(#clip4602)\" style=\"stroke:#000000; stroke-width:2; stroke-opacity:0.1; fill:none\" points=\"\n",
       "  1284.2,1503.47 1284.2,47.2441 \n",
       "  \"/>\n",
       "<polyline clip-path=\"url(#clip4602)\" style=\"stroke:#000000; stroke-width:2; stroke-opacity:0.1; fill:none\" points=\"\n",
       "  1651.1,1503.47 1651.1,47.2441 \n",
       "  \"/>\n",
       "<polyline clip-path=\"url(#clip4602)\" style=\"stroke:#000000; stroke-width:2; stroke-opacity:0.1; fill:none\" points=\"\n",
       "  2018,1503.47 2018,47.2441 \n",
       "  \"/>\n",
       "<polyline clip-path=\"url(#clip4602)\" style=\"stroke:#000000; stroke-width:2; stroke-opacity:0.1; fill:none\" points=\"\n",
       "  121.251,1311.96 2321.26,1311.96 \n",
       "  \"/>\n",
       "<polyline clip-path=\"url(#clip4602)\" style=\"stroke:#000000; stroke-width:2; stroke-opacity:0.1; fill:none\" points=\"\n",
       "  121.251,904.127 2321.26,904.127 \n",
       "  \"/>\n",
       "<polyline clip-path=\"url(#clip4602)\" style=\"stroke:#000000; stroke-width:2; stroke-opacity:0.1; fill:none\" points=\"\n",
       "  121.251,496.293 2321.26,496.293 \n",
       "  \"/>\n",
       "<polyline clip-path=\"url(#clip4602)\" style=\"stroke:#000000; stroke-width:2; stroke-opacity:0.1; fill:none\" points=\"\n",
       "  121.251,88.4582 2321.26,88.4582 \n",
       "  \"/>\n",
       "<polyline clip-path=\"url(#clip4600)\" style=\"stroke:#000000; stroke-width:4; stroke-opacity:1; fill:none\" points=\"\n",
       "  121.251,1503.47 2321.26,1503.47 \n",
       "  \"/>\n",
       "<polyline clip-path=\"url(#clip4600)\" style=\"stroke:#000000; stroke-width:4; stroke-opacity:1; fill:none\" points=\"\n",
       "  121.251,1503.47 121.251,47.2441 \n",
       "  \"/>\n",
       "<polyline clip-path=\"url(#clip4600)\" style=\"stroke:#000000; stroke-width:4; stroke-opacity:1; fill:none\" points=\"\n",
       "  183.515,1503.47 183.515,1481.63 \n",
       "  \"/>\n",
       "<polyline clip-path=\"url(#clip4600)\" style=\"stroke:#000000; stroke-width:4; stroke-opacity:1; fill:none\" points=\"\n",
       "  550.412,1503.47 550.412,1481.63 \n",
       "  \"/>\n",
       "<polyline clip-path=\"url(#clip4600)\" style=\"stroke:#000000; stroke-width:4; stroke-opacity:1; fill:none\" points=\"\n",
       "  917.308,1503.47 917.308,1481.63 \n",
       "  \"/>\n",
       "<polyline clip-path=\"url(#clip4600)\" style=\"stroke:#000000; stroke-width:4; stroke-opacity:1; fill:none\" points=\"\n",
       "  1284.2,1503.47 1284.2,1481.63 \n",
       "  \"/>\n",
       "<polyline clip-path=\"url(#clip4600)\" style=\"stroke:#000000; stroke-width:4; stroke-opacity:1; fill:none\" points=\"\n",
       "  1651.1,1503.47 1651.1,1481.63 \n",
       "  \"/>\n",
       "<polyline clip-path=\"url(#clip4600)\" style=\"stroke:#000000; stroke-width:4; stroke-opacity:1; fill:none\" points=\"\n",
       "  2018,1503.47 2018,1481.63 \n",
       "  \"/>\n",
       "<polyline clip-path=\"url(#clip4600)\" style=\"stroke:#000000; stroke-width:4; stroke-opacity:1; fill:none\" points=\"\n",
       "  121.251,1311.96 154.251,1311.96 \n",
       "  \"/>\n",
       "<polyline clip-path=\"url(#clip4600)\" style=\"stroke:#000000; stroke-width:4; stroke-opacity:1; fill:none\" points=\"\n",
       "  121.251,904.127 154.251,904.127 \n",
       "  \"/>\n",
       "<polyline clip-path=\"url(#clip4600)\" style=\"stroke:#000000; stroke-width:4; stroke-opacity:1; fill:none\" points=\"\n",
       "  121.251,496.293 154.251,496.293 \n",
       "  \"/>\n",
       "<polyline clip-path=\"url(#clip4600)\" style=\"stroke:#000000; stroke-width:4; stroke-opacity:1; fill:none\" points=\"\n",
       "  121.251,88.4582 154.251,88.4582 \n",
       "  \"/>\n",
       "<g clip-path=\"url(#clip4600)\">\n",
       "<text style=\"fill:#000000; fill-opacity:1; font-family:Arial,Helvetica Neue,Helvetica,sans-serif; font-size:48px; text-anchor:middle;\" transform=\"rotate(0, 183.515, 1557.47)\" x=\"183.515\" y=\"1557.47\">0.00</text>\n",
       "</g>\n",
       "<g clip-path=\"url(#clip4600)\">\n",
       "<text style=\"fill:#000000; fill-opacity:1; font-family:Arial,Helvetica Neue,Helvetica,sans-serif; font-size:48px; text-anchor:middle;\" transform=\"rotate(0, 550.412, 1557.47)\" x=\"550.412\" y=\"1557.47\">0.25</text>\n",
       "</g>\n",
       "<g clip-path=\"url(#clip4600)\">\n",
       "<text style=\"fill:#000000; fill-opacity:1; font-family:Arial,Helvetica Neue,Helvetica,sans-serif; font-size:48px; text-anchor:middle;\" transform=\"rotate(0, 917.308, 1557.47)\" x=\"917.308\" y=\"1557.47\">0.50</text>\n",
       "</g>\n",
       "<g clip-path=\"url(#clip4600)\">\n",
       "<text style=\"fill:#000000; fill-opacity:1; font-family:Arial,Helvetica Neue,Helvetica,sans-serif; font-size:48px; text-anchor:middle;\" transform=\"rotate(0, 1284.2, 1557.47)\" x=\"1284.2\" y=\"1557.47\">0.75</text>\n",
       "</g>\n",
       "<g clip-path=\"url(#clip4600)\">\n",
       "<text style=\"fill:#000000; fill-opacity:1; font-family:Arial,Helvetica Neue,Helvetica,sans-serif; font-size:48px; text-anchor:middle;\" transform=\"rotate(0, 1651.1, 1557.47)\" x=\"1651.1\" y=\"1557.47\">1.00</text>\n",
       "</g>\n",
       "<g clip-path=\"url(#clip4600)\">\n",
       "<text style=\"fill:#000000; fill-opacity:1; font-family:Arial,Helvetica Neue,Helvetica,sans-serif; font-size:48px; text-anchor:middle;\" transform=\"rotate(0, 2018, 1557.47)\" x=\"2018\" y=\"1557.47\">1.25</text>\n",
       "</g>\n",
       "<g clip-path=\"url(#clip4600)\">\n",
       "<text style=\"fill:#000000; fill-opacity:1; font-family:Arial,Helvetica Neue,Helvetica,sans-serif; font-size:48px; text-anchor:end;\" transform=\"rotate(0, 97.2505, 1329.46)\" x=\"97.2505\" y=\"1329.46\">0</text>\n",
       "</g>\n",
       "<g clip-path=\"url(#clip4600)\">\n",
       "<text style=\"fill:#000000; fill-opacity:1; font-family:Arial,Helvetica Neue,Helvetica,sans-serif; font-size:48px; text-anchor:end;\" transform=\"rotate(0, 97.2505, 921.627)\" x=\"97.2505\" y=\"921.627\">1</text>\n",
       "</g>\n",
       "<g clip-path=\"url(#clip4600)\">\n",
       "<text style=\"fill:#000000; fill-opacity:1; font-family:Arial,Helvetica Neue,Helvetica,sans-serif; font-size:48px; text-anchor:end;\" transform=\"rotate(0, 97.2505, 513.793)\" x=\"97.2505\" y=\"513.793\">2</text>\n",
       "</g>\n",
       "<g clip-path=\"url(#clip4600)\">\n",
       "<text style=\"fill:#000000; fill-opacity:1; font-family:Arial,Helvetica Neue,Helvetica,sans-serif; font-size:48px; text-anchor:end;\" transform=\"rotate(0, 97.2505, 105.958)\" x=\"97.2505\" y=\"105.958\">3</text>\n",
       "</g>\n",
       "<polyline clip-path=\"url(#clip4602)\" style=\"stroke:#009af9; stroke-width:4; stroke-opacity:1; fill:none\" points=\"\n",
       "  183.515,88.4582 204.27,119.717 225.025,198.771 245.779,316.459 266.534,458.791 287.289,608.694 308.044,748.152 328.799,860.452 349.553,932.276 370.308,955.367 \n",
       "  391.063,927.56 411.818,853.052 432.573,741.877 453.327,608.655 474.082,470.76 494.837,346.15 515.592,251.124 536.347,198.282 557.101,194.949 577.856,242.265 \n",
       "  598.611,335.035 619.366,462.383 640.121,609.11 660.875,757.597 681.63,890.002 702.385,990.494 723.14,1047.23 743.895,1053.85 764.649,1010.23 785.404,922.554 \n",
       "  806.159,802.502 826.914,665.802 847.669,530.263 868.424,413.549 889.178,330.972 909.933,293.574 930.688,306.753 951.443,369.581 972.198,474.925 992.952,610.339 \n",
       "  1013.71,759.615 1034.46,904.813 1055.22,1028.5 1075.97,1115.95 1096.73,1156.93 1117.48,1147.06 1138.24,1088.28 1158.99,988.66 1179.75,861.381 1200.5,723.071 \n",
       "  1221.26,591.741 1242.01,484.529 1262.76,415.558 1283.52,394.172 1304.27,423.764 1325.03,501.356 1345.78,617.97 1366.54,759.749 1387.29,909.691 1408.05,1049.77 \n",
       "  1428.8,1163.21 1449.56,1236.53 1470.31,1261.3 1491.07,1235.14 1511.82,1162.04 1532.58,1051.86 1553.33,919.103 1574.09,781.072 1594.84,655.748 1615.6,559.52 \n",
       "  1636.35,505.136 1657.11,500.116 1677.86,545.809 1698.62,637.223 1719.37,763.653 1740.13,910.015 1760.88,1058.73 1781.63,1191.94 1802.39,1293.7 1823.14,1352.02 \n",
       "  1843.9,1360.32 1864.65,1318.3 1885.41,1231.92 1906.16,1112.7 1926.92,976.272 1947.67,840.406 1968.43,722.807 1989.18,638.899 2009.94,599.89 2030.69,611.379 \n",
       "  2051.45,672.649 2072.2,776.764 2092.96,911.428 2113.71,1060.53 2134.47,1206.15 2155.22,1330.81 2175.98,1419.64 2196.73,1462.26 2217.49,1454.07 2238.24,1396.8 \n",
       "  2259,1298.35 \n",
       "  \"/>\n",
       "</svg>\n"
      ]
     },
     "execution_count": 5,
     "metadata": {},
     "output_type": "execute_result"
    }
   ],
   "source": [
    "function obj(eta,theta)\n",
    "    b = 0.8\n",
    "    a = 1/10*(2b-1)\n",
    "    x = theta[1]\n",
    "    y = theta[2]\n",
    "    r = (x^2+y^2)^0.5\n",
    "    #m = a*(r-b)^2-a*b^2+1\n",
    "    m = cos(8*pi*r) - r + 2\n",
    "    #m = 1/(x+y)\n",
    "    return m\n",
    "end\n",
    "\n",
    "x = 0:0.01:1\n",
    "r = zeros(length(x))\n",
    "fx = zeros(length(x))\n",
    "for i in 1:length(x)\n",
    "    r[i] = (x[i]^2+x[i]^2)^0.5\n",
    "    fx[i] = obj([1,1],[x[i],x[i]])\n",
    "end\n",
    "plot(r,fx, legend=false)"
   ]
  },
  {
   "cell_type": "code",
   "execution_count": 6,
   "metadata": {},
   "outputs": [
    {
     "name": "stderr",
     "output_type": "stream",
     "text": [
      "┌ Info: Saved animation to \n",
      "│   fn = /DATA/home/ppinsm/Master's Thesis/movement_wiggly_function_big_learning_rate.gif\n",
      "└ @ Plots /DATA/home/ppinsm/.julia/packages/Plots/47Tik/src/animation.jl:90\n"
     ]
    },
    {
     "data": {
      "text/html": [
       "<img src=\"movement_wiggly_function_big_learning_rate.gif\" />"
      ],
      "text/plain": [
       "Plots.AnimatedGif(\"/DATA/home/ppinsm/Master's Thesis/movement_wiggly_function_big_learning_rate.gif\")"
      ]
     },
     "execution_count": 6,
     "metadata": {},
     "output_type": "execute_result"
    }
   ],
   "source": [
    "result = particle(20)\n",
    "anim = @animate for i=1:51\n",
    "    scatter(result[i,1:50],result[i,(1:50).+50],legend=false, xlims=(-1,1), ylims=(-1,1),title=\"$(i-1)\",color=:red)\n",
    "end\n",
    "gif(anim, \"movement_wiggly_function_big_learning_rate.gif\", fps = 3)"
   ]
  },
  {
   "cell_type": "code",
   "execution_count": 7,
   "metadata": {},
   "outputs": [
    {
     "name": "stderr",
     "output_type": "stream",
     "text": [
      "┌ Info: Saved animation to \n",
      "│   fn = /DATA/home/ppinsm/Master's Thesis/movement_wiggly_function_moderate_learning_rate.gif\n",
      "└ @ Plots /DATA/home/ppinsm/.julia/packages/Plots/47Tik/src/animation.jl:90\n"
     ]
    },
    {
     "data": {
      "text/html": [
       "<img src=\"movement_wiggly_function_moderate_learning_rate.gif\" />"
      ],
      "text/plain": [
       "Plots.AnimatedGif(\"/DATA/home/ppinsm/Master's Thesis/movement_wiggly_function_moderate_learning_rate.gif\")"
      ]
     },
     "execution_count": 7,
     "metadata": {},
     "output_type": "execute_result"
    }
   ],
   "source": [
    "result = particle(2)\n",
    "anim = @animate for i=1:51\n",
    "    scatter(result[i,1:50],result[i,(1:50).+50],legend=false, xlims=(-1,1), ylims=(-1,1),title=\"$(i-1)\")\n",
    "end\n",
    "gif(anim, \"movement_wiggly_function_moderate_learning_rate.gif\", fps = 3)"
   ]
  },
  {
   "cell_type": "markdown",
   "metadata": {},
   "source": [
    "# $f=ax^2+bx+c$"
   ]
  },
  {
   "cell_type": "code",
   "execution_count": 8,
   "metadata": {},
   "outputs": [
    {
     "data": {
      "image/svg+xml": [
       "<?xml version=\"1.0\" encoding=\"utf-8\"?>\n",
       "<svg xmlns=\"http://www.w3.org/2000/svg\" xmlns:xlink=\"http://www.w3.org/1999/xlink\" width=\"600\" height=\"400\" viewBox=\"0 0 2400 1600\">\n",
       "<defs>\n",
       "  <clipPath id=\"clip5200\">\n",
       "    <rect x=\"0\" y=\"0\" width=\"2400\" height=\"1600\"/>\n",
       "  </clipPath>\n",
       "</defs>\n",
       "<polygon clip-path=\"url(#clip5200)\" points=\"\n",
       "0,1600 2400,1600 2400,0 0,0 \n",
       "  \" fill=\"#ffffff\" fill-rule=\"evenodd\" fill-opacity=\"1\"/>\n",
       "<defs>\n",
       "  <clipPath id=\"clip5201\">\n",
       "    <rect x=\"480\" y=\"0\" width=\"1681\" height=\"1600\"/>\n",
       "  </clipPath>\n",
       "</defs>\n",
       "<polygon clip-path=\"url(#clip5200)\" points=\"\n",
       "214.919,1503.47 2321.26,1503.47 2321.26,47.2441 214.919,47.2441 \n",
       "  \" fill=\"#ffffff\" fill-rule=\"evenodd\" fill-opacity=\"1\"/>\n",
       "<defs>\n",
       "  <clipPath id=\"clip5202\">\n",
       "    <rect x=\"214\" y=\"47\" width=\"2107\" height=\"1457\"/>\n",
       "  </clipPath>\n",
       "</defs>\n",
       "<polyline clip-path=\"url(#clip5202)\" style=\"stroke:#000000; stroke-width:2; stroke-opacity:0.1; fill:none\" points=\"\n",
       "  274.532,1503.47 274.532,47.2441 \n",
       "  \"/>\n",
       "<polyline clip-path=\"url(#clip5202)\" style=\"stroke:#000000; stroke-width:2; stroke-opacity:0.1; fill:none\" points=\"\n",
       "  625.808,1503.47 625.808,47.2441 \n",
       "  \"/>\n",
       "<polyline clip-path=\"url(#clip5202)\" style=\"stroke:#000000; stroke-width:2; stroke-opacity:0.1; fill:none\" points=\"\n",
       "  977.083,1503.47 977.083,47.2441 \n",
       "  \"/>\n",
       "<polyline clip-path=\"url(#clip5202)\" style=\"stroke:#000000; stroke-width:2; stroke-opacity:0.1; fill:none\" points=\"\n",
       "  1328.36,1503.47 1328.36,47.2441 \n",
       "  \"/>\n",
       "<polyline clip-path=\"url(#clip5202)\" style=\"stroke:#000000; stroke-width:2; stroke-opacity:0.1; fill:none\" points=\"\n",
       "  1679.63,1503.47 1679.63,47.2441 \n",
       "  \"/>\n",
       "<polyline clip-path=\"url(#clip5202)\" style=\"stroke:#000000; stroke-width:2; stroke-opacity:0.1; fill:none\" points=\"\n",
       "  2030.91,1503.47 2030.91,47.2441 \n",
       "  \"/>\n",
       "<polyline clip-path=\"url(#clip5202)\" style=\"stroke:#000000; stroke-width:2; stroke-opacity:0.1; fill:none\" points=\"\n",
       "  214.919,1309.62 2321.26,1309.62 \n",
       "  \"/>\n",
       "<polyline clip-path=\"url(#clip5202)\" style=\"stroke:#000000; stroke-width:2; stroke-opacity:0.1; fill:none\" points=\"\n",
       "  214.919,1065.38 2321.26,1065.38 \n",
       "  \"/>\n",
       "<polyline clip-path=\"url(#clip5202)\" style=\"stroke:#000000; stroke-width:2; stroke-opacity:0.1; fill:none\" points=\"\n",
       "  214.919,821.153 2321.26,821.153 \n",
       "  \"/>\n",
       "<polyline clip-path=\"url(#clip5202)\" style=\"stroke:#000000; stroke-width:2; stroke-opacity:0.1; fill:none\" points=\"\n",
       "  214.919,576.921 2321.26,576.921 \n",
       "  \"/>\n",
       "<polyline clip-path=\"url(#clip5202)\" style=\"stroke:#000000; stroke-width:2; stroke-opacity:0.1; fill:none\" points=\"\n",
       "  214.919,332.69 2321.26,332.69 \n",
       "  \"/>\n",
       "<polyline clip-path=\"url(#clip5202)\" style=\"stroke:#000000; stroke-width:2; stroke-opacity:0.1; fill:none\" points=\"\n",
       "  214.919,88.4582 2321.26,88.4582 \n",
       "  \"/>\n",
       "<polyline clip-path=\"url(#clip5200)\" style=\"stroke:#000000; stroke-width:4; stroke-opacity:1; fill:none\" points=\"\n",
       "  214.919,1503.47 2321.26,1503.47 \n",
       "  \"/>\n",
       "<polyline clip-path=\"url(#clip5200)\" style=\"stroke:#000000; stroke-width:4; stroke-opacity:1; fill:none\" points=\"\n",
       "  214.919,1503.47 214.919,47.2441 \n",
       "  \"/>\n",
       "<polyline clip-path=\"url(#clip5200)\" style=\"stroke:#000000; stroke-width:4; stroke-opacity:1; fill:none\" points=\"\n",
       "  274.532,1503.47 274.532,1481.63 \n",
       "  \"/>\n",
       "<polyline clip-path=\"url(#clip5200)\" style=\"stroke:#000000; stroke-width:4; stroke-opacity:1; fill:none\" points=\"\n",
       "  625.808,1503.47 625.808,1481.63 \n",
       "  \"/>\n",
       "<polyline clip-path=\"url(#clip5200)\" style=\"stroke:#000000; stroke-width:4; stroke-opacity:1; fill:none\" points=\"\n",
       "  977.083,1503.47 977.083,1481.63 \n",
       "  \"/>\n",
       "<polyline clip-path=\"url(#clip5200)\" style=\"stroke:#000000; stroke-width:4; stroke-opacity:1; fill:none\" points=\"\n",
       "  1328.36,1503.47 1328.36,1481.63 \n",
       "  \"/>\n",
       "<polyline clip-path=\"url(#clip5200)\" style=\"stroke:#000000; stroke-width:4; stroke-opacity:1; fill:none\" points=\"\n",
       "  1679.63,1503.47 1679.63,1481.63 \n",
       "  \"/>\n",
       "<polyline clip-path=\"url(#clip5200)\" style=\"stroke:#000000; stroke-width:4; stroke-opacity:1; fill:none\" points=\"\n",
       "  2030.91,1503.47 2030.91,1481.63 \n",
       "  \"/>\n",
       "<polyline clip-path=\"url(#clip5200)\" style=\"stroke:#000000; stroke-width:4; stroke-opacity:1; fill:none\" points=\"\n",
       "  214.919,1309.62 246.514,1309.62 \n",
       "  \"/>\n",
       "<polyline clip-path=\"url(#clip5200)\" style=\"stroke:#000000; stroke-width:4; stroke-opacity:1; fill:none\" points=\"\n",
       "  214.919,1065.38 246.514,1065.38 \n",
       "  \"/>\n",
       "<polyline clip-path=\"url(#clip5200)\" style=\"stroke:#000000; stroke-width:4; stroke-opacity:1; fill:none\" points=\"\n",
       "  214.919,821.153 246.514,821.153 \n",
       "  \"/>\n",
       "<polyline clip-path=\"url(#clip5200)\" style=\"stroke:#000000; stroke-width:4; stroke-opacity:1; fill:none\" points=\"\n",
       "  214.919,576.921 246.514,576.921 \n",
       "  \"/>\n",
       "<polyline clip-path=\"url(#clip5200)\" style=\"stroke:#000000; stroke-width:4; stroke-opacity:1; fill:none\" points=\"\n",
       "  214.919,332.69 246.514,332.69 \n",
       "  \"/>\n",
       "<polyline clip-path=\"url(#clip5200)\" style=\"stroke:#000000; stroke-width:4; stroke-opacity:1; fill:none\" points=\"\n",
       "  214.919,88.4582 246.514,88.4582 \n",
       "  \"/>\n",
       "<g clip-path=\"url(#clip5200)\">\n",
       "<text style=\"fill:#000000; fill-opacity:1; font-family:Arial,Helvetica Neue,Helvetica,sans-serif; font-size:48px; text-anchor:middle;\" transform=\"rotate(0, 274.532, 1557.47)\" x=\"274.532\" y=\"1557.47\">0.00</text>\n",
       "</g>\n",
       "<g clip-path=\"url(#clip5200)\">\n",
       "<text style=\"fill:#000000; fill-opacity:1; font-family:Arial,Helvetica Neue,Helvetica,sans-serif; font-size:48px; text-anchor:middle;\" transform=\"rotate(0, 625.808, 1557.47)\" x=\"625.808\" y=\"1557.47\">0.25</text>\n",
       "</g>\n",
       "<g clip-path=\"url(#clip5200)\">\n",
       "<text style=\"fill:#000000; fill-opacity:1; font-family:Arial,Helvetica Neue,Helvetica,sans-serif; font-size:48px; text-anchor:middle;\" transform=\"rotate(0, 977.083, 1557.47)\" x=\"977.083\" y=\"1557.47\">0.50</text>\n",
       "</g>\n",
       "<g clip-path=\"url(#clip5200)\">\n",
       "<text style=\"fill:#000000; fill-opacity:1; font-family:Arial,Helvetica Neue,Helvetica,sans-serif; font-size:48px; text-anchor:middle;\" transform=\"rotate(0, 1328.36, 1557.47)\" x=\"1328.36\" y=\"1557.47\">0.75</text>\n",
       "</g>\n",
       "<g clip-path=\"url(#clip5200)\">\n",
       "<text style=\"fill:#000000; fill-opacity:1; font-family:Arial,Helvetica Neue,Helvetica,sans-serif; font-size:48px; text-anchor:middle;\" transform=\"rotate(0, 1679.63, 1557.47)\" x=\"1679.63\" y=\"1557.47\">1.00</text>\n",
       "</g>\n",
       "<g clip-path=\"url(#clip5200)\">\n",
       "<text style=\"fill:#000000; fill-opacity:1; font-family:Arial,Helvetica Neue,Helvetica,sans-serif; font-size:48px; text-anchor:middle;\" transform=\"rotate(0, 2030.91, 1557.47)\" x=\"2030.91\" y=\"1557.47\">1.25</text>\n",
       "</g>\n",
       "<g clip-path=\"url(#clip5200)\">\n",
       "<text style=\"fill:#000000; fill-opacity:1; font-family:Arial,Helvetica Neue,Helvetica,sans-serif; font-size:48px; text-anchor:end;\" transform=\"rotate(0, 190.919, 1327.12)\" x=\"190.919\" y=\"1327.12\">0.975</text>\n",
       "</g>\n",
       "<g clip-path=\"url(#clip5200)\">\n",
       "<text style=\"fill:#000000; fill-opacity:1; font-family:Arial,Helvetica Neue,Helvetica,sans-serif; font-size:48px; text-anchor:end;\" transform=\"rotate(0, 190.919, 1082.88)\" x=\"190.919\" y=\"1082.88\">0.980</text>\n",
       "</g>\n",
       "<g clip-path=\"url(#clip5200)\">\n",
       "<text style=\"fill:#000000; fill-opacity:1; font-family:Arial,Helvetica Neue,Helvetica,sans-serif; font-size:48px; text-anchor:end;\" transform=\"rotate(0, 190.919, 838.653)\" x=\"190.919\" y=\"838.653\">0.985</text>\n",
       "</g>\n",
       "<g clip-path=\"url(#clip5200)\">\n",
       "<text style=\"fill:#000000; fill-opacity:1; font-family:Arial,Helvetica Neue,Helvetica,sans-serif; font-size:48px; text-anchor:end;\" transform=\"rotate(0, 190.919, 594.421)\" x=\"190.919\" y=\"594.421\">0.990</text>\n",
       "</g>\n",
       "<g clip-path=\"url(#clip5200)\">\n",
       "<text style=\"fill:#000000; fill-opacity:1; font-family:Arial,Helvetica Neue,Helvetica,sans-serif; font-size:48px; text-anchor:end;\" transform=\"rotate(0, 190.919, 350.19)\" x=\"190.919\" y=\"350.19\">0.995</text>\n",
       "</g>\n",
       "<g clip-path=\"url(#clip5200)\">\n",
       "<text style=\"fill:#000000; fill-opacity:1; font-family:Arial,Helvetica Neue,Helvetica,sans-serif; font-size:48px; text-anchor:end;\" transform=\"rotate(0, 190.919, 105.958)\" x=\"190.919\" y=\"105.958\">1.000</text>\n",
       "</g>\n",
       "<polyline clip-path=\"url(#clip5202)\" style=\"stroke:#009af9; stroke-width:4; stroke-opacity:1; fill:none\" points=\"\n",
       "  274.532,88.4582 294.403,139.779 314.274,190.123 334.146,239.49 354.017,287.88 373.888,335.293 393.759,381.73 413.63,427.189 433.501,471.671 453.372,515.177 \n",
       "  473.244,557.705 493.115,599.257 512.986,639.832 532.857,679.43 552.728,718.05 572.599,755.694 592.47,792.361 612.342,828.051 632.213,862.764 652.084,896.501 \n",
       "  671.955,929.26 691.826,961.042 711.697,991.848 731.568,1021.68 751.44,1050.53 771.311,1078.4 791.182,1105.3 811.053,1131.22 830.924,1156.16 850.795,1180.13 \n",
       "  870.666,1203.12 890.538,1225.13 910.409,1246.17 930.28,1266.23 950.151,1285.31 970.022,1303.42 989.893,1320.55 1009.76,1336.7 1029.64,1351.87 1049.51,1366.07 \n",
       "  1069.38,1379.29 1089.25,1391.53 1109.12,1402.8 1128.99,1413.09 1148.86,1422.4 1168.73,1430.74 1188.6,1438.1 1208.48,1444.48 1228.35,1449.89 1248.22,1454.32 \n",
       "  1268.09,1457.77 1287.96,1460.24 1307.83,1461.74 1327.7,1462.26 1347.57,1461.8 1367.44,1460.37 1387.32,1457.96 1407.19,1454.57 1427.06,1450.21 1446.93,1444.87 \n",
       "  1466.8,1438.55 1486.67,1431.26 1506.54,1422.99 1526.41,1413.74 1546.29,1403.51 1566.16,1392.31 1586.03,1380.13 1605.9,1366.97 1625.77,1352.84 1645.64,1337.73 \n",
       "  1665.51,1321.64 1685.38,1304.58 1705.25,1286.54 1725.13,1267.52 1745,1247.53 1764.87,1226.55 1784.74,1204.61 1804.61,1181.68 1824.48,1157.78 1844.35,1132.9 \n",
       "  1864.22,1107.04 1884.09,1080.21 1903.97,1052.4 1923.84,1023.61 1943.71,993.847 1963.58,963.106 1983.45,931.388 2003.32,898.693 2023.19,865.022 2043.06,830.373 \n",
       "  2062.93,794.748 2082.81,758.145 2102.68,720.566 2122.55,682.009 2142.42,642.476 2162.29,601.966 2182.16,560.479 2202.03,518.015 2221.9,474.574 2241.78,430.156 \n",
       "  2261.65,384.761 \n",
       "  \"/>\n",
       "</svg>\n"
      ]
     },
     "execution_count": 8,
     "metadata": {},
     "output_type": "execute_result"
    }
   ],
   "source": [
    "function obj(eta,theta)\n",
    "    b = 0.75\n",
    "    a = 1/10*(2b-1)\n",
    "    x = theta[1]\n",
    "    y = theta[2]\n",
    "    r = (x^2+y^2)^0.5\n",
    "    m = a*(r-b)^2-a*b^2+1\n",
    "    #m = cos(10*pi*r) - 0.1r + 2\n",
    "    #m = 1/(x+y)\n",
    "    return m\n",
    "end\n",
    "\n",
    "x = 0:0.01:1\n",
    "r = zeros(length(x))\n",
    "fx = zeros(length(x))\n",
    "for i in 1:length(x)\n",
    "    r[i] = (x[i]^2+x[i]^2)^0.5\n",
    "    fx[i] = obj([1,1],[x[i],x[i]])\n",
    "end\n",
    "plot(r,fx, legend=false)"
   ]
  },
  {
   "cell_type": "code",
   "execution_count": 9,
   "metadata": {},
   "outputs": [
    {
     "name": "stderr",
     "output_type": "stream",
     "text": [
      "┌ Info: Saved animation to \n",
      "│   fn = /DATA/home/ppinsm/Master's Thesis/movement_bimodal_function_big_learning_rate.gif\n",
      "└ @ Plots /DATA/home/ppinsm/.julia/packages/Plots/47Tik/src/animation.jl:90\n"
     ]
    },
    {
     "data": {
      "text/html": [
       "<img src=\"movement_bimodal_function_big_learning_rate.gif\" />"
      ],
      "text/plain": [
       "Plots.AnimatedGif(\"/DATA/home/ppinsm/Master's Thesis/movement_bimodal_function_big_learning_rate.gif\")"
      ]
     },
     "execution_count": 9,
     "metadata": {},
     "output_type": "execute_result"
    }
   ],
   "source": [
    "result = particle(20)\n",
    "anim = @animate for i=1:51\n",
    "    scatter(result[i,1:50],result[i,(1:50).+50],legend=false, xlims=(-1,1), ylims=(-1,1),title=\"$(i-1)\",color=:red)\n",
    "end\n",
    "gif(anim, \"movement_bimodal_function_big_learning_rate.gif\", fps = 3)"
   ]
  },
  {
   "cell_type": "code",
   "execution_count": 10,
   "metadata": {},
   "outputs": [
    {
     "name": "stderr",
     "output_type": "stream",
     "text": [
      "┌ Info: Saved animation to \n",
      "│   fn = /DATA/home/ppinsm/Master's Thesis/movement_bimodal_function_moderate_learning_rate.gif\n",
      "└ @ Plots /DATA/home/ppinsm/.julia/packages/Plots/47Tik/src/animation.jl:90\n"
     ]
    },
    {
     "data": {
      "text/html": [
       "<img src=\"movement_bimodal_function_moderate_learning_rate.gif\" />"
      ],
      "text/plain": [
       "Plots.AnimatedGif(\"/DATA/home/ppinsm/Master's Thesis/movement_bimodal_function_moderate_learning_rate.gif\")"
      ]
     },
     "execution_count": 10,
     "metadata": {},
     "output_type": "execute_result"
    }
   ],
   "source": [
    "result = particle(2)\n",
    "anim = @animate for i=1:51\n",
    "    scatter(result[i,1:50],result[i,(1:50).+50],legend=false, xlims=(-1,1), ylims=(-1,1),title=\"$(i-1)\")\n",
    "end\n",
    "gif(anim, \"movement_bimodal_function_moderate_learning_rate.gif\", fps = 3)"
   ]
  },
  {
   "cell_type": "code",
   "execution_count": 11,
   "metadata": {},
   "outputs": [
    {
     "name": "stderr",
     "output_type": "stream",
     "text": [
      "┌ Info: Saved animation to \n",
      "│   fn = /DATA/home/ppinsm/Master's Thesis/movement_bimodal_function_moderate_learning_rate.gif\n",
      "└ @ Plots /DATA/home/ppinsm/.julia/packages/Plots/47Tik/src/animation.jl:90\n"
     ]
    },
    {
     "data": {
      "text/html": [
       "<img src=\"movement_bimodal_function_moderate_learning_rate.gif\" />"
      ],
      "text/plain": [
       "Plots.AnimatedGif(\"/DATA/home/ppinsm/Master's Thesis/movement_bimodal_function_moderate_learning_rate.gif\")"
      ]
     },
     "execution_count": 11,
     "metadata": {},
     "output_type": "execute_result"
    }
   ],
   "source": [
    "result = particle(0.2)\n",
    "anim = @animate for i=1:51\n",
    "    scatter(result[i,1:50],result[i,(1:50).+50],legend=false, xlims=(-1,1), ylims=(-1,1),title=\"$(i-1)\")\n",
    "end\n",
    "gif(anim, \"movement_bimodal_function_moderate_learning_rate.gif\", fps = 3)"
   ]
  },
  {
   "cell_type": "code",
   "execution_count": null,
   "metadata": {
    "collapsed": true
   },
   "outputs": [],
   "source": []
  }
 ],
 "metadata": {
  "kernelspec": {
   "display_name": "Julia 1.1.0",
   "language": "julia",
   "name": "julia-1.1"
  },
  "language_info": {
   "file_extension": ".jl",
   "mimetype": "application/julia",
   "name": "julia",
   "version": "1.1.0"
  }
 },
 "nbformat": 4,
 "nbformat_minor": 2
}
