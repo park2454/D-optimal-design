{
 "cells": [
  {
   "cell_type": "code",
   "execution_count": 1,
   "metadata": {
    "scrolled": true
   },
   "outputs": [
    {
     "data": {
      "text/plain": [
       "5×5 Array{Float64,2}:\n",
       " 0.512  0.474  0.55   0.51   0.494\n",
       " 0.682  0.682  0.73   0.718  0.73 \n",
       " 0.916  0.9    0.918  0.908  0.9  \n",
       " 0.99   0.984  0.992  0.99   0.988\n",
       " 1.0    1.0    1.0    0.998  1.0  "
      ]
     },
     "execution_count": 1,
     "metadata": {},
     "output_type": "execute_result"
    }
   ],
   "source": [
    "using NPZ\n",
    "\n",
    "npzread(\"quad3stab.npy\")"
   ]
  },
  {
   "cell_type": "code",
   "execution_count": 2,
   "metadata": {
    "scrolled": false
   },
   "outputs": [
    {
     "data": {
      "text/plain": [
       "5×5 Array{Float64,2}:\n",
       " 0.512  0.474  0.55   0.51   0.494\n",
       " 0.682  0.682  0.73   0.718  0.73 \n",
       " 0.916  0.9    0.918  0.908  0.9  \n",
       " 0.99   0.984  0.992  0.99   0.988\n",
       " 1.0    1.0    1.0    0.998  1.0  "
      ]
     },
     "execution_count": 2,
     "metadata": {},
     "output_type": "execute_result"
    }
   ],
   "source": [
    "npzread(\"quad3stab2.npy\")"
   ]
  },
  {
   "cell_type": "code",
   "execution_count": 3,
   "metadata": {
    "scrolled": true
   },
   "outputs": [
    {
     "data": {
      "text/plain": [
       "5×5 Array{Float64,2}:\n",
       " 0.0605145  0.119706  0.234754  0.587705   1.14848\n",
       " 0.117543   0.232323  0.459089  1.13943    2.28607\n",
       " 0.235134   0.464117  0.927686  2.29986    4.61447\n",
       " 0.469165   0.927717  1.88045   4.87504    9.88306\n",
       " 1.00923    1.99388   3.97278   9.90048   19.4563 "
      ]
     },
     "execution_count": 3,
     "metadata": {},
     "output_type": "execute_result"
    }
   ],
   "source": [
    "npzread(\"quad3time.npy\")"
   ]
  },
  {
   "cell_type": "code",
   "execution_count": 4,
   "metadata": {
    "scrolled": false
   },
   "outputs": [
    {
     "data": {
      "text/plain": [
       "5×5 Array{Float64,2}:\n",
       " 0.024  0.018  0.038  0.022  0.032\n",
       " 0.032  0.044  0.026  0.036  0.034\n",
       " 0.07   0.06   0.086  0.046  0.064\n",
       " 0.128  0.086  0.132  0.098  0.08 \n",
       " 0.176  0.19   0.176  0.15   0.172"
      ]
     },
     "execution_count": 4,
     "metadata": {},
     "output_type": "execute_result"
    }
   ],
   "source": [
    "npzread(\"quad4stab.npy\")"
   ]
  },
  {
   "cell_type": "code",
   "execution_count": 5,
   "metadata": {
    "scrolled": false
   },
   "outputs": [
    {
     "data": {
      "text/plain": [
       "5×5 Array{Float64,2}:\n",
       " 0.024  0.018  0.038  0.022  0.032\n",
       " 0.032  0.044  0.026  0.036  0.034\n",
       " 0.07   0.06   0.086  0.046  0.064\n",
       " 0.128  0.086  0.132  0.098  0.08 \n",
       " 0.176  0.19   0.176  0.15   0.172"
      ]
     },
     "execution_count": 5,
     "metadata": {},
     "output_type": "execute_result"
    }
   ],
   "source": [
    "npzread(\"quad4stab2.npy\")"
   ]
  },
  {
   "cell_type": "code",
   "execution_count": 6,
   "metadata": {
    "scrolled": true
   },
   "outputs": [
    {
     "data": {
      "text/plain": [
       "5×5 Array{Float64,2}:\n",
       " 0.0729653  0.139341  0.278853   0.68052   1.36337\n",
       " 0.142755   0.277924  0.554652   1.37045   2.73831\n",
       " 0.281975   0.557574  1.08287    2.59809   5.18581\n",
       " 0.526156   1.04294   2.07474    5.2886   10.683  \n",
       " 1.03984    2.05343   4.06993   10.137    20.7046 "
      ]
     },
     "execution_count": 6,
     "metadata": {},
     "output_type": "execute_result"
    }
   ],
   "source": [
    "npzread(\"quad4time.npy\")"
   ]
  }
 ],
 "metadata": {
  "kernelspec": {
   "display_name": "Julia 1.1.0",
   "language": "julia",
   "name": "julia-1.1"
  },
  "language_info": {
   "file_extension": ".jl",
   "mimetype": "application/julia",
   "name": "julia",
   "version": "1.1.0"
  }
 },
 "nbformat": 4,
 "nbformat_minor": 2
}
