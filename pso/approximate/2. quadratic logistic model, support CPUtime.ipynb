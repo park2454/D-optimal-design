{
 "cells": [
  {
   "cell_type": "markdown",
   "metadata": {},
   "source": [
    "## Quadratic Logistic Model, d-optimal"
   ]
  },
  {
   "cell_type": "code",
   "execution_count": null,
   "metadata": {
    "collapsed": true
   },
   "outputs": [],
   "source": []
  },
  {
   "cell_type": "code",
   "execution_count": 1,
   "metadata": {},
   "outputs": [
    {
     "data": {
      "text/plain": [
       "proj (generic function with 1 method)"
      ]
     },
     "execution_count": 1,
     "metadata": {},
     "output_type": "execute_result"
    }
   ],
   "source": [
    "using PyPlot\n",
    "using LinearAlgebra\n",
    "\n",
    "#objective function h to minimize\n",
    "function infmat(x)\n",
    "    n = Int((length(x)+1)/2)\n",
    "    a = x[1:n]\n",
    "    b = x[(n+1):(2*n-1)]\n",
    "    b = [b; 1-sum(b)]\n",
    "    p = length(theta)\n",
    "    mat = zeros(p,p)\n",
    "    for i in 1:n\n",
    "        c1 = a[i]*theta[3]*exp(-theta[1]*a[i])\n",
    "        c2 = -a[i]*theta[3]*exp(-theta[2]*a[i]) \n",
    "        c3 = exp(-theta[2]*a[i])-exp(-theta[1]*a[i])\n",
    "        f = [c1, c2, c3]\n",
    "        mat = mat + b[i] .* f*f'\n",
    "    end\n",
    "    return mat\n",
    "end\n",
    "\n",
    "# projection function onto the design space\n",
    "function proj(x, design)\n",
    "    n = Int((length(x)+1)/2)\n",
    "    a = x[1:n]\n",
    "    b = x[(n+1):(2*n-1)]\n",
    "    b = [b; 1-sum(b)]\n",
    "    \n",
    "    a = max.(a,design[1])\n",
    "    a = min.(a,design[2])\n",
    "    \n",
    "    u = sort(b, rev=true)\n",
    "    j = n\n",
    "    while true\n",
    "        if u[j] + 1/j*(1-cumsum(u)[j]) > 0\n",
    "            break\n",
    "        end\n",
    "        j -= 1\n",
    "    end\n",
    "    lambda = 1/j*(1-cumsum(u)[j])\n",
    "    b = max.(b .+ lambda,0)\n",
    "    b = b[1:(n-1)]\n",
    "    \n",
    "    return [a;b]\n",
    "end"
   ]
  },
  {
   "cell_type": "code",
   "execution_count": 2,
   "metadata": {},
   "outputs": [
    {
     "data": {
      "text/plain": [
       "infmat (generic function with 1 method)"
      ]
     },
     "execution_count": 2,
     "metadata": {},
     "output_type": "execute_result"
    }
   ],
   "source": [
    "#Information matrix for quadratic logistic model\n",
    "function infmat(x)\n",
    "    n = Int((length(x)+1)/2)\n",
    "    a = x[1:n]\n",
    "    b = x[(n+1):(2*n-1)]\n",
    "    b = [b; 1-sum(b)]\n",
    "    p = length(theta)\n",
    "    mat = zeros(p,p)\n",
    "    for i in 1:n\n",
    "        c = exp(theta[1]+theta[2]*(a[i]-theta[3])^2)\n",
    "        f = [1,(a[i]-theta[3])^2,2*theta[2]*(theta[3]-a[i]) ]\n",
    "        mat = mat + b[i] * c/(1+c)^2 * f*f'\n",
    "    end\n",
    "    return mat\n",
    "end"
   ]
  },
  {
   "cell_type": "code",
   "execution_count": 3,
   "metadata": {},
   "outputs": [
    {
     "data": {
      "text/plain": [
       "diter (generic function with 1 method)"
      ]
     },
     "execution_count": 3,
     "metadata": {},
     "output_type": "execute_result"
    }
   ],
   "source": [
    "function diter(k, nptc, niter, design)\n",
    "    #initialize\n",
    "    #srand(1992)\n",
    "    tau = 0.9:(-0.5/niter):0.4\n",
    "    v = zeros(nptc, 2k-1)\n",
    "    x = (design[2]-design[1])*rand(nptc*k) .+ design[1]\n",
    "    x = reshape(x,nptc,k)\n",
    "    w = rand(nptc*(k-1))\n",
    "    w = reshape(w,nptc,k-1)\n",
    "    ptc = hcat(x,w)\n",
    "    for j in 1:nptc\n",
    "        ptc[j,:] = proj(ptc[j,:],design)\n",
    "    end\n",
    "    pbest = ptc\n",
    "    pbesth = zeros(nptc)\n",
    "    for i in 1:nptc\n",
    "        pbesth[i] = det(infmat(pbest[i,:]))\n",
    "    end\n",
    "    gbesth = findmax(pbesth)[1]\n",
    "    gbest = pbest[findmax(pbesth)[2],:]\n",
    "\n",
    "    #iterate\n",
    "    for i in 1:niter # iteration number\n",
    "        for j in 1:nptc # particle number\n",
    "            v[j,:] = tau[i] .*v[j,:] + 2 .*rand(2k-1) .*(pbest[j,:]-ptc[j,:]) + 2 .*rand(2k-1) .*(gbest-ptc[j,:])\n",
    "            ptc[j,:] = ptc[j,:] + v[j,:]\n",
    "            ptc[j,:] = proj(ptc[j,:],design)\n",
    "            fit = det(infmat(ptc[j,:]))\n",
    "            if fit > gbesth\n",
    "                gbest = pbest[j,:] = ptc[j,:]\n",
    "                gbesth = pbesth[j] = fit\n",
    "            elseif fit > pbesth[j]\n",
    "                pbest[j,:] = ptc[j,:]\n",
    "                pbesth[j] = fit\n",
    "            end\n",
    "        end\n",
    "    end\n",
    "    supp = gbest[1:k]\n",
    "    prob = gbest[(k+1):2k-1]\n",
    "    prob = [prob; 1-sum(prob)]\n",
    "    return [supp, prob, gbesth]\n",
    "end"
   ]
  },
  {
   "cell_type": "code",
   "execution_count": 4,
   "metadata": {
    "scrolled": false
   },
   "outputs": [
    {
     "data": {
      "text/plain": [
       "3-element Array{Any,1}:\n",
       "  [4.6152e-9, 0.726988, -0.726988]\n",
       "  [0.333333, 0.333333, 0.333333]  \n",
       " 5.694646494958843e-5             "
      ]
     },
     "execution_count": 4,
     "metadata": {},
     "output_type": "execute_result"
    }
   ],
   "source": [
    "theta = [2,3,0]\n",
    "\n",
    "diter(3, 128, 150, [-3,1])"
   ]
  },
  {
   "cell_type": "code",
   "execution_count": 5,
   "metadata": {},
   "outputs": [
    {
     "data": {
      "text/plain": [
       "10-element Array{Float64,1}:\n",
       " 0.29611992835998535\n",
       " 0.354733943939209  \n",
       " 0.40833401679992676\n",
       " 0.47832489013671875\n",
       " 0.5228722095489502 \n",
       " 0.5836188793182373 \n",
       " 0.6494441032409668 \n",
       " 0.762814998626709  \n",
       " 0.8386690616607666 \n",
       " 0.8963398933410645 "
      ]
     },
     "execution_count": 5,
     "metadata": {},
     "output_type": "execute_result"
    }
   ],
   "source": [
    "result = zeros(10)\n",
    "for nk = 1:10\n",
    "    t1 = time()\n",
    "    diter(nk, 128, 150, [-3,1])\n",
    "    t2 = time()\n",
    "    result[nk] = t2-t1\n",
    "end\n",
    "result"
   ]
  },
  {
   "cell_type": "code",
   "execution_count": 6,
   "metadata": {
    "scrolled": false
   },
   "outputs": [
    {
     "data": {
      "text/plain": [
       "3-element Array{Any,1}:\n",
       "  [-0.57935, -1.0, 0.848815, 1.0]    \n",
       "  [0.333333, 0.333333, 0.333333, 0.0]\n",
       " 0.018228167200968273                "
      ]
     },
     "execution_count": 6,
     "metadata": {},
     "output_type": "execute_result"
    }
   ],
   "source": [
    "theta = [3,-5,0]\n",
    "\n",
    "result = diter(4, 256, 200, [-1,1])"
   ]
  },
  {
   "cell_type": "code",
   "execution_count": 7,
   "metadata": {},
   "outputs": [
    {
     "data": {
      "text/plain": [
       "100-element Array{Float64,1}:\n",
       "  0.7732818126678467\n",
       "  1.0059409141540527\n",
       "  1.0950031280517578\n",
       "  1.2966480255126953\n",
       "  1.3905830383300781\n",
       "  1.543259859085083 \n",
       "  1.721649169921875 \n",
       "  2.0142459869384766\n",
       "  2.2030270099639893\n",
       "  2.3421900272369385\n",
       "  2.5218710899353027\n",
       "  2.686210870742798 \n",
       "  2.882707118988037 \n",
       "  ⋮                 \n",
       " 15.85981798171997  \n",
       " 16.084355115890503 \n",
       " 15.877058029174805 \n",
       " 16.238399982452393 \n",
       " 18.832539081573486 \n",
       " 18.960060119628906 \n",
       " 18.970249891281128 \n",
       " 16.486989974975586 \n",
       " 17.88095498085022  \n",
       " 16.578304052352905 \n",
       " 16.54472589492798  \n",
       " 17.548291206359863 "
      ]
     },
     "execution_count": 7,
     "metadata": {},
     "output_type": "execute_result"
    }
   ],
   "source": [
    "result = zeros(100)\n",
    "for nk = 1:100\n",
    "    t1 = time()\n",
    "    diter(nk, 256, 200, [-1,1])\n",
    "    t2 = time()\n",
    "    result[nk] = t2-t1\n",
    "end\n",
    "result"
   ]
  }
 ],
 "metadata": {
  "kernelspec": {
   "display_name": "Julia 1.1.0",
   "language": "julia",
   "name": "julia-1.1"
  },
  "language_info": {
   "file_extension": ".jl",
   "mimetype": "application/julia",
   "name": "julia",
   "version": "1.1.0"
  }
 },
 "nbformat": 4,
 "nbformat_minor": 2
}
