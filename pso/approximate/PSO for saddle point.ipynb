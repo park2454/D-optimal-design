{
 "cells": [
  {
   "cell_type": "code",
   "execution_count": 7,
   "metadata": {},
   "outputs": [
    {
     "data": {
      "text/plain": [
       "pso (generic function with 1 method)"
      ]
     },
     "execution_count": 7,
     "metadata": {},
     "output_type": "execute_result"
    }
   ],
   "source": [
    "using LinearAlgebra\n",
    "using PyPlot\n",
    "using Random\n",
    "using NPZ\n",
    "using Dates\n",
    "\n",
    "# projection function onto the design space\n",
    "function proj(x)\n",
    "    a = x[1:p*k]\n",
    "    b = x[(1:k) .+ (p*k)]\n",
    "    \n",
    "    a = reshape(a,p,k)\n",
    "    a = max.(a,design[:,1])\n",
    "    a = min.(a,design[:,2])\n",
    "    a = reshape(a,p*k)\n",
    "    \n",
    "    u = sort(b, rev=true)\n",
    "    j = k\n",
    "    while true\n",
    "        if u[j] + 1/j*(1-cumsum(u)[j]) > 0\n",
    "            break\n",
    "        end\n",
    "        j -= 1\n",
    "    end\n",
    "    lambda = 1/j*(1-cumsum(u)[j])\n",
    "    b = max.(b .+ lambda,0)\n",
    "    \n",
    "    return [a;b]\n",
    "end\n",
    "\n",
    "function proj2(x)\n",
    "    x = max.(x,design2[:,1])\n",
    "    x = min.(x,design2[:,2])\n",
    "    return x\n",
    "end\n",
    "\n",
    "function pso2(xx)\n",
    "    #initialize\n",
    "    #srand(1992)\n",
    "    path2 = zeros(niter2)\n",
    "    tau2 = 0.9:(-0.5/niter2):0.4\n",
    "    v2 = zeros(nptc2, p2)\n",
    "    ptc2 = rand(nptc2, p2)\n",
    "    for j2 in 1:p2\n",
    "            ptc2[:,j2] = (design2[j2,2] - design2[j2,1]) * ptc2[:,j2] .+ design2[j2,1]\n",
    "    end\n",
    "    pbesth2 = zeros(nptc2)\n",
    "    pbest2 = ptc2\n",
    "    for j2 in 1:nptc2\n",
    "        pbesth2[j2] = obj(xx,pbest2[j2,:])\n",
    "    end\n",
    "    gbesth2 = findmax(pbesth2)[1]\n",
    "    gbest2 = pbest2[findmax(pbesth2)[2],:]\n",
    "\n",
    "    #iterate\n",
    "    for i2 in 1:niter2 # iteration number\n",
    "        for j2 in 1:nptc2 # particle number\n",
    "            g12 = rand(p2)\n",
    "            g22 = rand(p2)\n",
    "            v2[j2,:] = tau2[i2] .*v2[j2,:] + 2 .* g12 .*(pbest2[j2,:]-ptc2[j2,:]) + 2 .* g22 .*(gbest2-ptc2[j2,:])\n",
    "            ptc2[j2,:] = ptc2[j2,:] + v2[j2,:]\n",
    "            ptc2[j2,:] = proj2(ptc2[j2,:])\n",
    "            fit2 = obj(xx,ptc2[j2,:])\n",
    "            if fit2 > gbesth2\n",
    "                gbesth2 = pbesth2[j2] = fit2\n",
    "                gbest2 = pbest2[j2,:] = ptc2[j2,:]\n",
    "            elseif fit2 > pbesth2[j2]\n",
    "                pbesth2[j2] = fit2\n",
    "                pbest2[j2,:] = ptc2[j2,:]\n",
    "            end\n",
    "        end\n",
    "        path2[i2] = gbesth2\n",
    "    end\n",
    "    return [gbesth2; gbest2; path2]\n",
    "end\n",
    "\n",
    "function pso()\n",
    "    #initialize\n",
    "    #srand(1992)\n",
    "    path = zeros(niter)\n",
    "    tau = 0.9:(-0.5/niter):0.4\n",
    "    v = zeros(nptc, p*k+k)\n",
    "    x = rand(nptc,p*k)\n",
    "    for j in 1:p\n",
    "        x[:,p*(1:k).+(j-p)] = (design[j,2]-design[j,1]) * x[:,p*(1:k).+(j-p)] .+ design[j,1]\n",
    "    end    \n",
    "    w = randexp(nptc,k)\n",
    "    for j in 1:nptc\n",
    "            w[j,:] = w[j,:] ./ sum(w[j,:])\n",
    "    end\n",
    "    ptc = hcat(x,w)\n",
    "    pbest = ptc\n",
    "    pbesth = zeros(nptc)\n",
    "    for j in 1:nptc\n",
    "        pbesth[j] = pso2(pbest[j,:])[1]\n",
    "    end\n",
    "    gbesth = findmin(pbesth)[1]\n",
    "    gbest = pbest[findmin(pbesth)[2],:]\n",
    "\n",
    "    #iterate\n",
    "    for i in 1:niter # iteration number\n",
    "        for j in 1:nptc # particle number\n",
    "            g1 = rand(p*k+k)\n",
    "            g2 = rand(p*k+k)\n",
    "            v[j,:] = tau[i] .*v[j,:] + 2 .* g1 .*(pbest[j,:]-ptc[j,:]) + 2 .* g2 .*(gbest-ptc[j,:])\n",
    "            ptc[j,:] = ptc[j,:] + v[j,:]\n",
    "            ptc[j,:] = proj(ptc[j,:])\n",
    "            fit = pso2(ptc[j,:])[1]\n",
    "            if fit < gbesth\n",
    "                gbest = pbest[j,:] = ptc[j,:]\n",
    "                gbesth = pbesth[j] = fit\n",
    "            elseif fit < pbesth[j]\n",
    "                pbest[j,:] = ptc[j,:]\n",
    "                pbesth[j] = fit\n",
    "            end\n",
    "        end\n",
    "        path[i] = gbesth\n",
    "        print(\".\")\n",
    "    end\n",
    "    \n",
    "    return [gbesth; gbest; path]\n",
    "end"
   ]
  },
  {
   "cell_type": "code",
   "execution_count": 8,
   "metadata": {},
   "outputs": [
    {
     "data": {
      "text/plain": [
       "showplot2 (generic function with 1 method)"
      ]
     },
     "execution_count": 8,
     "metadata": {},
     "output_type": "execute_result"
    }
   ],
   "source": [
    "function showsummary(x)\n",
    "    support = reshape(x[(1:p*k).+1],p,k)\n",
    "    weight = x[(1:k) .+ (p*k+1)]\n",
    "    optimum = x[1]\n",
    "    return [support, weight, optimum]\n",
    "end\n",
    "\n",
    "function showplot(x)\n",
    "    path = x[(1:niter) .+ (p*k+k+1)]\n",
    "    return plot(1:niter, path, color=\"red\", linewidth=2.0, linestyle=\"solid\")\n",
    "end\n",
    "\n",
    "function showsummary2(x)\n",
    "    theta = x[(1:p2).+1]\n",
    "    optimum = x[1]\n",
    "    return [theta, optimum]\n",
    "end\n",
    "\n",
    "function showplot2(x)\n",
    "    path = x[(1:niter2) .+ (p2+1)]\n",
    "    return plot(1:niter2, path, color=\"red\", linewidth=2.0, linestyle=\"solid\")\n",
    "end"
   ]
  },
  {
   "cell_type": "code",
   "execution_count": 9,
   "metadata": {},
   "outputs": [
    {
     "data": {
      "text/plain": [
       "obj (generic function with 1 method)"
      ]
     },
     "execution_count": 9,
     "metadata": {},
     "output_type": "execute_result"
    }
   ],
   "source": [
    "function obj(eta, theta)\n",
    "    t = theta[1]\n",
    "    x = eta[1]\n",
    "    w = eta[2]\n",
    "    m = w*(x^2-t^2)\n",
    "    return m\n",
    "end"
   ]
  },
  {
   "cell_type": "code",
   "execution_count": 10,
   "metadata": {},
   "outputs": [
    {
     "name": "stdout",
     "output_type": "stream",
     "text": [
      "...................................................................................................."
     ]
    },
    {
     "data": {
      "text/plain": [
       "3-element Array{Any,1}:\n",
       "   [-4.54836e-8]        \n",
       "   [1.0]                \n",
       " -1.0627600935440425e-10"
      ]
     },
     "execution_count": 10,
     "metadata": {},
     "output_type": "execute_result"
    }
   ],
   "source": [
    "# outer loop\n",
    "k = 1\n",
    "nptc = 32\n",
    "niter = 100\n",
    "design = [-5 5]\n",
    "p = size(design)[1]\n",
    "\n",
    "# inner loop\n",
    "nptc2 = 64\n",
    "niter2 = 50\n",
    "design2 = [-5 5]\n",
    "p2 = size(design2)[1]\n",
    "\n",
    "result = pso()\n",
    "showsummary(result)"
   ]
  },
  {
   "cell_type": "code",
   "execution_count": 11,
   "metadata": {},
   "outputs": [
    {
     "data": {
      "image/png": "[encoded data removed]",
      "text/plain": [
       "Figure(PyObject <matplotlib.figure.Figure object at 0x7f1050d79550>)"
      ]
     },
     "metadata": {},
     "output_type": "display_data"
    },
    {
     "data": {
      "text/plain": [
       "1-element Array{PyCall.PyObject,1}:\n",
       " PyObject <matplotlib.lines.Line2D object at 0x7f1047a14da0>"
      ]
     },
     "execution_count": 11,
     "metadata": {},
     "output_type": "execute_result"
    }
   ],
   "source": [
    "showplot(result)"
   ]
  },
  {
   "cell_type": "code",
   "execution_count": 12,
   "metadata": {
    "scrolled": true
   },
   "outputs": [
    {
     "data": {
      "text/plain": [
       "2-element Array{Any,1}:\n",
       "   [1.36574e-6]         \n",
       " -1.8652338756901836e-12"
      ]
     },
     "execution_count": 12,
     "metadata": {},
     "output_type": "execute_result"
    }
   ],
   "source": [
    "result2 = pso2([0 1])\n",
    "showsummary2(result2)"
   ]
  },
  {
   "cell_type": "code",
   "execution_count": 13,
   "metadata": {},
   "outputs": [
    {
     "data": {
      "image/png": "[encoded data removed]",
      "text/plain": [
       "Figure(PyObject <matplotlib.figure.Figure object at 0x7f104df41be0>)"
      ]
     },
     "metadata": {},
     "output_type": "display_data"
    },
    {
     "data": {
      "text/plain": [
       "1-element Array{PyCall.PyObject,1}:\n",
       " PyObject <matplotlib.lines.Line2D object at 0x7f104df14f98>"
      ]
     },
     "execution_count": 13,
     "metadata": {},
     "output_type": "execute_result"
    }
   ],
   "source": [
    "showplot2(result2)"
   ]
  },
  {
   "cell_type": "code",
   "execution_count": 14,
   "metadata": {},
   "outputs": [
    {
     "data": {
      "text/plain": [
       "2-element Array{Float64,1}:\n",
       " -4.548359346665323e-8\n",
       "  1.0                 "
      ]
     },
     "execution_count": 14,
     "metadata": {},
     "output_type": "execute_result"
    }
   ],
   "source": [
    "result[2:3]"
   ]
  },
  {
   "cell_type": "code",
   "execution_count": 15,
   "metadata": {
    "scrolled": true
   },
   "outputs": [
    {
     "data": {
      "text/plain": [
       "2-element Array{Any,1}:\n",
       "  [3.75863e-9]         \n",
       " 2.0546299581687237e-15"
      ]
     },
     "execution_count": 15,
     "metadata": {},
     "output_type": "execute_result"
    }
   ],
   "source": [
    "result2 = pso2(result[2:3])\n",
    "showsummary2(result2)"
   ]
  },
  {
   "cell_type": "code",
   "execution_count": 16,
   "metadata": {},
   "outputs": [
    {
     "data": {
      "image/png": "[encoded data removed]",
      "text/plain": [
       "Figure(PyObject <matplotlib.figure.Figure object at 0x7f104debd978>)"
      ]
     },
     "metadata": {},
     "output_type": "display_data"
    },
    {
     "data": {
      "text/plain": [
       "1-element Array{PyCall.PyObject,1}:\n",
       " PyObject <matplotlib.lines.Line2D object at 0x7f104de89710>"
      ]
     },
     "execution_count": 16,
     "metadata": {},
     "output_type": "execute_result"
    }
   ],
   "source": [
    "showplot2(result2)"
   ]
  },
  {
   "cell_type": "code",
   "execution_count": 17,
   "metadata": {},
   "outputs": [
    {
     "data": {
      "text/plain": [
       "1.0"
      ]
     },
     "execution_count": 17,
     "metadata": {},
     "output_type": "execute_result"
    }
   ],
   "source": [
    "result[3]"
   ]
  },
  {
   "cell_type": "code",
   "execution_count": 21,
   "metadata": {},
   "outputs": [
    {
     "data": {
      "image/png": "[encoded data removed]",
      "text/plain": [
       "Figure(PyObject <matplotlib.figure.Figure object at 0x7f104de89fd0>)"
      ]
     },
     "metadata": {},
     "output_type": "display_data"
    },
    {
     "data": {
      "text/plain": [
       "1-element Array{PyCall.PyObject,1}:\n",
       " PyObject <matplotlib.lines.Line2D object at 0x7f104761ba90>"
      ]
     },
     "execution_count": 21,
     "metadata": {},
     "output_type": "execute_result"
    }
   ],
   "source": [
    "function obj(eta, theta)\n",
    "    x = theta[1]\n",
    "    m = -x^4 + 2x^3 - 0.5 + (x-2)^2 + x + 2\n",
    "    return m\n",
    "end\n",
    "\n",
    "# inner loop\n",
    "nptc2 = 3\n",
    "niter2 = 50\n",
    "design2 = [-5 5]\n",
    "p2 = size(design2)[1]\n",
    "\n",
    "pso2(1)\n",
    "showplot2(pso2(1))"
   ]
  }
 ],
 "metadata": {
  "kernelspec": {
   "display_name": "Julia 1.1.0",
   "language": "julia",
   "name": "julia-1.1"
  },
  "language_info": {
   "file_extension": ".jl",
   "mimetype": "application/julia",
   "name": "julia",
   "version": "1.1.0"
  }
 },
 "nbformat": 4,
 "nbformat_minor": 2
}
