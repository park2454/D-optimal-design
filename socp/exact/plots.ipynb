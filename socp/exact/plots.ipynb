{
 "cells": [
  {
   "cell_type": "code",
   "execution_count": 2,
   "metadata": {
    "collapsed": true
   },
   "outputs": [],
   "source": [
    "using Plots"
   ]
  },
  {
   "cell_type": "code",
   "execution_count": 4,
   "metadata": {},
   "outputs": [],
   "source": [
    "x = [-1 -1; -1 1; 0 1; 1 -1; 1 0; 1 1]\n",
    "scatter(x[:,1],x[:,2], legend=false, color=:lightgray)\n",
    "png(\"3level\")"
   ]
  },
  {
   "cell_type": "code",
   "execution_count": 2,
   "metadata": {
    "collapsed": true
   },
   "outputs": [],
   "source": [
    "x = [-1 -1; -1 1; 1 -1; -0.1315 -0.1315; 1 3*0.1315; 3*0.1315 1]\n",
    "p1 = scatter(x[:,1],x[:,2], legend=false, color=:lightgray)\n",
    "x = [-1 -1; -1 1; 1 -1; 1 1; -0.092 0.092; 1 -0.067; 0.067 -1]\n",
    "p2 = scatter(x[:,1],x[:,2], legend=false, color=:lightgray)\n",
    "x = [-1 -1; -1 1; 1 -1; 1 1; 1 0; 0.082 1; 0.082 -1; -0.215 0]\n",
    "p3 = scatter(x[:,1],x[:,2], legend=false, color=:lightgray)\n",
    "x = [-1 -1; -1 0; -1 1; 0 -1; 0 0; 0 1; 1 -1; 1 0; 1 1]\n",
    "p4 = scatter(x[:,1],x[:,2], legend=false, color=:lightgray)\n",
    "plot(p1, p2 ,p3, p4, title =[\"N=6\" \"N=7\" \"N=8\" \"N=9\"], layout=4)\n",
    "png(\"exact\")"
   ]
  },
  {
   "cell_type": "code",
   "execution_count": 3,
   "metadata": {
    "collapsed": true
   },
   "outputs": [],
   "source": [
    "x = [-1 -1; -1 1; 0 1; 1 -1; 1 0; 1 1]\n",
    "p1 = scatter(x[:,1],x[:,2], legend=false, color=:lightgray)\n",
    "x = [-1 -1; -1 1; 0 0; 0 1; 1 -1; 1 0; 1 1]\n",
    "p2 = scatter(x[:,1],x[:,2], legend=false, color=:lightgray)\n",
    "x = [-1 -1; -1 1; 0 -1; 0 0; 0 1; 1 -1; 1 0; 1 1]\n",
    "p3 = scatter(x[:,1],x[:,2], legend=false, color=:lightgray)\n",
    "x = [-1 -1; -1 0; -1 1; 0 -1; 0 0; 0 1; 1 -1; 1 0; 1 1]\n",
    "p4 = scatter(x[:,1],x[:,2], legend=false, color=:lightgray)\n",
    "plot(p1, p2 ,p3, p4, title =[\"N=6\" \"N=7\" \"N=8\" \"N=9\"], layout=4)\n",
    "png(\"level\")"
   ]
  },
  {
   "cell_type": "code",
   "execution_count": 4,
   "metadata": {
    "collapsed": true
   },
   "outputs": [],
   "source": [
    "x = [-1 0; 1 0; 0 -1; 0 1]\n",
    "scatter(x[:,1],x[:,2], color=:green, label=\"1 rep\")\n",
    "x = [0 0]\n",
    "scatter!(x[:,1],x[:,2], color=:blue, label=\"2 rep\")\n",
    "x = [-1 -1; -1 1; 1 -1; 1 1]\n",
    "scatter!(x[:,1],x[:,2], color=:red, label=\"3 rep\")\n",
    "png(\"exact18\")"
   ]
  },
  {
   "cell_type": "code",
   "execution_count": 5,
   "metadata": {},
   "outputs": [
    {
     "name": "stderr",
     "output_type": "stream",
     "text": [
      "┌ Warning: type Convex.Variable does not exist in workspace; reconstructing\n",
      "└ @ JLD2 /DATA/home/ppinsm/.julia/packages/JLD2/KjBIK/src/data.jl:1153\n",
      "┌ Warning: type Convex.AffineVexity does not exist in workspace; reconstructing\n",
      "└ @ JLD2 /DATA/home/ppinsm/.julia/packages/JLD2/KjBIK/src/data.jl:1061\n",
      "┌ Warning: type Convex.NoSign does not exist in workspace; reconstructing\n",
      "└ @ JLD2 /DATA/home/ppinsm/.julia/packages/JLD2/KjBIK/src/data.jl:1061\n",
      "┌ Warning: type Convex.Variable does not exist in workspace; reconstructing\n",
      "└ @ JLD2 /DATA/home/ppinsm/.julia/packages/JLD2/KjBIK/src/data.jl:1153\n",
      "┌ Warning: type Convex.AffineVexity does not exist in workspace; reconstructing\n",
      "└ @ JLD2 /DATA/home/ppinsm/.julia/packages/JLD2/KjBIK/src/data.jl:1061\n",
      "┌ Warning: type Convex.NoSign does not exist in workspace; reconstructing\n",
      "└ @ JLD2 /DATA/home/ppinsm/.julia/packages/JLD2/KjBIK/src/data.jl:1061\n",
      "┌ Warning: type Convex.Variable does not exist in workspace; reconstructing\n",
      "└ @ JLD2 /DATA/home/ppinsm/.julia/packages/JLD2/KjBIK/src/data.jl:1153\n",
      "┌ Warning: type Convex.AffineVexity does not exist in workspace; reconstructing\n",
      "└ @ JLD2 /DATA/home/ppinsm/.julia/packages/JLD2/KjBIK/src/data.jl:1061\n",
      "┌ Warning: type Convex.NoSign does not exist in workspace; reconstructing\n",
      "└ @ JLD2 /DATA/home/ppinsm/.julia/packages/JLD2/KjBIK/src/data.jl:1061\n",
      "┌ Warning: type Convex.Variable does not exist in workspace; reconstructing\n",
      "└ @ JLD2 /DATA/home/ppinsm/.julia/packages/JLD2/KjBIK/src/data.jl:1153\n",
      "┌ Warning: type Convex.AffineVexity does not exist in workspace; reconstructing\n",
      "└ @ JLD2 /DATA/home/ppinsm/.julia/packages/JLD2/KjBIK/src/data.jl:1061\n",
      "┌ Warning: type Convex.NoSign does not exist in workspace; reconstructing\n",
      "└ @ JLD2 /DATA/home/ppinsm/.julia/packages/JLD2/KjBIK/src/data.jl:1061\n"
     ]
    }
   ],
   "source": [
    "using JLD2, FileIO\n",
    "\n",
    "@load \"test6.jld2\"\n",
    "tr = x2[getindex.(findall(x->x>0, w.value),1),:]\n",
    "tr = tr*[0 1; -1 0]'\n",
    "x = [-1 -1; -1 1; 1 -1; -0.1315 -0.1315; 1 3*0.1315; 3*0.1315 1]\n",
    "p1 = scatter(x[:,1],x[:,2], title = \"N=6\", legend=false, color=:blue, alpha=0.3)\n",
    "p1 = scatter!(tr[:,1],tr[:,2], label=\"MISOCP\", color=:red, alpha=0.3)\n",
    "\n",
    "@load \"test7.jld2\"\n",
    "tr = x2[getindex.(findall(x->x>0, w.value),1),:]\n",
    "tr[:,2] = -tr[:,2]\n",
    "x = [-1 -1; -1 1; 1 -1; 1 1; -0.092 0.092; 1 -0.067; 0.067 -1]\n",
    "p2 = scatter(x[:,1],x[:,2], title = \"N=7\", label=\"true\", color=:blue, alpha=0.3)\n",
    "p2 = scatter!(tr[:,1],tr[:,2], label=\"MISOCP\", color=:red, alpha=0.3)\n",
    "\n",
    "@load \"test8.jld2\"\n",
    "tr = x2[getindex.(findall(x->x>0, w.value),1),:]\n",
    "tr = tr*[-1 0; 0 -1]'\n",
    "x = [-1 -1; -1 1; 1 -1; 1 1; 1 0; 0.082 1; 0.082 -1; -0.215 0]\n",
    "p3 = scatter(x[:,1],x[:,2], title = \"N=8\", legend=false, color=:blue, alpha=0.3)\n",
    "p3 = scatter!(tr[:,1],tr[:,2], label=\"MISOCP\", color=:red, alpha=0.3)\n",
    "\n",
    "@load \"test9.jld2\"\n",
    "tr = x2[getindex.(findall(x->x>0, w.value),1),:]\n",
    "x = [-1 -1; -1 0; -1 1; 0 -1; 0 0; 0 1; 1 -1; 1 0; 1 1]\n",
    "p4 = scatter(x[:,1],x[:,2], title = \"N=9\", legend=false, color=:blue, alpha=0.3)\n",
    "p4 = scatter!(tr[:,1],tr[:,2], label=\"MISOCP\", color=:red, alpha=0.3)\n",
    "\n",
    "plot(p1, p2, p3, p4, layout=4)\n",
    "png(\"knot20\")"
   ]
  },
  {
   "cell_type": "code",
   "execution_count": null,
   "metadata": {
    "collapsed": true
   },
   "outputs": [],
   "source": []
  }
 ],
 "metadata": {
  "kernelspec": {
   "display_name": "Julia 1.1.0",
   "language": "julia",
   "name": "julia-1.1"
  },
  "language_info": {
   "file_extension": ".jl",
   "mimetype": "application/julia",
   "name": "julia",
   "version": "1.1.0"
  }
 },
 "nbformat": 4,
 "nbformat_minor": 2
}
