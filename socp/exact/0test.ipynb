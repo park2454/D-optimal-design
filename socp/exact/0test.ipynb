{
 "cells": [
  {
   "cell_type": "code",
   "execution_count": 8,
   "metadata": {
    "collapsed": true
   },
   "outputs": [],
   "source": [
    "res = rand(5,3)\n",
    "for i in 1:1\n",
    "    b = rand(3,6)\n",
    "    res = [res, b]\n",
    "end\n"
   ]
  },
  {
   "cell_type": "code",
   "execution_count": null,
   "metadata": {
    "collapsed": true
   },
   "outputs": [],
   "source": []
  },
  {
   "cell_type": "code",
   "execution_count": 9,
   "metadata": {},
   "outputs": [
    {
     "data": {
      "text/plain": [
       "2"
      ]
     },
     "execution_count": 9,
     "metadata": {},
     "output_type": "execute_result"
    }
   ],
   "source": [
    "length(res)"
   ]
  },
  {
   "cell_type": "code",
   "execution_count": 14,
   "metadata": {},
   "outputs": [
    {
     "data": {
      "text/plain": [
       "10-element Array{Any,1}:\n",
       " #undef\n",
       " #undef\n",
       " #undef\n",
       " #undef\n",
       " #undef\n",
       " #undef\n",
       " #undef\n",
       " #undef\n",
       " #undef\n",
       " #undef"
      ]
     },
     "execution_count": 14,
     "metadata": {},
     "output_type": "execute_result"
    }
   ],
   "source": [
    "v= Array{Any,1}(undef,10)"
   ]
  },
  {
   "cell_type": "code",
   "execution_count": 15,
   "metadata": {},
   "outputs": [
    {
     "data": {
      "text/plain": [
       "3×6 Array{Float64,2}:\n",
       " 0.446902  0.807849  0.501737   0.758816  0.96921   0.187619\n",
       " 0.546427  0.99531   0.908823   0.285574  0.550368  0.856237\n",
       " 0.980813  0.690253  0.0795174  0.337083  0.494488  0.535547"
      ]
     },
     "execution_count": 15,
     "metadata": {},
     "output_type": "execute_result"
    }
   ],
   "source": [
    "v[1] = rand(3,6)"
   ]
  },
  {
   "cell_type": "code",
   "execution_count": 16,
   "metadata": {},
   "outputs": [
    {
     "data": {
      "text/plain": [
       "10-element Array{Any,1}:\n",
       "    [0.4469021929389476 0.8078490466090977 … 0.9692103614195557 0.18761940805340482; 0.5464269418295782 0.9953101487589571 … 0.5503684250017125 0.8562374665384007; 0.9808127657498595 0.6902534982365569 … 0.4944878110150137 0.5355468888399153]\n",
       " #undef                                                                                                                                                                                                                                           \n",
       " #undef                                                                                                                                                                                                                                           \n",
       " #undef                                                                                                                                                                                                                                           \n",
       " #undef                                                                                                                                                                                                                                           \n",
       " #undef                                                                                                                                                                                                                                           \n",
       " #undef                                                                                                                                                                                                                                           \n",
       " #undef                                                                                                                                                                                                                                           \n",
       " #undef                                                                                                                                                                                                                                           \n",
       " #undef                                                                                                                                                                                                                                           "
      ]
     },
     "execution_count": 16,
     "metadata": {},
     "output_type": "execute_result"
    }
   ],
   "source": [
    "v"
   ]
  }
 ],
 "metadata": {
  "kernelspec": {
   "display_name": "Julia 1.2.0",
   "language": "julia",
   "name": "julia-1.2"
  },
  "language_info": {
   "file_extension": ".jl",
   "mimetype": "application/julia",
   "name": "julia",
   "version": "1.2.0"
  }
 },
 "nbformat": 4,
 "nbformat_minor": 2
}
