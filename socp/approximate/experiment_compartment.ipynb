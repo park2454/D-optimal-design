{
 "cells": [
  {
   "cell_type": "code",
   "execution_count": 1,
   "metadata": {
    "scrolled": true
   },
   "outputs": [
    {
     "data": {
      "text/plain": [
       "example(3, [0, 30], f)"
      ]
     },
     "execution_count": 1,
     "metadata": {},
     "output_type": "execute_result"
    }
   ],
   "source": [
    "include(\"functions-Copy1.jl\")\n",
    "\n",
    "function f(x)\n",
    "    theta = [0.05884, 4.298, 21.8]\n",
    "    c1 = x*theta[3]*exp(-theta[1]*x)\n",
    "    c2 = -x*theta[3]*exp(-theta[2]*x) \n",
    "    c3 = exp(-theta[2]*x)-exp(-theta[1]*x)\n",
    "    return [c1; c2; c3]\n",
    "end\n",
    "\n",
    "ex1 = example(3,[0,30],f)"
   ]
  },
  {
   "cell_type": "code",
   "execution_count": 21,
   "metadata": {},
   "outputs": [
    {
     "data": {
      "text/plain": [
       "5×2 Array{Float64,2}:\n",
       " 0.333332      0.2\n",
       " 0.333325      1.4\n",
       " 0.000237661  18.3\n",
       " 0.331934     18.4\n",
       " 0.000980286  18.5"
      ]
     },
     "execution_count": 21,
     "metadata": {},
     "output_type": "execute_result"
    }
   ],
   "source": [
    "res[findall(x->x>10^-4, res[:,1]),:]"
   ]
  },
  {
   "cell_type": "code",
   "execution_count": 15,
   "metadata": {},
   "outputs": [
    {
     "data": {
      "text/plain": [
       "301×2 Array{Float64,2}:\n",
       " 4.39971e-9   0.0\n",
       " 1.17623e-8   0.1\n",
       " 0.333332     0.2\n",
       " 1.64768e-7   0.3\n",
       " 2.79923e-8   0.4\n",
       " 1.78572e-8   0.5\n",
       " 1.67939e-8   0.6\n",
       " 1.93915e-8   0.7\n",
       " 2.55707e-8   0.8\n",
       " 3.73817e-8   0.9\n",
       " 6.05482e-8   1.0\n",
       " 1.14775e-7   1.1\n",
       " 3.13083e-7   1.2\n",
       " ⋮               \n",
       " 1.60417e-8  28.9\n",
       " 1.58136e-8  29.0\n",
       " 1.55917e-8  29.1\n",
       " 1.53757e-8  29.2\n",
       " 1.51653e-8  29.3\n",
       " 1.49605e-8  29.4\n",
       " 1.4761e-8   29.5\n",
       " 1.45666e-8  29.6\n",
       " 1.43772e-8  29.7\n",
       " 1.41926e-8  29.8\n",
       " 1.40125e-8  29.9\n",
       " 1.38369e-8  30.0"
      ]
     },
     "execution_count": 15,
     "metadata": {},
     "output_type": "execute_result"
    }
   ],
   "source": [
    "res[findall(x->x>0, res[:,1]),:]"
   ]
  },
  {
   "cell_type": "code",
   "execution_count": 14,
   "metadata": {},
   "outputs": [
    {
     "name": "stdout",
     "output_type": "stream",
     "text": [
      "MOSEK warning 705: #224 (nearly) zero elements are specified in sparse row ''(2) of matrix 'A'.\n",
      "MOSEK warning 705: #224 (nearly) zero elements are specified in sparse row ''(5) of matrix 'A'.\n",
      "MOSEK warning 705: #224 (nearly) zero elements are specified in sparse row ''(8) of matrix 'A'.\n"
     ]
    },
    {
     "name": "stderr",
     "output_type": "stream",
     "text": [
      "┌ Warning: Problem status Stall; solution may be inaccurate.\n",
      "└ @ Convex /DATA/home/ppinsm/.julia/packages/Convex/6NNC8/src/solution.jl:51\n"
     ]
    },
    {
     "data": {
      "text/plain": [
       "301×2 Array{Float64,2}:\n",
       " 4.39971e-9   0.0\n",
       " 1.17623e-8   0.1\n",
       " 0.333332     0.2\n",
       " 1.64768e-7   0.3\n",
       " 2.79923e-8   0.4\n",
       " 1.78572e-8   0.5\n",
       " 1.67939e-8   0.6\n",
       " 1.93915e-8   0.7\n",
       " 2.55707e-8   0.8\n",
       " 3.73817e-8   0.9\n",
       " 6.05482e-8   1.0\n",
       " 1.14775e-7   1.1\n",
       " 3.13083e-7   1.2\n",
       " ⋮               \n",
       " 1.60417e-8  28.9\n",
       " 1.58136e-8  29.0\n",
       " 1.55917e-8  29.1\n",
       " 1.53757e-8  29.2\n",
       " 1.51653e-8  29.3\n",
       " 1.49605e-8  29.4\n",
       " 1.4761e-8   29.5\n",
       " 1.45666e-8  29.6\n",
       " 1.43772e-8  29.7\n",
       " 1.41926e-8  29.8\n",
       " 1.40125e-8  29.9\n",
       " 1.38369e-8  30.0"
      ]
     },
     "execution_count": 14,
     "metadata": {},
     "output_type": "execute_result"
    }
   ],
   "source": [
    "res = misocp(ex1,300,0)[1]"
   ]
  },
  {
   "cell_type": "code",
   "execution_count": 2,
   "metadata": {},
   "outputs": [
    {
     "name": "stdout",
     "output_type": "stream",
     "text": [
      "MOSEK warning 705: #224 (nearly) zero elements are specified in sparse row ''(605) of matrix 'A'.\n",
      "MOSEK warning 705: #224 (nearly) zero elements are specified in sparse row ''(608) of matrix 'A'.\n",
      "MOSEK warning 705: #224 (nearly) zero elements are specified in sparse row ''(611) of matrix 'A'.\n"
     ]
    },
    {
     "data": {
      "text/plain": [
       "([0.3333749109767016 0.2; 0.3334485702405393 1.4; 0.3331764646600157 18.4], 11.669027181266385)"
      ]
     },
     "execution_count": 2,
     "metadata": {},
     "output_type": "execute_result"
    }
   ],
   "source": [
    "misocp(ex1,300,3)"
   ]
  },
  {
   "cell_type": "code",
   "execution_count": 31,
   "metadata": {
    "collapsed": true
   },
   "outputs": [],
   "source": [
    "using BenchmarkTools"
   ]
  },
  {
   "cell_type": "code",
   "execution_count": 32,
   "metadata": {
    "scrolled": true
   },
   "outputs": [
    {
     "name": "stdout",
     "output_type": "stream",
     "text": [
      "MOSEK warning 705: #224 (nearly) zero elements are specified in sparse row ''(605) of matrix 'A'.\n",
      "MOSEK warning 705: #224 (nearly) zero elements are specified in sparse row ''(608) of matrix 'A'.\n",
      "MOSEK warning 705: #224 (nearly) zero elements are specified in sparse row ''(611) of matrix 'A'.\n",
      "MOSEK warning 705: #224 (nearly) zero elements are specified in sparse row ''(605) of matrix 'A'.\n",
      "MOSEK warning 705: #224 (nearly) zero elements are specified in sparse row ''(608) of matrix 'A'.\n",
      "MOSEK warning 705: #224 (nearly) zero elements are specified in sparse row ''(611) of matrix 'A'.\n",
      "MOSEK warning 705: #224 (nearly) zero elements are specified in sparse row ''(605) of matrix 'A'.\n",
      "MOSEK warning 705: #224 (nearly) zero elements are specified in sparse row ''(608) of matrix 'A'.\n",
      "MOSEK warning 705: #224 (nearly) zero elements are specified in sparse row ''(611) of matrix 'A'.\n",
      "MOSEK warning 705: #224 (nearly) zero elements are specified in sparse row ''(605) of matrix 'A'.\n",
      "MOSEK warning 705: #224 (nearly) zero elements are specified in sparse row ''(608) of matrix 'A'.\n",
      "MOSEK warning 705: #224 (nearly) zero elements are specified in sparse row ''(611) of matrix 'A'.\n",
      "MOSEK warning 705: #224 (nearly) zero elements are specified in sparse row ''(605) of matrix 'A'.\n",
      "MOSEK warning 705: #224 (nearly) zero elements are specified in sparse row ''(608) of matrix 'A'.\n",
      "MOSEK warning 705: #224 (nearly) zero elements are specified in sparse row ''(611) of matrix 'A'.\n",
      "MOSEK warning 705: #224 (nearly) zero elements are specified in sparse row ''(605) of matrix 'A'.\n",
      "MOSEK warning 705: #224 (nearly) zero elements are specified in sparse row ''(608) of matrix 'A'.\n",
      "MOSEK warning 705: #224 (nearly) zero elements are specified in sparse row ''(611) of matrix 'A'.\n",
      "MOSEK warning 705: #224 (nearly) zero elements are specified in sparse row ''(605) of matrix 'A'.\n",
      "MOSEK warning 705: #224 (nearly) zero elements are specified in sparse row ''(608) of matrix 'A'.\n",
      "MOSEK warning 705: #224 (nearly) zero elements are specified in sparse row ''(611) of matrix 'A'.\n"
     ]
    },
    {
     "data": {
      "text/plain": [
       "BenchmarkTools.Trial: \n",
       "  memory estimate:  1.11 GiB\n",
       "  allocs estimate:  1186012\n",
       "  --------------\n",
       "  minimum time:     2.441 s (13.67% GC)\n",
       "  median time:      2.591 s (16.57% GC)\n",
       "  mean time:        2.591 s (16.57% GC)\n",
       "  maximum time:     2.740 s (19.15% GC)\n",
       "  --------------\n",
       "  samples:          2\n",
       "  evals/sample:     1"
      ]
     },
     "execution_count": 32,
     "metadata": {},
     "output_type": "execute_result"
    }
   ],
   "source": [
    "@benchmark misocp(ex1,300,3)\n"
   ]
  },
  {
   "cell_type": "code",
   "execution_count": 24,
   "metadata": {},
   "outputs": [
    {
     "data": {
      "text/plain": [
       "3×2 Array{Float64,2}:\n",
       " 0.333375   0.2\n",
       " 0.333449   1.4\n",
       " 0.333176  18.4"
      ]
     },
     "execution_count": 24,
     "metadata": {},
     "output_type": "execute_result"
    }
   ],
   "source": [
    "res[1]"
   ]
  },
  {
   "cell_type": "code",
   "execution_count": 25,
   "metadata": {},
   "outputs": [
    {
     "data": {
      "text/plain": [
       "11.669027181266385"
      ]
     },
     "execution_count": 25,
     "metadata": {},
     "output_type": "execute_result"
    }
   ],
   "source": [
    "res[2]"
   ]
  },
  {
   "cell_type": "code",
   "execution_count": 26,
   "metadata": {},
   "outputs": [
    {
     "data": {
      "text/plain": [
       "0.9940583436891184"
      ]
     },
     "execution_count": 26,
     "metadata": {},
     "output_type": "execute_result"
    }
   ],
   "source": [
    "11.669027181266385 / 11.738774947515308"
   ]
  },
  {
   "cell_type": "code",
   "execution_count": 22,
   "metadata": {},
   "outputs": [
    {
     "data": {
      "text/plain": [
       "0.9941224453466004"
      ]
     },
     "execution_count": 22,
     "metadata": {},
     "output_type": "execute_result"
    }
   ],
   "source": [
    "11.66977965619733 /  11.738774947515308"
   ]
  },
  {
   "cell_type": "code",
   "execution_count": 14,
   "metadata": {
    "scrolled": false
   },
   "outputs": [
    {
     "ename": "UndefVarError",
     "evalue": "UndefVarError: w not defined",
     "output_type": "error",
     "traceback": [
      "UndefVarError: w not defined",
      "",
      "Stacktrace:",
      " [1] top-level scope at In[14]:1"
     ]
    }
   ],
   "source": [
    "w.value[w.value.>0 ]"
   ]
  },
  {
   "cell_type": "code",
   "execution_count": 15,
   "metadata": {},
   "outputs": [
    {
     "ename": "UndefVarError",
     "evalue": "UndefVarError: w not defined",
     "output_type": "error",
     "traceback": [
      "UndefVarError: w not defined",
      "",
      "Stacktrace:",
      " [1] top-level scope at In[15]:1"
     ]
    }
   ],
   "source": [
    "x[getindex.(findall(x->x>0, w.value),1)]"
   ]
  },
  {
   "cell_type": "code",
   "execution_count": 5,
   "metadata": {},
   "outputs": [
    {
     "data": {
      "text/plain": [
       "35.49286878310965"
      ]
     },
     "execution_count": 5,
     "metadata": {},
     "output_type": "execute_result"
    }
   ],
   "source": [
    "prob.optval^4"
   ]
  },
  {
   "cell_type": "code",
   "execution_count": 6,
   "metadata": {
    "scrolled": true
   },
   "outputs": [
    {
     "data": {
      "text/plain": [
       "0.02194182636201294"
      ]
     },
     "execution_count": 6,
     "metadata": {},
     "output_type": "execute_result"
    }
   ],
   "source": [
    "prob.optval^4/1617.5895386975224"
   ]
  },
  {
   "cell_type": "code",
   "execution_count": 7,
   "metadata": {
    "scrolled": true
   },
   "outputs": [
    {
     "name": "stdout",
     "output_type": "stream",
     "text": [
      "MOSEK warning 705: #12 (nearly) zero elements are specified in sparse row ''(2) of matrix 'A'.\n",
      "MOSEK warning 705: #12 (nearly) zero elements are specified in sparse row ''(5) of matrix 'A'.\n",
      "MOSEK warning 705: #12 (nearly) zero elements are specified in sparse row ''(8) of matrix 'A'.\n",
      "Problem\n",
      "  Name                   :                 \n",
      "  Objective sense        : min             \n",
      "  Type                   : CONIC (conic optimization problem)\n",
      "  Constraints            : 305             \n",
      "  Cones                  : 54              \n",
      "  Scalar variables       : 365             \n",
      "  Matrix variables       : 0               \n",
      "  Integer variables      : 17              \n",
      "\n",
      "Optimizer started.\n",
      "Mixed integer optimizer started.\n",
      "Threads used: 24\n",
      "Presolve started.\n",
      "Presolve terminated. Time = 0.00\n",
      "Presolved problem: 249 variables, 135 constraints, 517 non-zeros\n",
      "Presolved problem: 0 general integer, 17 binary, 232 continuous\n",
      "Clique table size: 0\n",
      "BRANCHES RELAXS   ACT_NDS  DEPTH    BEST_INT_OBJ         BEST_RELAX_OBJ       REL_GAP(%)  TIME  \n",
      "0        2        0        0        NA                   -4.6901145532e-01    NA          0.0   \n",
      "0        2        0        0        -1.1140793132e-03    -4.6901145532e-01    4.20e+04    0.1   \n",
      "0        2        0        0        -8.8471210964e-02    -4.6901145532e-01    430.13      0.2   \n",
      "Cut generation started.\n",
      "0        3        0        0        -8.8471210964e-02    -4.6901145532e-01    430.13      0.2   \n",
      "Cut generation terminated. Time = 0.02\n",
      "9        13       6        3        -4.6686993242e-01    -4.6686993242e-01    0.00e+00    0.3   \n",
      "An optimal solution satisfying the relative gap tolerance of 1.00e-02(%) has been located.\n",
      "The relative gap is 0.00e+00(%).\n",
      "An optimal solution satisfying the absolute gap tolerance of 0.00e+00 has been located.\n",
      "The absolute gap is 0.00e+00.\n",
      "\n",
      "Objective of best integer solution : -4.668699324159e-01     \n",
      "Best objective bound               : -4.668544131747e-01     \n",
      "Construct solution objective       : Not employed\n",
      "Construct solution # roundings     : 0\n",
      "User objective cut value           : 0\n",
      "Number of cuts generated           : 0\n",
      "Number of branches                 : 9\n",
      "Number of relaxations solved       : 13\n",
      "Number of interior point iterations: 370\n",
      "Number of simplex iterations       : 0\n",
      "Time spend presolving the root     : 0.00\n",
      "Time spend in the heuristic        : 0.00\n",
      "Time spend in the sub optimizers   : 0.00\n",
      "  Time spend optimizing the root   : 0.01\n",
      "Mixed integer optimizer terminated. Time: 0.30\n",
      "\n",
      "Optimizer terminated. Time: 0.31    \n",
      "\n",
      "\n",
      "Integer solution solution summary\n",
      "  Problem status  : PRIMAL_FEASIBLE\n",
      "  Solution status : INTEGER_OPTIMAL\n",
      "  Primal.  obj: -4.6686993242e-01   nrm: 8e+03    Viol.  con: 6e-06    var: 0e+00    cones: 0e+00    itg: 0e+00  \n",
      "MOSEK warning 705: #24 (nearly) zero elements are specified in sparse row ''(2) of matrix 'A'.\n",
      "MOSEK warning 705: #24 (nearly) zero elements are specified in sparse row ''(5) of matrix 'A'.\n",
      "MOSEK warning 705: #24 (nearly) zero elements are specified in sparse row ''(8) of matrix 'A'.\n",
      "Problem\n",
      "  Name                   :                 \n",
      "  Objective sense        : min             \n",
      "  Type                   : CONIC (conic optimization problem)\n",
      "  Constraints            : 561             \n",
      "  Cones                  : 102             \n",
      "  Scalar variables       : 685             \n",
      "  Matrix variables       : 0               \n",
      "  Integer variables      : 33              \n",
      "\n",
      "Optimizer started.\n",
      "Mixed integer optimizer started.\n",
      "Threads used: 24\n",
      "Presolve started.\n",
      "Presolve terminated. Time = 0.00\n",
      "Presolved problem: 473 variables, 247 constraints, 989 non-zeros\n",
      "Presolved problem: 0 general integer, 33 binary, 440 continuous\n",
      "Clique table size: 0\n",
      "BRANCHES RELAXS   ACT_NDS  DEPTH    BEST_INT_OBJ         BEST_RELAX_OBJ       REL_GAP(%)  TIME  \n",
      "0        1        0        0        NA                   -2.7103609264e+00    NA          0.0   \n",
      "0        1        0        0        -7.5030757227e-03    -2.7103609264e+00    3.60e+04    0.1   \n",
      "0        1        0        0        -2.7103390492e+00    -2.7103609264e+00    8.07e-04    0.2   \n",
      "An optimal solution satisfying the relative gap tolerance of 1.00e-02(%) has been located.\n",
      "The relative gap is 8.07e-04(%).\n",
      "\n",
      "Objective of best integer solution : -2.710339049210e+00     \n",
      "Best objective bound               : -2.710360926377e+00     \n",
      "Construct solution objective       : Not employed\n",
      "Construct solution # roundings     : 0\n",
      "User objective cut value           : 0\n",
      "Number of cuts generated           : 0\n",
      "Number of branches                 : 0\n",
      "Number of relaxations solved       : 1\n",
      "Number of interior point iterations: 27\n",
      "Number of simplex iterations       : 0\n",
      "Time spend presolving the root     : 0.00\n",
      "Time spend in the heuristic        : 0.00\n",
      "Time spend in the sub optimizers   : 0.00\n",
      "  Time spend optimizing the root   : 0.02\n",
      "Mixed integer optimizer terminated. Time: 0.22\n",
      "\n",
      "Optimizer terminated. Time: 0.22    \n",
      "\n",
      "\n",
      "Integer solution solution summary\n",
      "  Problem status  : PRIMAL_FEASIBLE\n",
      "  Solution status : INTEGER_OPTIMAL\n",
      "  Primal.  obj: -2.7103390492e+00   nrm: 7e+03    Viol.  con: 3e-08    var: 0e+00    cones: 0e+00    itg: 0e+00  \n",
      "MOSEK warning 705: #48 (nearly) zero elements are specified in sparse row ''(2) of matrix 'A'.\n",
      "MOSEK warning 705: #48 (nearly) zero elements are specified in sparse row ''(5) of matrix 'A'.\n",
      "MOSEK warning 705: #48 (nearly) zero elements are specified in sparse row ''(8) of matrix 'A'.\n",
      "Problem\n",
      "  Name                   :                 \n",
      "  Objective sense        : min             \n",
      "  Type                   : CONIC (conic optimization problem)\n",
      "  Constraints            : 1073            \n",
      "  Cones                  : 198             \n",
      "  Scalar variables       : 1325            \n",
      "  Matrix variables       : 0               \n",
      "  Integer variables      : 65              \n",
      "\n",
      "Optimizer started.\n",
      "Mixed integer optimizer started.\n",
      "Threads used: 24\n",
      "Presolve started.\n",
      "Presolve terminated. Time = 0.01\n",
      "Presolved problem: 921 variables, 471 constraints, 1933 non-zeros\n",
      "Presolved problem: 0 general integer, 65 binary, 856 continuous\n",
      "Clique table size: 0\n",
      "BRANCHES RELAXS   ACT_NDS  DEPTH    BEST_INT_OBJ         BEST_RELAX_OBJ       REL_GAP(%)  TIME  \n",
      "0        1        0        0        NA                   -5.3534850375e+00    NA          0.0   \n",
      "0        1        0        0        -1.1601869542e-03    -5.3534850375e+00    4.61e+05    0.2   \n",
      "0        1        0        0        -5.3533450262e+00    -5.3534850375e+00    2.62e-03    0.3   \n",
      "An optimal solution satisfying the relative gap tolerance of 1.00e-02(%) has been located.\n",
      "The relative gap is 2.62e-03(%).\n",
      "\n",
      "Objective of best integer solution : -5.353345026205e+00     \n",
      "Best objective bound               : -5.353485037472e+00     \n",
      "Construct solution objective       : Not employed\n",
      "Construct solution # roundings     : 0\n",
      "User objective cut value           : 0\n",
      "Number of cuts generated           : 0\n",
      "Number of branches                 : 0\n",
      "Number of relaxations solved       : 1\n",
      "Number of interior point iterations: 30\n",
      "Number of simplex iterations       : 0\n",
      "Time spend presolving the root     : 0.01\n",
      "Time spend in the heuristic        : 0.00\n",
      "Time spend in the sub optimizers   : 0.00\n",
      "  Time spend optimizing the root   : 0.03\n",
      "Mixed integer optimizer terminated. Time: 0.33\n",
      "\n",
      "Optimizer terminated. Time: 0.33    \n",
      "\n",
      "\n",
      "Integer solution solution summary\n",
      "  Problem status  : PRIMAL_FEASIBLE\n",
      "  Solution status : INTEGER_OPTIMAL\n",
      "  Primal.  obj: -5.3533450262e+00   nrm: 6e+03    Viol.  con: 1e-08    var: 0e+00    cones: 0e+00    itg: 0e+00  \n",
      "MOSEK warning 705: #96 (nearly) zero elements are specified in sparse row ''(2) of matrix 'A'.\n",
      "MOSEK warning 705: #96 (nearly) zero elements are specified in sparse row ''(5) of matrix 'A'.\n",
      "MOSEK warning 705: #96 (nearly) zero elements are specified in sparse row ''(8) of matrix 'A'.\n",
      "Problem\n",
      "  Name                   :                 \n",
      "  Objective sense        : min             \n",
      "  Type                   : CONIC (conic optimization problem)\n",
      "  Constraints            : 2097            \n",
      "  Cones                  : 390             \n",
      "  Scalar variables       : 2605            \n",
      "  Matrix variables       : 0               \n",
      "  Integer variables      : 129             \n",
      "\n",
      "Optimizer started.\n",
      "Mixed integer optimizer started.\n",
      "Threads used: 24\n",
      "Presolve started.\n",
      "Presolve terminated. Time = 0.02\n",
      "Presolved problem: 1817 variables, 919 constraints, 3821 non-zeros\n",
      "Presolved problem: 0 general integer, 129 binary, 1688 continuous\n",
      "Clique table size: 0\n",
      "BRANCHES RELAXS   ACT_NDS  DEPTH    BEST_INT_OBJ         BEST_RELAX_OBJ       REL_GAP(%)  TIME  \n",
      "0        1        0        0        NA                   -6.3406736756e+00    NA          0.1   \n"
     ]
    },
    {
     "name": "stdout",
     "output_type": "stream",
     "text": [
      "0        1        0        0        -1.7570195305e-03    -6.3406736756e+00    3.61e+05    0.4   \n",
      "0        1        0        0        -6.3405277304e+00    -6.3406736756e+00    2.30e-03    0.7   \n",
      "An optimal solution satisfying the relative gap tolerance of 1.00e-02(%) has been located.\n",
      "The relative gap is 2.30e-03(%).\n",
      "\n",
      "Objective of best integer solution : -6.340527730371e+00     \n",
      "Best objective bound               : -6.340673675635e+00     \n",
      "Construct solution objective       : Not employed\n",
      "Construct solution # roundings     : 0\n",
      "User objective cut value           : 0\n",
      "Number of cuts generated           : 0\n",
      "Number of branches                 : 0\n",
      "Number of relaxations solved       : 1\n",
      "Number of interior point iterations: 30\n",
      "Number of simplex iterations       : 0\n",
      "Time spend presolving the root     : 0.02\n",
      "Time spend in the heuristic        : 0.00\n",
      "Time spend in the sub optimizers   : 0.00\n",
      "  Time spend optimizing the root   : 0.06\n",
      "Mixed integer optimizer terminated. Time: 0.71\n",
      "\n",
      "Optimizer terminated. Time: 0.71    \n",
      "\n",
      "\n",
      "Integer solution solution summary\n",
      "  Problem status  : PRIMAL_FEASIBLE\n",
      "  Solution status : INTEGER_OPTIMAL\n",
      "  Primal.  obj: -6.3405277304e+00   nrm: 6e+03    Viol.  con: 1e-08    var: 0e+00    cones: 0e+00    itg: 0e+00  \n",
      "MOSEK warning 705: #191 (nearly) zero elements are specified in sparse row ''(2) of matrix 'A'.\n",
      "MOSEK warning 705: #191 (nearly) zero elements are specified in sparse row ''(5) of matrix 'A'.\n",
      "MOSEK warning 705: #191 (nearly) zero elements are specified in sparse row ''(8) of matrix 'A'.\n",
      "Problem\n",
      "  Name                   :                 \n",
      "  Objective sense        : min             \n",
      "  Type                   : CONIC (conic optimization problem)\n",
      "  Constraints            : 4145            \n",
      "  Cones                  : 774             \n",
      "  Scalar variables       : 5165            \n",
      "  Matrix variables       : 0               \n",
      "  Integer variables      : 257             \n",
      "\n",
      "Optimizer started.\n",
      "Mixed integer optimizer started.\n",
      "Threads used: 24\n",
      "Presolve started.\n",
      "Presolve terminated. Time = 0.08\n",
      "Presolved problem: 3609 variables, 1815 constraints, 7599 non-zeros\n",
      "Presolved problem: 0 general integer, 257 binary, 3352 continuous\n",
      "Clique table size: 0\n",
      "BRANCHES RELAXS   ACT_NDS  DEPTH    BEST_INT_OBJ         BEST_RELAX_OBJ       REL_GAP(%)  TIME  \n",
      "0        1        0        0        NA                   -6.3407594309e+00    NA          0.2   \n",
      "0        1        0        0        -1.0821678556e-03    -6.3407594309e+00    5.86e+05    0.7   \n",
      "0        1        0        0        -6.3405711380e+00    -6.3407594309e+00    2.97e-03    1.6   \n",
      "An optimal solution satisfying the relative gap tolerance of 1.00e-02(%) has been located.\n",
      "The relative gap is 2.97e-03(%).\n",
      "\n",
      "Objective of best integer solution : -6.340571138034e+00     \n",
      "Best objective bound               : -6.340759430931e+00     \n",
      "Construct solution objective       : Not employed\n",
      "Construct solution # roundings     : 0\n",
      "User objective cut value           : 0\n",
      "Number of cuts generated           : 0\n",
      "Number of branches                 : 0\n",
      "Number of relaxations solved       : 1\n",
      "Number of interior point iterations: 31\n",
      "Number of simplex iterations       : 0\n",
      "Time spend presolving the root     : 0.08\n",
      "Time spend in the heuristic        : 0.00\n",
      "Time spend in the sub optimizers   : 0.00\n",
      "  Time spend optimizing the root   : 0.11\n",
      "Mixed integer optimizer terminated. Time: 1.56\n",
      "\n",
      "Optimizer terminated. Time: 1.57    \n",
      "\n",
      "\n",
      "Integer solution solution summary\n",
      "  Problem status  : PRIMAL_FEASIBLE\n",
      "  Solution status : INTEGER_OPTIMAL\n",
      "  Primal.  obj: -6.3405711380e+00   nrm: 6e+03    Viol.  con: 2e-08    var: 0e+00    cones: 0e+00    itg: 0e+00  \n",
      "MOSEK warning 705: #382 (nearly) zero elements are specified in sparse row ''(2) of matrix 'A'.\n",
      "MOSEK warning 705: #382 (nearly) zero elements are specified in sparse row ''(5) of matrix 'A'.\n",
      "MOSEK warning 705: #382 (nearly) zero elements are specified in sparse row ''(8) of matrix 'A'.\n",
      "Problem\n",
      "  Name                   :                 \n",
      "  Objective sense        : min             \n",
      "  Type                   : CONIC (conic optimization problem)\n",
      "  Constraints            : 8241            \n",
      "  Cones                  : 1542            \n",
      "  Scalar variables       : 10285           \n",
      "  Matrix variables       : 0               \n",
      "  Integer variables      : 513             \n",
      "\n",
      "Optimizer started.\n",
      "Mixed integer optimizer started.\n",
      "Threads used: 24\n",
      "Presolve started.\n",
      "Presolve terminated. Time = 0.34\n",
      "Presolved problem: 7193 variables, 3607 constraints, 15153 non-zeros\n",
      "Presolved problem: 0 general integer, 513 binary, 6680 continuous\n",
      "Clique table size: 0\n",
      "BRANCHES RELAXS   ACT_NDS  DEPTH    BEST_INT_OBJ         BEST_RELAX_OBJ       REL_GAP(%)  TIME  \n",
      "0        1        0        0        NA                   -6.3407568641e+00    NA          0.6   \n",
      "0        1        0        0        -1.0051215058e-03    -6.3407568641e+00    6.31e+05    1.8   \n",
      "0        1        0        0        -1.1350683675e-03    -6.3407568641e+00    5.59e+05    2.9   \n",
      "0        1        0        0        -6.3407942608e+00    -6.3407942608e+00    0.00e+00    3.6   \n",
      "An optimal solution satisfying the relative gap tolerance of 1.00e-02(%) has been located.\n",
      "The relative gap is 0.00e+00(%).\n",
      "An optimal solution satisfying the absolute gap tolerance of 0.00e+00 has been located.\n",
      "The absolute gap is 0.00e+00.\n",
      "\n",
      "Objective of best integer solution : -6.340794260837e+00     \n",
      "Best objective bound               : -6.340756864107e+00     \n",
      "Construct solution objective       : Not employed\n",
      "Construct solution # roundings     : 0\n",
      "User objective cut value           : 0\n",
      "Number of cuts generated           : 0\n",
      "Number of branches                 : 0\n",
      "Number of relaxations solved       : 1\n",
      "Number of interior point iterations: 30\n",
      "Number of simplex iterations       : 0\n",
      "Time spend presolving the root     : 0.34\n",
      "Time spend in the heuristic        : 0.00\n",
      "Time spend in the sub optimizers   : 0.00\n",
      "  Time spend optimizing the root   : 0.23\n",
      "Mixed integer optimizer terminated. Time: 3.59\n",
      "\n",
      "Optimizer terminated. Time: 3.60    \n",
      "\n",
      "\n",
      "Integer solution solution summary\n",
      "  Problem status  : PRIMAL_FEASIBLE\n",
      "  Solution status : INTEGER_OPTIMAL\n",
      "  Primal.  obj: -6.3407942608e+00   nrm: 6e+03    Viol.  con: 3e-08    var: 0e+00    cones: 0e+00    itg: 0e+00  \n",
      "MOSEK warning 705: #764 (nearly) zero elements are specified in sparse row ''(2) of matrix 'A'.\n",
      "MOSEK warning 705: #764 (nearly) zero elements are specified in sparse row ''(5) of matrix 'A'.\n",
      "MOSEK warning 705: #764 (nearly) zero elements are specified in sparse row ''(8) of matrix 'A'.\n",
      "Problem\n",
      "  Name                   :                 \n",
      "  Objective sense        : min             \n",
      "  Type                   : CONIC (conic optimization problem)\n",
      "  Constraints            : 16433           \n",
      "  Cones                  : 3078            \n",
      "  Scalar variables       : 20525           \n",
      "  Matrix variables       : 0               \n",
      "  Integer variables      : 1025            \n",
      "\n",
      "Optimizer started.\n",
      "Mixed integer optimizer started.\n",
      "Threads used: 24\n",
      "Presolve started.\n",
      "Presolve terminated. Time = 1.31\n",
      "Presolved problem: 14361 variables, 7191 constraints, 30261 non-zeros\n",
      "Presolved problem: 0 general integer, 1025 binary, 13336 continuous\n",
      "Clique table size: 0\n",
      "BRANCHES RELAXS   ACT_NDS  DEPTH    BEST_INT_OBJ         BEST_RELAX_OBJ       REL_GAP(%)  TIME  \n",
      "0        1        0        0        NA                   -6.3407527450e+00    NA          1.8   \n",
      "0        1        0        0        -4.1420222835e-03    -6.3407527450e+00    1.53e+05    4.7   \n",
      "0        1        0        0        -6.3407201938e+00    -6.3407527450e+00    5.13e-04    8.7   \n",
      "An optimal solution satisfying the relative gap tolerance of 1.00e-02(%) has been located.\n",
      "The relative gap is 5.13e-04(%).\n",
      "\n",
      "Objective of best integer solution : -6.340720193767e+00     \n",
      "Best objective bound               : -6.340752745046e+00     \n",
      "Construct solution objective       : Not employed\n",
      "Construct solution # roundings     : 0\n",
      "User objective cut value           : 0\n",
      "Number of cuts generated           : 0\n",
      "Number of branches                 : 0\n",
      "Number of relaxations solved       : 1\n",
      "Number of interior point iterations: 35\n",
      "Number of simplex iterations       : 0\n",
      "Time spend presolving the root     : 1.31\n",
      "Time spend in the heuristic        : 0.00\n",
      "Time spend in the sub optimizers   : 0.00\n",
      "  Time spend optimizing the root   : 0.43\n",
      "Mixed integer optimizer terminated. Time: 8.68\n",
      "\n",
      "Optimizer terminated. Time: 8.70    \n",
      "\n",
      "\n",
      "Integer solution solution summary\n",
      "  Problem status  : PRIMAL_FEASIBLE\n",
      "  Solution status : INTEGER_OPTIMAL\n",
      "  Primal.  obj: -6.3407201938e+00   nrm: 6e+03    Viol.  con: 2e-08    var: 0e+00    cones: 0e+00    itg: 0e+00  \n"
     ]
    }
   ],
   "source": [
    "n = [16; 32; 64; 128; 256; 512; 1024]\n",
    "save = zeros(length(n), 3*2+2)\n",
    "for i in 1:length(n)\n",
    "    t1 = time()\n",
    "    misocp(n[i],3,ex1)\n",
    "    solve!(prob, MosekSolver())\n",
    "    t2 = time()\n",
    "    cc = w.value[w.value.>0]\n",
    "    cc = [cc; x[getindex.(findall(x->x>0, w.value),1)]]\n",
    "    cc = [cc; (prob.optval^4/1617.5895386975224)^(1/3)]\n",
    "    cc = [cc; t2-t1]\n",
    "    save[i,:] = cc\n",
    "end"
   ]
  },
  {
   "cell_type": "code",
   "execution_count": 8,
   "metadata": {},
   "outputs": [
    {
     "data": {
      "text/plain": [
       "7×6 Array{Float64,2}:\n",
       " 0.333339  0.333353  0.333308  1.875     3.75     20.625 \n",
       " 0.33334   0.333354  0.333306  0.9375    1.875    18.75  \n",
       " 0.333043  0.333381  0.333576  0.46875   1.40625  18.2813\n",
       " 0.333344  0.333381  0.333275  0.234375  1.40625  18.5156\n",
       " 0.333367  0.333394  0.33324   0.234375  1.40625  18.3984\n",
       " 0.333313  0.333333  0.333354  0.234375  1.40625  18.457 \n",
       " 0.333376  0.333349  0.333275  0.234375  1.40625  18.4277"
      ]
     },
     "execution_count": 8,
     "metadata": {},
     "output_type": "execute_result"
    }
   ],
   "source": [
    "save[:,1:6]"
   ]
  },
  {
   "cell_type": "code",
   "execution_count": 9,
   "metadata": {},
   "outputs": [
    {
     "data": {
      "text/plain": [
       "7×2 Array{Float64,2}:\n",
       " 0.0308535   0.320519\n",
       " 0.321916    0.271826\n",
       " 0.79777     0.410691\n",
       " 0.999719    1.02846 \n",
       " 0.999728    2.46409 \n",
       " 0.999775    6.77908 \n",
       " 0.999759   17.7544  "
      ]
     },
     "execution_count": 9,
     "metadata": {},
     "output_type": "execute_result"
    }
   ],
   "source": [
    "save[:,7:8]"
   ]
  }
 ],
 "metadata": {
  "kernelspec": {
   "display_name": "Julia 1.2.0",
   "language": "julia",
   "name": "julia-1.2"
  },
  "language_info": {
   "file_extension": ".jl",
   "mimetype": "application/julia",
   "name": "julia",
   "version": "1.2.0"
  }
 },
 "nbformat": 4,
 "nbformat_minor": 2
}
