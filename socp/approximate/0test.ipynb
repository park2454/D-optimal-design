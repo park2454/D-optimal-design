{
 "cells": [
  {
   "cell_type": "code",
   "execution_count": 4,
   "metadata": {},
   "outputs": [
    {
     "name": "stderr",
     "output_type": "stream",
     "text": [
      "┌ Info: Recompiling stale cache file /DATA/home/ppinsm/.julia/compiled/v1.2/Plots/ld3vC.ji for Plots [91a5bcdd-55d7-5caf-9e0b-520d859cae80]\n",
      "└ @ Base loading.jl:1240\n"
     ]
    },
    {
     "data": {
      "text/plain": [
       "1-element Array{Symbol,1}:\n",
       " :save"
      ]
     },
     "execution_count": 4,
     "metadata": {},
     "output_type": "execute_result"
    }
   ],
   "source": [
    "using JLD2, FileIO, Plots\n",
    "\n",
    "@load \"exact_save.jld2\""
   ]
  },
  {
   "cell_type": "code",
   "execution_count": 5,
   "metadata": {},
   "outputs": [
    {
     "data": {
      "image/svg+xml": [
       "<?xml version=\"1.0\" encoding=\"utf-8\"?>\n",
       "<svg xmlns=\"http://www.w3.org/2000/svg\" xmlns:xlink=\"http://www.w3.org/1999/xlink\" width=\"600\" height=\"400\" viewBox=\"0 0 2400 1600\">\n",
       "<defs>\n",
       "  <clipPath id=\"clip4700\">\n",
       "    <rect x=\"0\" y=\"0\" width=\"2400\" height=\"1600\"/>\n",
       "  </clipPath>\n",
       "</defs>\n",
       "<path clip-path=\"url(#clip4700)\" d=\"\n",
       "M0 1600 L2400 1600 L2400 0 L0 0  Z\n",
       "  \" fill=\"#ffffff\" fill-rule=\"evenodd\" fill-opacity=\"1\"/>\n",
       "<defs>\n",
       "  <clipPath id=\"clip4701\">\n",
       "    <rect x=\"480\" y=\"0\" width=\"1681\" height=\"1600\"/>\n",
       "  </clipPath>\n",
       "</defs>\n",
       "<path clip-path=\"url(#clip4700)\" d=\"\n",
       "M180.66 1487.47 L2352.76 1487.47 L2352.76 47.2441 L180.66 47.2441  Z\n",
       "  \" fill=\"#ffffff\" fill-rule=\"evenodd\" fill-opacity=\"1\"/>\n",
       "<defs>\n",
       "  <clipPath id=\"clip4702\">\n",
       "    <rect x=\"180\" y=\"47\" width=\"2173\" height=\"1441\"/>\n",
       "  </clipPath>\n",
       "</defs>\n",
       "<polyline clip-path=\"url(#clip4702)\" style=\"stroke:#000000; stroke-width:2; stroke-opacity:0.1; fill:none\" points=\"\n",
       "  601.264,1487.47 601.264,47.2441 \n",
       "  \"/>\n",
       "<polyline clip-path=\"url(#clip4702)\" style=\"stroke:#000000; stroke-width:2; stroke-opacity:0.1; fill:none\" points=\"\n",
       "  1023.77,1487.47 1023.77,47.2441 \n",
       "  \"/>\n",
       "<polyline clip-path=\"url(#clip4702)\" style=\"stroke:#000000; stroke-width:2; stroke-opacity:0.1; fill:none\" points=\"\n",
       "  1446.27,1487.47 1446.27,47.2441 \n",
       "  \"/>\n",
       "<polyline clip-path=\"url(#clip4702)\" style=\"stroke:#000000; stroke-width:2; stroke-opacity:0.1; fill:none\" points=\"\n",
       "  1868.78,1487.47 1868.78,47.2441 \n",
       "  \"/>\n",
       "<polyline clip-path=\"url(#clip4702)\" style=\"stroke:#000000; stroke-width:2; stroke-opacity:0.1; fill:none\" points=\"\n",
       "  2291.28,1487.47 2291.28,47.2441 \n",
       "  \"/>\n",
       "<polyline clip-path=\"url(#clip4702)\" style=\"stroke:#000000; stroke-width:2; stroke-opacity:0.1; fill:none\" points=\"\n",
       "  180.66,1467.85 2352.76,1467.85 \n",
       "  \"/>\n",
       "<polyline clip-path=\"url(#clip4702)\" style=\"stroke:#000000; stroke-width:2; stroke-opacity:0.1; fill:none\" points=\"\n",
       "  180.66,1157.13 2352.76,1157.13 \n",
       "  \"/>\n",
       "<polyline clip-path=\"url(#clip4702)\" style=\"stroke:#000000; stroke-width:2; stroke-opacity:0.1; fill:none\" points=\"\n",
       "  180.66,846.414 2352.76,846.414 \n",
       "  \"/>\n",
       "<polyline clip-path=\"url(#clip4702)\" style=\"stroke:#000000; stroke-width:2; stroke-opacity:0.1; fill:none\" points=\"\n",
       "  180.66,535.695 2352.76,535.695 \n",
       "  \"/>\n",
       "<polyline clip-path=\"url(#clip4702)\" style=\"stroke:#000000; stroke-width:2; stroke-opacity:0.1; fill:none\" points=\"\n",
       "  180.66,224.976 2352.76,224.976 \n",
       "  \"/>\n",
       "<polyline clip-path=\"url(#clip4700)\" style=\"stroke:#000000; stroke-width:4; stroke-opacity:1; fill:none\" points=\"\n",
       "  180.66,1487.47 2352.76,1487.47 \n",
       "  \"/>\n",
       "<polyline clip-path=\"url(#clip4700)\" style=\"stroke:#000000; stroke-width:4; stroke-opacity:1; fill:none\" points=\"\n",
       "  180.66,1487.47 180.66,47.2441 \n",
       "  \"/>\n",
       "<polyline clip-path=\"url(#clip4700)\" style=\"stroke:#000000; stroke-width:4; stroke-opacity:1; fill:none\" points=\"\n",
       "  601.264,1487.47 601.264,1465.87 \n",
       "  \"/>\n",
       "<polyline clip-path=\"url(#clip4700)\" style=\"stroke:#000000; stroke-width:4; stroke-opacity:1; fill:none\" points=\"\n",
       "  1023.77,1487.47 1023.77,1465.87 \n",
       "  \"/>\n",
       "<polyline clip-path=\"url(#clip4700)\" style=\"stroke:#000000; stroke-width:4; stroke-opacity:1; fill:none\" points=\"\n",
       "  1446.27,1487.47 1446.27,1465.87 \n",
       "  \"/>\n",
       "<polyline clip-path=\"url(#clip4700)\" style=\"stroke:#000000; stroke-width:4; stroke-opacity:1; fill:none\" points=\"\n",
       "  1868.78,1487.47 1868.78,1465.87 \n",
       "  \"/>\n",
       "<polyline clip-path=\"url(#clip4700)\" style=\"stroke:#000000; stroke-width:4; stroke-opacity:1; fill:none\" points=\"\n",
       "  2291.28,1487.47 2291.28,1465.87 \n",
       "  \"/>\n",
       "<polyline clip-path=\"url(#clip4700)\" style=\"stroke:#000000; stroke-width:4; stroke-opacity:1; fill:none\" points=\"\n",
       "  180.66,1467.85 213.242,1467.85 \n",
       "  \"/>\n",
       "<polyline clip-path=\"url(#clip4700)\" style=\"stroke:#000000; stroke-width:4; stroke-opacity:1; fill:none\" points=\"\n",
       "  180.66,1157.13 213.242,1157.13 \n",
       "  \"/>\n",
       "<polyline clip-path=\"url(#clip4700)\" style=\"stroke:#000000; stroke-width:4; stroke-opacity:1; fill:none\" points=\"\n",
       "  180.66,846.414 213.242,846.414 \n",
       "  \"/>\n",
       "<polyline clip-path=\"url(#clip4700)\" style=\"stroke:#000000; stroke-width:4; stroke-opacity:1; fill:none\" points=\"\n",
       "  180.66,535.695 213.242,535.695 \n",
       "  \"/>\n",
       "<polyline clip-path=\"url(#clip4700)\" style=\"stroke:#000000; stroke-width:4; stroke-opacity:1; fill:none\" points=\"\n",
       "  180.66,224.976 213.242,224.976 \n",
       "  \"/>\n",
       "<g clip-path=\"url(#clip4700)\">\n",
       "<text style=\"fill:#000000; fill-opacity:1; font-family:Arial,Helvetica Neue,Helvetica,sans-serif; font-size:48px; text-anchor:middle;\" transform=\"rotate(0, 601.264, 1541.47)\" x=\"601.264\" y=\"1541.47\">20</text>\n",
       "</g>\n",
       "<g clip-path=\"url(#clip4700)\">\n",
       "<text style=\"fill:#000000; fill-opacity:1; font-family:Arial,Helvetica Neue,Helvetica,sans-serif; font-size:48px; text-anchor:middle;\" transform=\"rotate(0, 1023.77, 1541.47)\" x=\"1023.77\" y=\"1541.47\">40</text>\n",
       "</g>\n",
       "<g clip-path=\"url(#clip4700)\">\n",
       "<text style=\"fill:#000000; fill-opacity:1; font-family:Arial,Helvetica Neue,Helvetica,sans-serif; font-size:48px; text-anchor:middle;\" transform=\"rotate(0, 1446.27, 1541.47)\" x=\"1446.27\" y=\"1541.47\">60</text>\n",
       "</g>\n",
       "<g clip-path=\"url(#clip4700)\">\n",
       "<text style=\"fill:#000000; fill-opacity:1; font-family:Arial,Helvetica Neue,Helvetica,sans-serif; font-size:48px; text-anchor:middle;\" transform=\"rotate(0, 1868.78, 1541.47)\" x=\"1868.78\" y=\"1541.47\">80</text>\n",
       "</g>\n",
       "<g clip-path=\"url(#clip4700)\">\n",
       "<text style=\"fill:#000000; fill-opacity:1; font-family:Arial,Helvetica Neue,Helvetica,sans-serif; font-size:48px; text-anchor:middle;\" transform=\"rotate(0, 2291.28, 1541.47)\" x=\"2291.28\" y=\"1541.47\">100</text>\n",
       "</g>\n",
       "<g clip-path=\"url(#clip4700)\">\n",
       "<text style=\"fill:#000000; fill-opacity:1; font-family:Arial,Helvetica Neue,Helvetica,sans-serif; font-size:48px; text-anchor:end;\" transform=\"rotate(0, 156.66, 1485.35)\" x=\"156.66\" y=\"1485.35\">0.50</text>\n",
       "</g>\n",
       "<g clip-path=\"url(#clip4700)\">\n",
       "<text style=\"fill:#000000; fill-opacity:1; font-family:Arial,Helvetica Neue,Helvetica,sans-serif; font-size:48px; text-anchor:end;\" transform=\"rotate(0, 156.66, 1174.63)\" x=\"156.66\" y=\"1174.63\">0.75</text>\n",
       "</g>\n",
       "<g clip-path=\"url(#clip4700)\">\n",
       "<text style=\"fill:#000000; fill-opacity:1; font-family:Arial,Helvetica Neue,Helvetica,sans-serif; font-size:48px; text-anchor:end;\" transform=\"rotate(0, 156.66, 863.914)\" x=\"156.66\" y=\"863.914\">1.00</text>\n",
       "</g>\n",
       "<g clip-path=\"url(#clip4700)\">\n",
       "<text style=\"fill:#000000; fill-opacity:1; font-family:Arial,Helvetica Neue,Helvetica,sans-serif; font-size:48px; text-anchor:end;\" transform=\"rotate(0, 156.66, 553.195)\" x=\"156.66\" y=\"553.195\">1.25</text>\n",
       "</g>\n",
       "<g clip-path=\"url(#clip4700)\">\n",
       "<text style=\"fill:#000000; fill-opacity:1; font-family:Arial,Helvetica Neue,Helvetica,sans-serif; font-size:48px; text-anchor:end;\" transform=\"rotate(0, 156.66, 242.476)\" x=\"156.66\" y=\"242.476\">1.50</text>\n",
       "</g>\n",
       "<polyline clip-path=\"url(#clip4702)\" style=\"stroke:#009af9; stroke-width:4; stroke-opacity:1; fill:none\" points=\"\n",
       "  242.135,818.893 263.26,831.427 284.385,821.626 305.51,799.552 326.636,855.705 347.761,835.873 368.886,773.723 390.011,717.665 411.137,857.716 432.262,847.483 \n",
       "  453.387,845.856 474.512,829.716 495.637,815.123 516.763,783.184 537.888,808.311 559.013,776.422 580.138,768.111 601.264,809.569 622.389,809.866 643.514,797.992 \n",
       "  664.639,758.243 685.764,774.492 706.89,784.985 728.015,88.0053 749.14,1435.66 770.265,1436.4 791.391,1437.09 812.516,1436.85 833.641,1424.29 854.766,1432.34 \n",
       "  875.891,1436.65 897.017,1435.52 918.142,1435.7 939.267,1432.62 960.392,1436.1 981.518,1436.84 1002.64,1434.31 1023.77,1437.74 1044.89,1432.85 1066.02,1439.3 \n",
       "  1087.14,1432.94 1108.27,1433.32 1129.39,1433.57 1150.52,1434.68 1171.64,1436.35 1192.77,1435.64 1213.9,1432.35 1235.02,1437.87 1256.15,1436.83 1277.27,1436.69 \n",
       "  1298.4,1437.33 1319.52,1441.1 1340.65,1441.06 1361.77,1435.9 1382.9,1437.2 1404.02,1440.7 1425.15,1426.37 1446.27,1435.21 1467.4,1433.98 1488.52,1432.19 \n",
       "  1509.65,1436.04 1530.77,1444.54 1551.9,1446.71 1573.02,1441.6 1594.15,1440.07 1615.27,1437.52 1636.4,1438.11 1657.52,1439.02 1678.65,1435.33 1699.78,1435.62 \n",
       "  1720.9,1439.41 1742.03,1444.8 1763.15,1438.6 1784.28,1434.53 1805.4,1438.25 1826.53,1434.1 1847.65,1439 1868.78,1438.75 1889.9,1439.32 1911.03,1440.65 \n",
       "  1932.15,1425.01 1953.28,1433.1 1974.4,1439.18 1995.53,1434.5 2016.65,1436.62 2037.78,1437.45 2058.9,1440.16 2080.03,1433.5 2101.15,1435.75 2122.28,1436.43 \n",
       "  2143.4,1432.42 2164.53,1429.58 2185.66,1433.33 2206.78,1440.19 2227.91,1422.47 2249.03,1432.52 2270.16,1435.57 2291.28,1426.94 \n",
       "  \"/>\n",
       "<path clip-path=\"url(#clip4700)\" d=\"\n",
       "M1989.93 251.724 L2280.76 251.724 L2280.76 130.764 L1989.93 130.764  Z\n",
       "  \" fill=\"#ffffff\" fill-rule=\"evenodd\" fill-opacity=\"1\"/>\n",
       "<polyline clip-path=\"url(#clip4700)\" style=\"stroke:#000000; stroke-width:4; stroke-opacity:1; fill:none\" points=\"\n",
       "  1989.93,251.724 2280.76,251.724 2280.76,130.764 1989.93,130.764 1989.93,251.724 \n",
       "  \"/>\n",
       "<polyline clip-path=\"url(#clip4700)\" style=\"stroke:#009af9; stroke-width:4; stroke-opacity:1; fill:none\" points=\"\n",
       "  2013.93,191.244 2157.93,191.244 \n",
       "  \"/>\n",
       "<g clip-path=\"url(#clip4700)\">\n",
       "<text style=\"fill:#000000; fill-opacity:1; font-family:Arial,Helvetica Neue,Helvetica,sans-serif; font-size:48px; text-anchor:start;\" transform=\"rotate(0, 2181.93, 208.744)\" x=\"2181.93\" y=\"208.744\">y1</text>\n",
       "</g>\n",
       "</svg>\n"
      ]
     },
     "execution_count": 5,
     "metadata": {},
     "output_type": "execute_result"
    }
   ],
   "source": [
    "plot(3:100,save[3:100])"
   ]
  },
  {
   "cell_type": "code",
   "execution_count": 68,
   "metadata": {},
   "outputs": [
    {
     "data": {
      "text/plain": [
       "misocp (generic function with 1 method)"
      ]
     },
     "execution_count": 68,
     "metadata": {},
     "output_type": "execute_result"
    }
   ],
   "source": [
    "include(\"functions-Copy1.jl\")"
   ]
  },
  {
   "cell_type": "code",
   "execution_count": 46,
   "metadata": {},
   "outputs": [
    {
     "data": {
      "text/plain": [
       "example(3, [0, 30], f)"
      ]
     },
     "execution_count": 46,
     "metadata": {},
     "output_type": "execute_result"
    }
   ],
   "source": [
    "function f(x)\n",
    "    theta = [0.05884, 4.298, 21.8]\n",
    "    c1 = x*theta[3]*exp(-theta[1]*x)\n",
    "    c2 = -x*theta[3]*exp(-theta[2]*x) \n",
    "    c3 = exp(-theta[2]*x)-exp(-theta[1]*x)\n",
    "    return [c1; c2; c3]\n",
    "end\n",
    "\n",
    "ex1 = example(3,[0,30],f)"
   ]
  },
  {
   "cell_type": "code",
   "execution_count": 53,
   "metadata": {},
   "outputs": [
    {
     "data": {
      "text/plain": [
       "example(4, [0, 10], f)"
      ]
     },
     "execution_count": 53,
     "metadata": {},
     "output_type": "execute_result"
    }
   ],
   "source": [
    "function f(x)\n",
    "    theta = [.2; .2; .2]\n",
    "    c = theta[1]*exp(theta[2]*x) + (1-theta[1])*exp(-theta[3]*x)\n",
    "    f = [1; (exp(theta[2]*x) - exp(-theta[3]*x))/c; theta[1]*x*exp(theta[2]*x)/c; -(1-theta[1])*x*exp(-theta[3]*x)/c]\n",
    "    return f\n",
    "end\n",
    "\n",
    "ex1 = example(4,[0,10],f)"
   ]
  },
  {
   "cell_type": "code",
   "execution_count": 64,
   "metadata": {},
   "outputs": [
    {
     "data": {
      "text/plain": [
       "example(3, [-1, 1], f)"
      ]
     },
     "execution_count": 64,
     "metadata": {},
     "output_type": "execute_result"
    }
   ],
   "source": [
    "function f(x)\n",
    "    theta = [3,-5,0]\n",
    "    c = exp(theta[1]+theta[2]*(x-theta[3])^2)\n",
    "    f = [1,(x-theta[3])^2,2*theta[2]*(theta[3]-x) ]\n",
    "    return sqrt(c)/(1+c)*f\n",
    "end\n",
    "\n",
    "ex1 = example(3, [-1,1], f)"
   ]
  },
  {
   "cell_type": "code",
   "execution_count": 69,
   "metadata": {
    "scrolled": true
   },
   "outputs": [
    {
     "name": "stdout",
     "output_type": "stream",
     "text": [
      "Problem\n",
      "  Name                   :                 \n",
      "  Objective sense        : min             \n",
      "  Type                   : CONIC (conic optimization problem)\n",
      "  Constraints            : 3945            \n",
      "  Cones                  : 906             \n",
      "  Scalar variables       : 5744            \n",
      "  Matrix variables       : 0               \n",
      "  Integer variables      : 0               \n",
      "\n",
      "Optimizer started.\n",
      "Presolve started.\n",
      "Linear dependency checker started.\n",
      "Linear dependency checker terminated.\n",
      "Eliminator started.\n",
      "Freed constraints in eliminator : 906\n",
      "Eliminator terminated.\n",
      "Eliminator started.\n",
      "Freed constraints in eliminator : 0\n",
      "Eliminator terminated.\n",
      "Eliminator - tries                  : 2                 time                   : 0.00            \n",
      "Lin. dep.  - tries                  : 1                 time                   : 0.00            \n",
      "Lin. dep.  - number                 : 0               \n",
      "Presolve terminated. Time: 0.01    \n",
      "Problem\n",
      "  Name                   :                 \n",
      "  Objective sense        : min             \n",
      "  Type                   : CONIC (conic optimization problem)\n",
      "  Constraints            : 3945            \n",
      "  Cones                  : 906             \n",
      "  Scalar variables       : 5744            \n",
      "  Matrix variables       : 0               \n",
      "  Integer variables      : 0               \n",
      "\n",
      "Optimizer  - threads                : 24              \n",
      "Optimizer  - solved problem         : the primal      \n",
      "Optimizer  - Constraints            : 916\n",
      "Optimizer  - Cones                  : 906\n",
      "Optimizer  - Scalar variables       : 3929              conic                  : 2718            \n",
      "Optimizer  - Semi-definite variables: 0                 scalarized             : 0               \n",
      "Factor     - setup time             : 0.01              dense det. time        : 0.00            \n",
      "Factor     - ML order time          : 0.00              GP order time          : 0.00            \n",
      "Factor     - nonzeros before factor : 7270              after factor           : 8502            \n",
      "Factor     - dense dim.             : 0                 flops                  : 1.33e+05        \n",
      "ITE PFEAS    DFEAS    GFEAS    PRSTATUS   POBJ              DOBJ              MU       TIME  \n",
      "0   1.0e+00  1.0e+00  1.0e+00  0.00e+00   0.000000000e+00   0.000000000e+00   1.0e+00  0.02  \n",
      "1   4.8e-01  4.8e-01  7.5e-02  2.28e+00   -1.305734760e-01  -3.396980983e-01  4.8e-01  0.02  \n",
      "2   4.2e-01  4.2e-01  8.6e-02  4.21e+00   -3.392347759e-01  -5.098001959e-01  4.2e-01  0.02  \n",
      "3   2.7e-01  2.7e-01  6.0e-02  2.80e+00   -7.915056475e-01  -8.610241437e-01  2.7e-01  0.02  \n",
      "4   1.9e-01  1.9e-01  6.7e-02  3.16e-01   -1.609192881e+00  -1.667533711e+00  1.9e-01  0.02  \n",
      "5   7.8e-02  7.8e-02  1.0e-02  1.30e+00   -1.573614913e+00  -1.610696056e+00  7.8e-02  0.02  \n",
      "6   5.2e-02  5.2e-02  5.1e-03  1.26e+00   -1.346523253e+00  -1.368198386e+00  5.2e-02  0.03  \n",
      "7   3.6e-02  3.6e-02  2.6e-03  1.20e+00   -1.274003663e+00  -1.287228209e+00  3.6e-02  0.03  \n",
      "8   1.0e-02  1.0e-02  3.3e-04  1.39e+00   -9.615424101e-01  -9.645604370e-01  1.0e-02  0.03  \n",
      "9   4.9e-03  4.9e-03  1.1e-04  1.33e+00   -7.778780039e-01  -7.791367260e-01  4.9e-03  0.03  \n",
      "10  3.5e-03  3.5e-03  7.3e-05  9.33e-01   -7.142333885e-01  -7.151402614e-01  3.5e-03  0.03  \n",
      "11  1.9e-03  1.9e-03  3.1e-05  1.04e+00   -6.367662642e-01  -6.372464263e-01  1.9e-03  0.03  \n",
      "12  8.2e-04  8.2e-04  1.1e-05  8.04e-01   -5.644653653e-01  -5.646802913e-01  8.2e-04  0.04  \n",
      "13  5.5e-04  5.5e-04  6.3e-06  7.22e-01   -5.360867414e-01  -5.362361900e-01  5.5e-04  0.04  \n",
      "14  3.0e-04  3.0e-04  2.9e-06  6.48e-01   -5.028648713e-01  -5.029501554e-01  3.0e-04  0.04  \n",
      "15  1.8e-04  1.8e-04  1.6e-06  5.66e-01   -4.768478270e-01  -4.769002825e-01  1.8e-04  0.04  \n",
      "16  6.5e-05  6.5e-05  4.2e-07  5.72e-01   -4.431012553e-01  -4.431158517e-01  6.5e-05  0.04  \n",
      "17  2.5e-05  2.5e-05  1.3e-07  4.87e-01   -4.174802722e-01  -4.174804534e-01  2.5e-05  0.04  \n",
      "18  8.8e-06  8.8e-06  3.8e-08  4.88e-01   -3.996760917e-01  -3.996713781e-01  8.8e-06  0.05  \n",
      "19  4.1e-06  4.1e-06  1.5e-08  4.58e-01   -3.897837051e-01  -3.897781598e-01  4.1e-06  0.05  \n",
      "20  1.9e-06  1.9e-06  5.8e-09  5.14e-01   -3.836112412e-01  -3.836068272e-01  1.9e-06  0.05  \n",
      "21  9.1e-07  9.1e-07  2.2e-09  5.48e-01   -3.797851683e-01  -3.797818444e-01  9.1e-07  0.05  \n",
      "22  6.1e-07  6.1e-07  1.3e-09  7.02e-01   -3.789029742e-01  -3.789005033e-01  6.1e-07  0.05  \n",
      "23  2.3e-07  2.2e-07  3.1e-10  7.49e-01   -3.775507405e-01  -3.775495482e-01  2.2e-07  0.05  \n",
      "24  1.4e-07  1.0e-07  1.0e-10  8.70e-01   -3.773090826e-01  -3.773084583e-01  1.0e-07  0.05  \n",
      "25  3.1e-08  3.1e-08  1.7e-11  9.28e-01   -3.771710759e-01  -3.771708649e-01  3.1e-08  0.06  \n",
      "26  1.2e-08  1.2e-08  4.1e-12  9.79e-01   -3.771558137e-01  -3.771557282e-01  1.2e-08  0.06  \n",
      "27  9.9e-09  2.0e-09  2.9e-13  9.90e-01   -3.771463132e-01  -3.771462985e-01  2.0e-09  0.06  \n",
      "28  1.1e-08  1.9e-09  2.7e-13  1.00e+00   -3.771462498e-01  -3.771462358e-01  1.9e-09  0.07  \n",
      "29  8.3e-09  1.7e-09  2.3e-13  1.00e+00   -3.771461262e-01  -3.771461135e-01  1.7e-09  0.07  \n",
      "Optimizer terminated. Time: 0.07    \n",
      "\n"
     ]
    },
    {
     "data": {
      "text/plain": [
       "([2.5617446214213514e-6 -1.0; 3.086225641199941e-6 -0.9933333333333333; … ; 3.0862256412025492e-6 0.9933333333333333; 2.561744621421005e-6 1.0], 0.2724872598619592)"
      ]
     },
     "execution_count": 69,
     "metadata": {},
     "output_type": "execute_result"
    }
   ],
   "source": [
    "res = misocp(ex1,300,0)"
   ]
  },
  {
   "cell_type": "code",
   "execution_count": 70,
   "metadata": {
    "scrolled": true
   },
   "outputs": [
    {
     "data": {
      "text/plain": [
       "301-element Array{Float64,1}:\n",
       " 2.5617446214213514e-6 \n",
       " 3.086225641199941e-6  \n",
       " 3.7956474601957653e-6 \n",
       " 4.786176457305046e-6  \n",
       " 6.225226585865082e-6  \n",
       " 8.425682288435492e-6  \n",
       " 1.2029684343726841e-5 \n",
       " 1.8537239921714246e-5 \n",
       " 3.218748748090451e-5  \n",
       " 6.932164647238177e-5  \n",
       " 0.00025012805217746945\n",
       " 0.014620456819233373  \n",
       " 0.28125860014301846   \n",
       " ⋮                     \n",
       " 0.014620456822265442  \n",
       " 0.00025012805217695814\n",
       " 6.932164647159267e-5  \n",
       " 3.218748748083838e-5  \n",
       " 1.8537239921747205e-5 \n",
       " 1.2029684343738385e-5 \n",
       " 8.425682288436433e-6  \n",
       " 6.225226585863118e-6  \n",
       " 4.786176457306775e-6  \n",
       " 3.7956474601980138e-6 \n",
       " 3.0862256412025492e-6 \n",
       " 2.561744621421005e-6  "
      ]
     },
     "execution_count": 70,
     "metadata": {},
     "output_type": "execute_result"
    }
   ],
   "source": [
    "vec1 = res[1][:,1]"
   ]
  },
  {
   "cell_type": "code",
   "execution_count": 71,
   "metadata": {},
   "outputs": [
    {
     "data": {
      "text/plain": [
       "0.45117903285704164"
      ]
     },
     "execution_count": 71,
     "metadata": {},
     "output_type": "execute_result"
    }
   ],
   "source": [
    "norm(vec1)"
   ]
  },
  {
   "cell_type": "code",
   "execution_count": 72,
   "metadata": {},
   "outputs": [
    {
     "data": {
      "text/plain": [
       "8-element Array{Float64,1}:\n",
       " 0.014620456819233373\n",
       " 0.28125860014301846 \n",
       " 0.13480845974235012 \n",
       " 0.06546670544843387 \n",
       " 0.06546670537589899 \n",
       " 0.13480845981425693 \n",
       " 0.28125860013997533 \n",
       " 0.014620456822265442"
      ]
     },
     "execution_count": 72,
     "metadata": {},
     "output_type": "execute_result"
    }
   ],
   "source": [
    "vec1[vec1 .> 0.01]"
   ]
  },
  {
   "cell_type": "code",
   "execution_count": 65,
   "metadata": {
    "scrolled": true
   },
   "outputs": [
    {
     "name": "stdout",
     "output_type": "stream",
     "text": [
      "Problem\n",
      "  Name                   :                 \n",
      "  Objective sense        : min             \n",
      "  Type                   : CONIC (conic optimization problem)\n",
      "  Constraints            : 3945            \n",
      "  Cones                  : 906             \n",
      "  Scalar variables       : 5744            \n",
      "  Matrix variables       : 0               \n",
      "  Integer variables      : 0               \n",
      "\n",
      "Optimizer started.\n",
      "Presolve started.\n",
      "Linear dependency checker started.\n",
      "Linear dependency checker terminated.\n",
      "Eliminator started.\n",
      "Freed constraints in eliminator : 906\n",
      "Eliminator terminated.\n",
      "Eliminator started.\n",
      "Freed constraints in eliminator : 0\n",
      "Eliminator terminated.\n",
      "Eliminator - tries                  : 2                 time                   : 0.00            \n",
      "Lin. dep.  - tries                  : 1                 time                   : 0.00            \n",
      "Lin. dep.  - number                 : 0               \n",
      "Presolve terminated. Time: 0.01    \n",
      "Problem\n",
      "  Name                   :                 \n",
      "  Objective sense        : min             \n",
      "  Type                   : CONIC (conic optimization problem)\n",
      "  Constraints            : 3945            \n",
      "  Cones                  : 906             \n",
      "  Scalar variables       : 5744            \n",
      "  Matrix variables       : 0               \n",
      "  Integer variables      : 0               \n",
      "\n",
      "Optimizer  - threads                : 24              \n",
      "Optimizer  - solved problem         : the primal      \n",
      "Optimizer  - Constraints            : 916\n",
      "Optimizer  - Cones                  : 906\n",
      "Optimizer  - Scalar variables       : 3929              conic                  : 2718            \n",
      "Optimizer  - Semi-definite variables: 0                 scalarized             : 0               \n",
      "Factor     - setup time             : 0.01              dense det. time        : 0.00            \n",
      "Factor     - ML order time          : 0.00              GP order time          : 0.00            \n",
      "Factor     - nonzeros before factor : 7270              after factor           : 8502            \n",
      "Factor     - dense dim.             : 0                 flops                  : 1.33e+05        \n",
      "ITE PFEAS    DFEAS    GFEAS    PRSTATUS   POBJ              DOBJ              MU       TIME  \n",
      "0   1.0e+00  1.0e+00  1.0e+00  0.00e+00   0.000000000e+00   0.000000000e+00   1.0e+00  0.02  \n",
      "1   4.8e-01  4.8e-01  7.5e-02  2.28e+00   -1.305734760e-01  -3.396980983e-01  4.8e-01  0.02  \n",
      "2   4.2e-01  4.2e-01  8.6e-02  4.21e+00   -3.392347759e-01  -5.098001959e-01  4.2e-01  0.02  \n",
      "3   2.7e-01  2.7e-01  6.0e-02  2.80e+00   -7.915056475e-01  -8.610241437e-01  2.7e-01  0.02  \n",
      "4   1.9e-01  1.9e-01  6.7e-02  3.16e-01   -1.609192881e+00  -1.667533711e+00  1.9e-01  0.02  \n",
      "5   7.8e-02  7.8e-02  1.0e-02  1.30e+00   -1.573614913e+00  -1.610696056e+00  7.8e-02  0.03  \n",
      "6   5.2e-02  5.2e-02  5.1e-03  1.26e+00   -1.346523253e+00  -1.368198386e+00  5.2e-02  0.03  \n",
      "7   3.6e-02  3.6e-02  2.6e-03  1.20e+00   -1.274003663e+00  -1.287228209e+00  3.6e-02  0.03  \n",
      "8   1.0e-02  1.0e-02  3.3e-04  1.39e+00   -9.615424101e-01  -9.645604370e-01  1.0e-02  0.03  \n",
      "9   4.9e-03  4.9e-03  1.1e-04  1.33e+00   -7.778780039e-01  -7.791367260e-01  4.9e-03  0.03  \n",
      "10  3.5e-03  3.5e-03  7.3e-05  9.33e-01   -7.142333885e-01  -7.151402614e-01  3.5e-03  0.03  \n",
      "11  1.9e-03  1.9e-03  3.1e-05  1.04e+00   -6.367662642e-01  -6.372464263e-01  1.9e-03  0.04  \n",
      "12  8.2e-04  8.2e-04  1.1e-05  8.04e-01   -5.644653653e-01  -5.646802913e-01  8.2e-04  0.04  \n",
      "13  5.5e-04  5.5e-04  6.3e-06  7.22e-01   -5.360867414e-01  -5.362361900e-01  5.5e-04  0.04  \n",
      "14  3.0e-04  3.0e-04  2.9e-06  6.48e-01   -5.028648713e-01  -5.029501554e-01  3.0e-04  0.04  \n",
      "15  1.8e-04  1.8e-04  1.6e-06  5.66e-01   -4.768478270e-01  -4.769002825e-01  1.8e-04  0.04  \n",
      "16  6.5e-05  6.5e-05  4.2e-07  5.72e-01   -4.431012553e-01  -4.431158517e-01  6.5e-05  0.04  \n",
      "17  2.5e-05  2.5e-05  1.3e-07  4.87e-01   -4.174802722e-01  -4.174804534e-01  2.5e-05  0.04  \n",
      "18  8.8e-06  8.8e-06  3.8e-08  4.88e-01   -3.996760917e-01  -3.996713781e-01  8.8e-06  0.05  \n",
      "19  4.1e-06  4.1e-06  1.5e-08  4.58e-01   -3.897837051e-01  -3.897781598e-01  4.1e-06  0.05  \n",
      "20  1.9e-06  1.9e-06  5.8e-09  5.14e-01   -3.836112412e-01  -3.836068272e-01  1.9e-06  0.05  \n",
      "21  9.1e-07  9.1e-07  2.2e-09  5.48e-01   -3.797851683e-01  -3.797818444e-01  9.1e-07  0.05  \n",
      "22  6.1e-07  6.1e-07  1.3e-09  7.02e-01   -3.789029742e-01  -3.789005033e-01  6.1e-07  0.05  \n",
      "23  2.3e-07  2.2e-07  3.1e-10  7.49e-01   -3.775507405e-01  -3.775495482e-01  2.2e-07  0.05  \n",
      "24  1.4e-07  1.0e-07  1.0e-10  8.70e-01   -3.773090826e-01  -3.773084583e-01  1.0e-07  0.06  \n",
      "25  3.1e-08  3.1e-08  1.7e-11  9.28e-01   -3.771710759e-01  -3.771708649e-01  3.1e-08  0.06  \n",
      "26  1.2e-08  1.2e-08  4.1e-12  9.79e-01   -3.771558137e-01  -3.771557282e-01  1.2e-08  0.06  \n",
      "27  9.9e-09  2.0e-09  2.9e-13  9.90e-01   -3.771463132e-01  -3.771462985e-01  2.0e-09  0.06  \n",
      "28  1.1e-08  1.9e-09  2.7e-13  1.00e+00   -3.771462498e-01  -3.771462358e-01  1.9e-09  0.07  \n",
      "29  8.3e-09  1.7e-09  2.3e-13  1.00e+00   -3.771461262e-01  -3.771461135e-01  1.7e-09  0.07  \n",
      "Optimizer terminated. Time: 0.07    \n",
      "\n"
     ]
    },
    {
     "data": {
      "text/plain": [
       "([2.5617446214213514e-6 -1.0; 3.086225641199941e-6 -0.9933333333333333; … ; 3.0862256412025492e-6 0.9933333333333333; 2.561744621421005e-6 1.0], 0.2724872598619592)"
      ]
     },
     "execution_count": 65,
     "metadata": {},
     "output_type": "execute_result"
    }
   ],
   "source": [
    "res = misocp(ex1,300,0)"
   ]
  },
  {
   "cell_type": "code",
   "execution_count": 66,
   "metadata": {
    "scrolled": true
   },
   "outputs": [
    {
     "data": {
      "text/plain": [
       "301-element Array{Float64,1}:\n",
       " 2.5617446214213514e-6 \n",
       " 3.086225641199941e-6  \n",
       " 3.7956474601957653e-6 \n",
       " 4.786176457305046e-6  \n",
       " 6.225226585865082e-6  \n",
       " 8.425682288435492e-6  \n",
       " 1.2029684343726841e-5 \n",
       " 1.8537239921714246e-5 \n",
       " 3.218748748090451e-5  \n",
       " 6.932164647238177e-5  \n",
       " 0.00025012805217746945\n",
       " 0.014620456819233373  \n",
       " 0.28125860014301846   \n",
       " ⋮                     \n",
       " 0.014620456822265442  \n",
       " 0.00025012805217695814\n",
       " 6.932164647159267e-5  \n",
       " 3.218748748083838e-5  \n",
       " 1.8537239921747205e-5 \n",
       " 1.2029684343738385e-5 \n",
       " 8.425682288436433e-6  \n",
       " 6.225226585863118e-6  \n",
       " 4.786176457306775e-6  \n",
       " 3.7956474601980138e-6 \n",
       " 3.0862256412025492e-6 \n",
       " 2.561744621421005e-6  "
      ]
     },
     "execution_count": 66,
     "metadata": {},
     "output_type": "execute_result"
    }
   ],
   "source": [
    "vec2 = res[1][:,1]"
   ]
  },
  {
   "cell_type": "code",
   "execution_count": 67,
   "metadata": {},
   "outputs": [
    {
     "data": {
      "text/plain": [
       "8-element Array{Float64,1}:\n",
       " 0.014620456819233373\n",
       " 0.28125860014301846 \n",
       " 0.13480845974235012 \n",
       " 0.06546670544843387 \n",
       " 0.06546670537589899 \n",
       " 0.13480845981425693 \n",
       " 0.28125860013997533 \n",
       " 0.014620456822265442"
      ]
     },
     "execution_count": 67,
     "metadata": {},
     "output_type": "execute_result"
    }
   ],
   "source": [
    "vec2[vec2 .> 0.01]"
   ]
  },
  {
   "cell_type": "code",
   "execution_count": null,
   "metadata": {
    "collapsed": true
   },
   "outputs": [],
   "source": []
  }
 ],
 "metadata": {
  "kernelspec": {
   "display_name": "Julia 1.2.0",
   "language": "julia",
   "name": "julia-1.2"
  },
  "language_info": {
   "file_extension": ".jl",
   "mimetype": "application/julia",
   "name": "julia",
   "version": "1.2.0"
  }
 },
 "nbformat": 4,
 "nbformat_minor": 2
}
